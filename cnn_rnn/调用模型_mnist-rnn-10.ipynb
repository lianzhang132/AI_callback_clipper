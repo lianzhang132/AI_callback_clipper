{
 "cells": [
  {
   "cell_type": "code",
   "execution_count": 1,
   "metadata": {
    "scrolled": false
   },
   "outputs": [
    {
     "name": "stderr",
     "output_type": "stream",
     "text": [
      "/usr/local/lib/python3.6/site-packages/pandas/compat/__init__.py:117: UserWarning: Could not import the lzma module. Your installed Python is incomplete. Attempting to use lzma compression will result in a RuntimeError.\n",
      "  warnings.warn(msg)\n"
     ]
    },
    {
     "name": "stdout",
     "output_type": "stream",
     "text": [
      "WARNING:tensorflow:From <ipython-input-1-0fcde3bb405a>:8: read_data_sets (from tensorflow.contrib.learn.python.learn.datasets.mnist) is deprecated and will be removed in a future version.\n",
      "Instructions for updating:\n",
      "Please use alternatives such as official/mnist/dataset.py from tensorflow/models.\n",
      "WARNING:tensorflow:From /usr/local/lib/python3.6/site-packages/tensorflow_core/contrib/learn/python/learn/datasets/mnist.py:260: maybe_download (from tensorflow.contrib.learn.python.learn.datasets.base) is deprecated and will be removed in a future version.\n",
      "Instructions for updating:\n",
      "Please write your own downloading logic.\n",
      "WARNING:tensorflow:From /usr/local/lib/python3.6/site-packages/tensorflow_core/contrib/learn/python/learn/datasets/mnist.py:262: extract_images (from tensorflow.contrib.learn.python.learn.datasets.mnist) is deprecated and will be removed in a future version.\n",
      "Instructions for updating:\n",
      "Please use tf.data to implement this functionality.\n",
      "Extracting /root/code/MNIST_data/train-images-idx3-ubyte.gz\n",
      "WARNING:tensorflow:From /usr/local/lib/python3.6/site-packages/tensorflow_core/contrib/learn/python/learn/datasets/mnist.py:267: extract_labels (from tensorflow.contrib.learn.python.learn.datasets.mnist) is deprecated and will be removed in a future version.\n",
      "Instructions for updating:\n",
      "Please use tf.data to implement this functionality.\n",
      "Extracting /root/code/MNIST_data/train-labels-idx1-ubyte.gz\n",
      "WARNING:tensorflow:From /usr/local/lib/python3.6/site-packages/tensorflow_core/contrib/learn/python/learn/datasets/mnist.py:110: dense_to_one_hot (from tensorflow.contrib.learn.python.learn.datasets.mnist) is deprecated and will be removed in a future version.\n",
      "Instructions for updating:\n",
      "Please use tf.one_hot on tensors.\n",
      "Extracting /root/code/MNIST_data/t10k-images-idx3-ubyte.gz\n",
      "Extracting /root/code/MNIST_data/t10k-labels-idx1-ubyte.gz\n",
      "WARNING:tensorflow:From /usr/local/lib/python3.6/site-packages/tensorflow_core/contrib/learn/python/learn/datasets/mnist.py:290: DataSet.__init__ (from tensorflow.contrib.learn.python.learn.datasets.mnist) is deprecated and will be removed in a future version.\n",
      "Instructions for updating:\n",
      "Please use alternatives such as official/mnist/dataset.py from tensorflow/models.\n",
      "WARNING:tensorflow:From <ipython-input-1-0fcde3bb405a>:34: LSTMCell.__init__ (from tensorflow.python.ops.rnn_cell_impl) is deprecated and will be removed in a future version.\n",
      "Instructions for updating:\n",
      "This class is equivalent as tf.keras.layers.LSTMCell, and will be replaced by that in Tensorflow 2.0.\n",
      "WARNING:tensorflow:From <ipython-input-1-0fcde3bb405a>:35: MultiRNNCell.__init__ (from tensorflow.python.ops.rnn_cell_impl) is deprecated and will be removed in a future version.\n",
      "Instructions for updating:\n",
      "This class is equivalent as tf.keras.layers.StackedRNNCells, and will be replaced by that in Tensorflow 2.0.\n",
      "WARNING:tensorflow:From /usr/local/lib/python3.6/site-packages/tensorflow_core/python/ops/rnn_cell_impl.py:958: Layer.add_variable (from tensorflow.python.keras.engine.base_layer) is deprecated and will be removed in a future version.\n",
      "Instructions for updating:\n",
      "Please use `layer.add_weight` method instead.\n",
      "WARNING:tensorflow:From /usr/local/lib/python3.6/site-packages/tensorflow_core/python/ops/rnn_cell_impl.py:962: calling Zeros.__init__ (from tensorflow.python.ops.init_ops) with dtype is deprecated and will be removed in a future version.\n",
      "Instructions for updating:\n",
      "Call initializer instance with the dtype argument instead of passing it to the constructor\n",
      "INFO:tensorflow:Restoring parameters from /tmp/tf_rnn_10/model.ckpt\n"
     ]
    },
    {
     "data": {
      "image/png": "[encoded data removed]",
      "text/plain": [
       "<Figure size 432x288 with 1 Axes>"
      ]
     },
     "metadata": {
      "needs_background": "light"
     },
     "output_type": "display_data"
    },
    {
     "name": "stdout",
     "output_type": "stream",
     "text": [
      "识别结果:\n",
      "3\n"
     ]
    }
   ],
   "source": [
    "import tensorflow as tf\n",
    "from tensorflow.examples.tutorials.mnist import input_data\n",
    "from datetime import datetime\n",
    "from PIL import Image, ImageFilter\n",
    "\n",
    "import matplotlib.pyplot as plt\n",
    "#载入数据\n",
    "mnist = input_data.read_data_sets(\"/root/code/MNIST_data/\",one_hot=True)\n",
    "lr = 1e-3\n",
    "# 在训练和测试的时候，我们想用不同的 batch_size.所以采用占位符的方式\n",
    "keep_prob = tf.placeholder(tf.float32, [],name='keep_prob')\n",
    "batch_size = tf.placeholder(tf.int32, [],name='batch_size')\n",
    " \n",
    "# 每个时刻的输入特征是28维的，就是每个时刻输入一行，一行有 28 个像素\n",
    "input_size = 28\n",
    "# 时序持续长度为28，即每做一次预测，需要先输入28行\n",
    "timestep_size = 28\n",
    "# 每个隐含层的节点数\n",
    "hidden_size = 256\n",
    "# LSTM layer 的层数\n",
    "layer_num = 10\n",
    "# 最后输出分类类别数量，如果是回归预测的话应该是 1\n",
    "class_num = 10\n",
    "\n",
    "\n",
    "\n",
    "_X = tf.placeholder(tf.float32, [None, 784],name='x')\n",
    "y = tf.placeholder(tf.float32, [None, class_num],name='y')\n",
    "\n",
    "X = tf.reshape(_X, [-1, 28, 28])\n",
    "\n",
    "stacked_rnn = []\n",
    "for iiLyr in range(layer_num):\n",
    "    stacked_rnn.append(tf.nn.rnn_cell.LSTMCell(num_units=hidden_size, state_is_tuple=True))\n",
    "mlstm_cell = tf.nn.rnn_cell.MultiRNNCell(cells=stacked_rnn, state_is_tuple=True)\n",
    "init_state = mlstm_cell.zero_state(batch_size, dtype=tf.float32)\n",
    "\n",
    "outputs = list()\n",
    "state = init_state\n",
    "with tf.variable_scope('RNN'):\n",
    "    for timestep in range(timestep_size):\n",
    "        if timestep > 0:\n",
    "            tf.get_variable_scope().reuse_variables()\n",
    "        # 这里的state保存了每一层 LSTM 的状态\n",
    "        (cell_output, state) = mlstm_cell(X[:, timestep, :], state)\n",
    "        outputs.append(cell_output)\n",
    "h_state = outputs[-1]\n",
    "\n",
    "W = tf.Variable(tf.truncated_normal([hidden_size, class_num], stddev=0.1), dtype=tf.float32)\n",
    "bias = tf.Variable(tf.constant(0.1,shape=[class_num]), dtype=tf.float32)\n",
    "y_pre = tf.nn.softmax(tf.matmul(h_state, W) + bias,name=\"result\")\n",
    "\n",
    "# 损失和评估函数\n",
    "cross_entropy = -tf.reduce_mean(y * tf.log(y_pre))\n",
    "train_op = tf.train.AdamOptimizer(lr).minimize(cross_entropy)\n",
    " \n",
    "correct_prediction = tf.equal(tf.argmax(y_pre,1), tf.argmax(y,1))\n",
    "accuracy = tf.reduce_mean(tf.cast(correct_prediction, \"float\"))\n",
    "\n",
    "\n",
    "saver = tf.train.Saver()\n",
    "sess = tf.Session()\n",
    "\n",
    "sess.run(tf.global_variables_initializer())\n",
    "saver.restore(sess, '/tmp/tf_rnn_10/model.ckpt') #使用模型，参数和之前的代码保持一致\n",
    "\n",
    "prediction=tf.argmax(y_pre,1)\n",
    "im = Image.open('/root/code/pic_png/3.png') #读取的图片所在路径，注意是28*28像素\n",
    "plt.imshow(im)  #显示需要识别的图片\n",
    "plt.show()\n",
    "im = im.convert('L')\n",
    "tv = list(im.getdata()) \n",
    "tva = [(255-x)*1.0/255.0 for x in tv]\n",
    "predint=prediction.eval(feed_dict={_X: [tva],keep_prob: 1.0,batch_size: 1}, session=sess)\n",
    "#TypeError: eval() got an unexpected keyword argument 'name' 这是不是代表 sess.run的函数方式行不通了\n",
    "print('识别结果:')\n",
    "print(predint[0])\n",
    "#用了函数处理 图像数据 所以用x:【result】"
   ]
  },
  {
   "cell_type": "code",
   "execution_count": 2,
   "metadata": {},
   "outputs": [],
   "source": [
    "def predict10(sess, adds):\n",
    "    import json\n",
    "    num_imgs = len(adds)\n",
    "    result = []\n",
    "    for i in range(num_imgs):\n",
    "        data = json.loads(adds[i])\n",
    "        predints=sess.run('result:0',feed_dict={\"x:0\":data,\"keep_prob:0\": 1.0,'batch_size:0':1})\n",
    "        result.append(str(predints[0]))\n",
    "    \n",
    "    return result\n",
    "# predict9(sess,tva_c) 成功预测 并部署通过 数据处理可得到 预测结果"
   ]
  },
  {
   "cell_type": "code",
   "execution_count": 3,
   "metadata": {},
   "outputs": [],
   "source": [
    "from clipper_admin import ClipperConnection, DockerContainerManager\n",
    "from clipper_admin.deployers.tensorflow import deploy_tensorflow_model\n",
    "clipper_conn = ClipperConnection(DockerContainerManager())"
   ]
  },
  {
   "cell_type": "code",
   "execution_count": 4,
   "metadata": {
    "scrolled": true
   },
   "outputs": [
    {
     "name": "stderr",
     "output_type": "stream",
     "text": [
      "20-07-16:23:29:52 INFO     [docker_container_manager.py:184] [default-cluster] Starting managed Redis instance in Docker\n",
      "20-07-16:23:29:57 INFO     [docker_container_manager.py:276] [default-cluster] Metric Configuration Saved at /tmp/tmp25k60qbs.yml\n",
      "20-07-16:23:29:58 INFO     [clipper_admin.py:162] [default-cluster] Clipper is running\n"
     ]
    }
   ],
   "source": [
    "clipper_conn.start_clipper()"
   ]
  },
  {
   "cell_type": "code",
   "execution_count": 5,
   "metadata": {},
   "outputs": [
    {
     "name": "stderr",
     "output_type": "stream",
     "text": [
      "20-07-16:23:29:59 INFO     [clipper_admin.py:172] [default-cluster] Successfully connected to Clipper cluster at localhost:1337\n"
     ]
    }
   ],
   "source": [
    "clipper_conn.connect()"
   ]
  },
  {
   "cell_type": "code",
   "execution_count": 6,
   "metadata": {},
   "outputs": [
    {
     "name": "stderr",
     "output_type": "stream",
     "text": [
      "20-07-16:23:30:00 INFO     [clipper_admin.py:236] [default-cluster] Application mnist_rnn-app was successfully registered\n"
     ]
    }
   ],
   "source": [
    "clipper_conn.register_application(\n",
    "    name=\"mnist_rnn-app\", input_type=\"strings\", default_output=\"-1.0\", slo_micros=100000)"
   ]
  },
  {
   "cell_type": "code",
   "execution_count": 7,
   "metadata": {
    "scrolled": false
   },
   "outputs": [
    {
     "name": "stderr",
     "output_type": "stream",
     "text": [
      "20-07-16:23:30:01 INFO     [deployer_utils.py:41] Saving function to /tmp/tmpw2r21vmmclipper\n",
      "20-07-16:23:30:01 INFO     [deployer_utils.py:51] Serialized and supplied predict function\n",
      "20-07-16:23:30:06 INFO     [tensorflow.py:196] TensorFlow model saved at: /tmp/tmpw2r21vmmclipper/tfmodel/model.ckpt \n",
      "20-07-16:23:30:06 INFO     [tensorflow.py:277] Using Python 3.6 base image\n",
      "20-07-16:23:30:06 INFO     [clipper_admin.py:534] [default-cluster] Building model Docker image with model data from /tmp/tmpw2r21vmmclipper\n",
      "20-07-16:23:30:08 INFO     [clipper_admin.py:539] [default-cluster] Step 1/2 : FROM clipper/tf36-container:0.4.1\n",
      "20-07-16:23:30:08 INFO     [clipper_admin.py:539] [default-cluster]  ---> 3db42af800ff\n",
      "20-07-16:23:30:08 INFO     [clipper_admin.py:539] [default-cluster] Step 2/2 : COPY /tmp/tmpw2r21vmmclipper /model/\n",
      "20-07-16:23:30:08 INFO     [clipper_admin.py:539] [default-cluster]  ---> d34d6c6ff4ad\n",
      "20-07-16:23:30:08 INFO     [clipper_admin.py:539] [default-cluster] Successfully built d34d6c6ff4ad\n",
      "20-07-16:23:30:08 INFO     [clipper_admin.py:539] [default-cluster] Successfully tagged default-cluster-mnist-rnn-mod:1\n",
      "20-07-16:23:30:08 INFO     [clipper_admin.py:541] [default-cluster] Pushing model Docker image to default-cluster-mnist-rnn-mod:1\n",
      "20-07-16:23:30:13 INFO     [docker_container_manager.py:409] [default-cluster] Found 0 replicas for mnist-rnn-mod:1. Adding 1\n",
      "20-07-16:23:30:14 INFO     [clipper_admin.py:724] [default-cluster] Successfully registered model mnist-rnn-mod:1\n",
      "20-07-16:23:30:14 INFO     [clipper_admin.py:642] [default-cluster] Done deploying model mnist-rnn-mod:1.\n"
     ]
    }
   ],
   "source": [
    "deploy_tensorflow_model(\n",
    "    clipper_conn,\n",
    "    name=\"mnist-rnn-mod\",\n",
    "    version=1, # version 2 of the same model, `predict` endpoint will be updated \n",
    "    # automatically to the newest model version\n",
    "    input_type=\"strings\",\n",
    "     func=predict10,\n",
    "    tf_sess_or_saved_model_path=sess,\n",
    "   )"
   ]
  },
  {
   "cell_type": "code",
   "execution_count": 8,
   "metadata": {},
   "outputs": [
    {
     "data": {
      "text/plain": [
       "<tensorflow.python.client.session.Session at 0x7f3d9099bf98>"
      ]
     },
     "execution_count": 8,
     "metadata": {},
     "output_type": "execute_result"
    }
   ],
   "source": [
    "sess"
   ]
  },
  {
   "cell_type": "code",
   "execution_count": 9,
   "metadata": {},
   "outputs": [
    {
     "name": "stderr",
     "output_type": "stream",
     "text": [
      "20-07-16:23:30:18 INFO     [clipper_admin.py:303] [default-cluster] Model mnist-rnn-mod is now linked to application mnist_rnn-app\n"
     ]
    }
   ],
   "source": [
    "# Link the model and the app\n",
    "clipper_conn.link_model_to_app(\n",
    "    app_name=\"mnist_rnn-app\",\n",
    "    model_name=\"mnist-rnn-mod\")"
   ]
  },
  {
   "cell_type": "code",
   "execution_count": 10,
   "metadata": {},
   "outputs": [
    {
     "name": "stdout",
     "output_type": "stream",
     "text": [
      "localhost:1337\n"
     ]
    }
   ],
   "source": [
    "# Get query address\n",
    "query_address = clipper_conn.get_query_addr()\n",
    "print(query_address)"
   ]
  },
  {
   "cell_type": "code",
   "execution_count": 11,
   "metadata": {},
   "outputs": [],
   "source": [
    "import matplotlib.pyplot as plt\n",
    "import base64\n",
    "import json\n",
    "import requests\n",
    "from datetime import datetime\n",
    "\n",
    "\n",
    "\n",
    "def query_json(addr, filename,mnist,sess):\n",
    "    url = \"http://%s/mnist_rnn-app/predict\" % addr\n",
    "\n",
    "    im = Image.open(filename)\n",
    "    plt.imshow(im)  #显示需要识别的图片\n",
    "    plt.show()\n",
    "    im = im.convert('L')\n",
    "    tv = list(im.getdata())\n",
    "    tva = [[(255-x)*1.0/255.0 for x in tv]]\n",
    "    tva = json.dumps(tva)\n",
    "    tva_j = json.dumps({\"input\": tva})\n",
    "    headers = {'Content-type': 'application/json'}\n",
    "    start = datetime.now()\n",
    "    r = requests.post(url, headers=headers, data=tva_j)\n",
    "    end = datetime.now()\n",
    "    latency = (end - start).total_seconds() * 1000.0\n",
    "    re = r.text\n",
    "    global false, null, true\n",
    "\n",
    "    false = null = true = ''\n",
    "    ls = eval(re)\n",
    "    numbers = ls['output']\n",
    "    numbers_str = numbers[1:-1]\n",
    "    numbers_str=numbers_str.replace(\"\\n\", \"\")\n",
    "    list1 = numbers_str.split(' ')\n",
    "    print(\"this number is \"+ str(list1.index(max(list1)))+\" , \"+\"The latency is   \"+str(latency))\n",
    "    train_accuracy = sess.run(accuracy, feed_dict={\n",
    "            _X:mnist.test.images, y: mnist.test.labels, keep_prob: 1.0, batch_size: 10000})\n",
    "    print(\" test accuracy %g\" % ( train_accuracy))\n",
    "    return (list1.index(max(list1)))"
   ]
  },
  {
   "cell_type": "code",
   "execution_count": 19,
   "metadata": {},
   "outputs": [
    {
     "name": "stdout",
     "output_type": "stream",
     "text": [
      "Extracting /root/code/MNIST_data/train-images-idx3-ubyte.gz\n",
      "Extracting /root/code/MNIST_data/train-labels-idx1-ubyte.gz\n",
      "Extracting /root/code/MNIST_data/t10k-images-idx3-ubyte.gz\n",
      "Extracting /root/code/MNIST_data/t10k-labels-idx1-ubyte.gz\n"
     ]
    },
    {
     "data": {
      "image/png": "[encoded data removed]",
      "text/plain": [
       "<Figure size 432x288 with 1 Axes>"
      ]
     },
     "metadata": {
      "needs_background": "light"
     },
     "output_type": "display_data"
    },
    {
     "name": "stdout",
     "output_type": "stream",
     "text": [
      "this number is 9 , The latency is   41.010999999999996\n",
      " test accuracy 0.9815\n"
     ]
    },
    {
     "data": {
      "text/plain": [
       "9"
      ]
     },
     "execution_count": 19,
     "metadata": {},
     "output_type": "execute_result"
    }
   ],
   "source": [
    "from tensorflow.examples.tutorials.mnist import input_data\n",
    "mnist = input_data.read_data_sets('/root/code/MNIST_data/', one_hot=True) \n",
    "query_json(query_address, \"/root/code/pic_png/9.png\",mnist,sess)"
   ]
  },
  {
   "cell_type": "code",
   "execution_count": 15,
   "metadata": {},
   "outputs": [
    {
     "name": "stderr",
     "output_type": "stream",
     "text": [
      "20-05-11:05:54:36 INFO     [clipper_admin.py:1424] [default-cluster] Stopped all Clipper cluster and all model containers\n"
     ]
    }
   ],
   "source": [
    "clipper_conn.stop_all()"
   ]
  },
  {
   "cell_type": "code",
   "execution_count": null,
   "metadata": {},
   "outputs": [],
   "source": []
  }
 ],
 "metadata": {
  "kernelspec": {
   "display_name": "Python 3",
   "language": "python",
   "name": "python3"
  },
  "language_info": {
   "codemirror_mode": {
    "name": "ipython",
    "version": 3
   },
   "file_extension": ".py",
   "mimetype": "text/x-python",
   "name": "python",
   "nbconvert_exporter": "python",
   "pygments_lexer": "ipython3",
   "version": "3.6.1"
  }
 },
 "nbformat": 4,
 "nbformat_minor": 4
}
