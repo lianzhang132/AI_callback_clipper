{
 "cells": [
  {
   "cell_type": "code",
   "execution_count": 1,
   "metadata": {},
   "outputs": [
    {
     "name": "stdout",
     "output_type": "stream",
     "text": [
      "WARNING:tensorflow:From <ipython-input-1-03c96c872b02>:54: calling dropout (from tensorflow.python.ops.nn_ops) with keep_prob is deprecated and will be removed in a future version.\n",
      "Instructions for updating:\n",
      "Please use `rate` instead of `keep_prob`. Rate should be set to `rate = 1 - keep_prob`.\n",
      "INFO:tensorflow:Restoring parameters from /tmp/tf_csdn/model.ckpt\n"
     ]
    },
    {
     "data": {
      "image/png": "[encoded data removed]",
      "text/plain": [
       "<Figure size 432x288 with 1 Axes>"
      ]
     },
     "metadata": {
      "needs_background": "light"
     },
     "output_type": "display_data"
    },
    {
     "name": "stdout",
     "output_type": "stream",
     "text": [
      "识别结果:\n",
      "3\n"
     ]
    }
   ],
   "source": [
    "from PIL import Image, ImageFilter\n",
    "import tensorflow as tf\n",
    "import matplotlib.pyplot as plt\n",
    "\n",
    "# def imageprepare(): \n",
    "#     im = Image.open('/root/code/3.png') #读取的图片所在路径，注意是28*28像素\n",
    "#     plt.imshow(im)  #显示需要识别的图片\n",
    "#     plt.show()\n",
    "#     im = im.convert('L')\n",
    "#     tv = list(im.getdata()) \n",
    "#     tva = [(255-x)*1.0/255.0 for x in tv] \n",
    "#     return tva\n",
    "\n",
    "# result=imageprepare()\n",
    "x = tf.placeholder(tf.float32, [None, 784] , name='x')\n",
    "\n",
    "y_ = tf.placeholder(tf.float32, [None, 10],name='y_')\n",
    "\n",
    "def weight_variable(shape):\n",
    "    initial = tf.truncated_normal(shape,stddev = 0.1)\n",
    "    return tf.Variable(initial)\n",
    "\n",
    "def bias_variable(shape):\n",
    "    initial = tf.constant(0.1,shape = shape)\n",
    "    return tf.Variable(initial)\n",
    "\n",
    "def conv2d(x,W):\n",
    "    return tf.nn.conv2d(x, W, strides = [1,1,1,1], padding = 'SAME')\n",
    "\n",
    "def max_pool_2x2(x):\n",
    "    return tf.nn.max_pool(x, ksize=[1,2,2,1], strides=[1,2,2,1], padding='SAME')\n",
    "\n",
    "W_conv1 = weight_variable([5, 5, 1, 32])\n",
    "b_conv1 = bias_variable([32])\n",
    "\n",
    "x_image = tf.reshape(x,[-1,28,28,1])\n",
    "\n",
    "h_conv1 = tf.nn.relu(conv2d(x_image,W_conv1) + b_conv1)\n",
    "h_pool1 = max_pool_2x2(h_conv1)\n",
    "\n",
    "W_conv2 = weight_variable([5, 5, 32, 64])\n",
    "b_conv2 = bias_variable([64])\n",
    "\n",
    "h_conv2 = tf.nn.relu(conv2d(h_pool1, W_conv2) + b_conv2)\n",
    "h_pool2 = max_pool_2x2(h_conv2)\n",
    "\n",
    "W_fc1 = weight_variable([7 * 7 * 64, 1024])\n",
    "b_fc1 = bias_variable([1024])\n",
    "\n",
    "h_pool2_flat = tf.reshape(h_pool2, [-1, 7*7*64])\n",
    "h_fc1 = tf.nn.relu(tf.matmul(h_pool2_flat, W_fc1) + b_fc1)\n",
    "\n",
    "keep_prob = tf.placeholder(\"float\",name='keep_prob')\n",
    "h_fc1_drop = tf.nn.dropout(h_fc1, keep_prob)\n",
    "\n",
    "W_fc2 = weight_variable([1024, 10])\n",
    "b_fc2 = bias_variable([10])\n",
    "\n",
    "y_conv=tf.nn.softmax(tf.matmul(h_fc1_drop, W_fc2) + b_fc2,name=\"y_conv\")\n",
    "\n",
    "cross_entropy = -tf.reduce_sum(y_*tf.log(y_conv))\n",
    "train_step = tf.train.AdamOptimizer(1e-4).minimize(cross_entropy)\n",
    "correct_prediction = tf.equal(tf.argmax(y_conv,1), tf.argmax(y_,1))\n",
    "accuracy = tf.reduce_mean(tf.cast(correct_prediction, \"float\"))\n",
    "\n",
    "\n",
    "#写预测接口 一串函数写进去？\n",
    "# predition_L = tf.argmax(tf.nn.softmax(tf.matmul(h_fc1_drop, W_fc2) + b_fc2),1)\n",
    "prediction=tf.argmax(y_conv,1)\n",
    "\n",
    "\n",
    "\n",
    "\n",
    "saver = tf.train.Saver()\n",
    "sess = tf.Session()\n",
    "\n",
    "sess.run(tf.global_variables_initializer())\n",
    "saver.restore(sess, '/tmp/tf_csdn/model.ckpt') #使用模型，参数和之前的代码保持一致\n",
    "\n",
    "prediction=tf.argmax(y_conv,1)\n",
    "im = Image.open('/root/code/pic_png/3.png') #读取的图片所在路径，注意是28*28像素\n",
    "plt.imshow(im)  #显示需要识别的图片\n",
    "plt.show()\n",
    "im = im.convert('L')\n",
    "tv = list(im.getdata()) \n",
    "tva = [(255-x)*1.0/255.0 for x in tv] \n",
    "predint=prediction.eval(feed_dict={x: [tva],keep_prob: 1.0}, session=sess)\n",
    "#TypeError: eval() got an unexpected keyword argument 'name' 这是不是代表 sess.run的函数方式行不通了\n",
    "print('识别结果:')\n",
    "print(predint[0])\n",
    "#用了函数处理 图像数据 所以用x:【result】"
   ]
  },
  {
   "cell_type": "code",
   "execution_count": null,
   "metadata": {},
   "outputs": [],
   "source": [
    "\n",
    "with tf.Session() as sess:\n",
    "    adds = [\"/root/code/pic_png/0.png\",\"/root/code/pic_png/2.png\",\"/root/code/pic_png/8.png\"]\n",
    "    results=[]\n",
    "    for add in adds:\n",
    "            im = Image.open(add) #读取的图片所在路径，注意是28*28像素\n",
    "            im = im.convert('L')\n",
    "            tv = list(im.getdata()) \n",
    "            tva = [[(255-x)*1.0/255.0 for x in tv]]\n",
    "    #         predints=sess.run('y_conv:0',feed_dict={\"x:0\":tva})\n",
    "            predints=sess.run('y_conv:0',feed_dict={\"x:0\":tva})\n",
    "\n",
    "            results.append(str(predints[0]))\n",
    "    print (results)\n",
    "\n",
    "# print(sess.run('y_conv:0',feed_dict={\"x:0\":tva}))"
   ]
  },
  {
   "cell_type": "code",
   "execution_count": null,
   "metadata": {},
   "outputs": [],
   "source": [
    "from tensorflow.examples.tutorials.mnist import input_data\n",
    "mnist = input_data.read_data_sets('MNIST_data/', one_hot=True) \n",
    "print(type(mnist.test.images),type(mnist.test.labels))\n",
    "\n",
    "# result = sess.run(accuracy,feed_dict={x: mnist.test.images, y_: mnist.test.labels})\n",
    "# print(result)"
   ]
  },
  {
   "cell_type": "code",
   "execution_count": null,
   "metadata": {},
   "outputs": [],
   "source": [
    "sess"
   ]
  },
  {
   "cell_type": "code",
   "execution_count": null,
   "metadata": {},
   "outputs": [],
   "source": [
    "import  cloudpickle\n",
    "\n",
    "def prediction(sess,adds):\n",
    "    from PIL import Image, ImageFilter\n",
    "    import pickle\n",
    "#     import tensorflow as tf\n",
    "#     import matplotlib.pyplot as plt\n",
    "    numbers = []\n",
    "    for add in adds:\n",
    "        im = Image.open(add) #读取的图片所在路径，注意是28*28像素\n",
    "#         plt.imshow(im)  #显示需要识别的图片\n",
    "#         plt.show()\n",
    "        im = im.convert('L')\n",
    "        tv = list(im.getdata()) \n",
    "        tva = [[(255-x)*1.0/255.0 for x in tv]] \n",
    "#         sess.run(tf.global_variables_initializer())\n",
    "#         saver.restore(sess, '/tmp/tf_csdn/model.ckpt') #使用模型，参数和之前的代码保持一致\n",
    "        prediction=tf.argmax(y_conv,1)\n",
    "        predint=prediction.eval(feed_dict={x:tva,keep_prob:1.0},session=sess)\n",
    "\n",
    "        \n",
    "        numbers.append(predint[0])\n",
    "        \n",
    "    f = open(\"/root/code/1.text\", 'wb')\n",
    "\n",
    "    pickle.dump(numbers,f)#序列化numbers 并把结果 存到 f \n",
    "    f1 = open(\"/root/code/1.text\", 'rb+')#读出来 并把 结果存到f1对象\n",
    "    return f1\n",
    "  \n",
    "# \n",
    "# prediction(sess,adds)"
   ]
  },
  {
   "cell_type": "code",
   "execution_count": null,
   "metadata": {},
   "outputs": [],
   "source": [
    "print(x)"
   ]
  },
  {
   "cell_type": "code",
   "execution_count": null,
   "metadata": {},
   "outputs": [],
   "source": [
    "import numpy as np\n",
    "def predict3(sess, adds):\n",
    "    results=[]\n",
    "    for add in adds:\n",
    "        im = Image.open(add) #读取的图片所在路径，注意是28*28像素\n",
    "#         plt.imshow(im)  #显示需要识别的图片\n",
    "#         plt.show()\n",
    "        im = im.convert('L')\n",
    "        tv = list(im.getdata()) \n",
    "        tva = np.array([None,[(255-x)*1.0/255.0 for x in tv]],dtype='float32')\n",
    "        predints=sess.run('y_conv:0',feed_dict={x:tva})\n",
    "        results.append(str(predints[0]))\n",
    "    return results\n",
    "#x的操作不在局部图中 \n",
    "adds = [\"/root/code/pic_png/0.png\",\"/root/code/pic_png/2.png\",\"/root/code/pic_png/8.png\"]\n",
    "predict3(sess,adds)"
   ]
  },
  {
   "cell_type": "code",
   "execution_count": null,
   "metadata": {},
   "outputs": [],
   "source": [
    "def prediction1(sess, adds):\n",
    "    from PIL import Image, ImageFilter\n",
    "\n",
    "    numbers = []\n",
    "#     global y_l\n",
    "#     y_l = y_conv\n",
    "    for add in adds:\n",
    "        im = Image.open(add) #读取的图片所在路径，注意是28*28像素\n",
    "#         plt.imshow(im)  #显示需要识别的图片\n",
    "#         plt.show()\n",
    "        im = im.convert('L')\n",
    "        tv = list(im.getdata()) \n",
    "        tva = [[(255-x)*1.0/255.0 for x in tv]] \n",
    "\n",
    "#         prediction=tf.argmax(y_l,1)\n",
    "        predint=prediction.eval(feed_dict={x: tva},\n",
    "                                session=sess)\n",
    "        numbers.append(predint[0])\n",
    "    return numbers\n",
    "  \n",
    "adds = [\"/root/code/pic_png/0.png\",\"/root/code/pic_png/2.png\",\"/root/code/pic_png/8.png\"]\n",
    "prediction1(sess,adds)\n",
    "#该函数依然报自锁 但我感觉很接近正确写法了 不要动了"
   ]
  },
  {
   "cell_type": "code",
   "execution_count": null,
   "metadata": {},
   "outputs": [],
   "source": [
    "def prediction5(sess, adds):\n",
    "    from PIL import Image, ImageFilter\n",
    "\n",
    "    numbers = []\n",
    "#     global y_l\n",
    "#     y_l = y_conv\n",
    "    for add in adds:\n",
    "        im = Image.open(add) #读取的图片所在路径，注意是28*28像素\n",
    "#         plt.imshow(im)  #显示需要识别的图片\n",
    "#         plt.show()\n",
    "        im = im.convert('L')\n",
    "        tv = list(im.getdata()) \n",
    "        tva = [None,[(255-x)*1.0/255.0 for x in tv]] \n",
    "\n",
    "#         prediction=tf.argmax(y_l,1)\n",
    "        predint=prediction.eval(feed_dict={\"x:0\": \"tva\"},\n",
    "                                session=sess)\n",
    "        numbers.append(predint[0])\n",
    "#     print(numbers)\n",
    "    return numbers\n",
    "  \n",
    "adds = [\"/root/code/pic_png/0.png\",\"/root/code/pic_png/2.png\",\"/root/code/pic_png/8.png\"]\n",
    "prediction(sess,adds)\n"
   ]
  },
  {
   "cell_type": "code",
   "execution_count": null,
   "metadata": {},
   "outputs": [],
   "source": [
    "def prediction(sess,adds):\n",
    "    from PIL import Image, ImageFilter\n",
    "#     import tensorflow as tf\n",
    "#     import matplotlib.pyplot as plt\n",
    "    numbers = []\n",
    "    for add in adds:\n",
    "        im = Image.open(add) #读取的图片所在路径，注意是28*28像素\n",
    "#         plt.imshow(im)  #显示需要识别的图片\n",
    "#         plt.show()\n",
    "        im = im.convert('L')\n",
    "        tv = list(im.getdata()) \n",
    "        tva = [[(255-x)*1.0/255.0 for x in tv]] \n",
    "#         sess.run(tf.global_variables_initializer())\n",
    "#         saver.restore(sess, '/tmp/tf_csdn/model.ckpt') #使用模型，参数和之前的代码保持一致\n",
    "        prediction=tf.argmax(y_conv,1)\n",
    "        predint=prediction.eval(feed_dict={\"x:0\":tva,keep_prob: 1.0},\n",
    "                                session=sess)\n",
    "\n",
    "        \n",
    "        numbers.append(predint[0])\n",
    "#     print(numbers)\n",
    "    return numbers\n",
    "  \n",
    "adds = [\"/root/code/pic_png/0.png\",\"/root/code/pic_png/2.png\",\"/root/code/pic_png/8.png\"]\n",
    "prediction(sess,adds)\n",
    "#部署不进去 加引号的话  说 不在 说 x 不在 graph\n",
    "#可以正常预测 "
   ]
  },
  {
   "cell_type": "code",
   "execution_count": null,
   "metadata": {},
   "outputs": [],
   "source": [
    "def prediction2(sess, adds):\n",
    "    from PIL import Image, ImageFilter\n",
    "\n",
    "    numbers = []\n",
    "#     global y_l\n",
    "#     y_l = y_conv\n",
    "    for add in adds:\n",
    "#         im = Image.open(add) #读取的图片所在路径，注意是28*28像素\n",
    "# #         plt.imshow(im)  #显示需要识别的图片\n",
    "# #         plt.show()\n",
    "#         im = im.convert('L')\n",
    "#         tv = list(im.getdata()) \n",
    "#         tva = [None,[(255-x)*1.0/255.0 for x in tv]] \n",
    "\n",
    "# #         prediction=tf.argmax(y_l,1)\n",
    "        predint=prediction.eval(feed_dict={\"x:0\": add,\"keep_prob\": 1.0},\n",
    "                                session=sess)\n",
    "        numbers.append(predint[0])\n",
    "    print(numbers)\n",
    "    return numbers\n",
    "  \n",
    "aadds = [\"/root/code/pic_png/0.png\",\"/root/code/pic_png/2.png\",\"/root/code/pic_png/8.png\"]\n",
    "prediction2(sess,adds)"
   ]
  },
  {
   "cell_type": "code",
   "execution_count": null,
   "metadata": {},
   "outputs": [],
   "source": [
    "sess\n",
    "def predict3(sess, adds):\n",
    "    results=[]\n",
    "    for add in adds:\n",
    "        im = Image.open(add) #读取的图片所在路径，注意是28*28像素\n",
    "#         plt.imshow(im)  #显示需要识别的图片\n",
    "#         plt.show()\n",
    "        im = im.convert('L')\n",
    "        tv = list(im.getdata()) \n",
    "        tva = [[(255-x)*1.0/255.0 for x in tv]]\n",
    "        predints=sess.run('y_conv:0',feed_dict={\"x:0\":tva})\n",
    "#         predints=sess.run('prediction:0',feed_dict={\"x:0\":tva})\n",
    "\n",
    "        results.append(str(predints[0]))\n",
    "    return results\n",
    "#x的操作不在局部图中 \n",
    "adds = [\"/root/code/pic_png/0.png\",\"/root/code/pic_png/2.png\",\"/root/code/pic_png/8.png\"]\n",
    "predict3(sess,adds)\n",
    "#提示 填充的值不对  但是可以部署 两种sess.run写法都可以 部署\n",
    "#InvalidArgumentError: You must feed a value for placeholder tensor 'Placeholder' with dtype float"
   ]
  },
  {
   "cell_type": "code",
   "execution_count": null,
   "metadata": {},
   "outputs": [],
   "source": [
    "def predict6(sess, adds):\n",
    "    results=[]\n",
    "    for add in adds:\n",
    "        im = Image.open(add) #读取的图片所在路径，注意是28*28像素\n",
    "#         plt.imshow(im)  #显示需要识别的图片\n",
    "#         plt.show()\n",
    "        im = im.convert('L')\n",
    "        tv = list(im.getdata()) \n",
    "        tva = [[(255-x)*1.0/255.0 for x in tv]]\n",
    "        predints=sess.run('y_conv:0',feed_dict={\"x:0\":tva,\"keep_prob:0\": 1.0})\n",
    "#         predints=sess.run('prediction:0',feed_dict={\"x:0\":tva})\n",
    "\n",
    "        results.append(str(predints[0]))\n",
    "    return results\n",
    "#x的操作不在局部图中 \n",
    "adds = [\"/root/code/pic_png/0.png\",\"/root/code/pic_png/2.png\",\"/root/code/pic_png/8.png\"]\n",
    "predict6(sess,adds)\n",
    "#成功返回了  概率分布  并且能成功部署 但是 报错为  'default_explanation': 'No connected models found for query'}"
   ]
  },
  {
   "cell_type": "code",
   "execution_count": null,
   "metadata": {},
   "outputs": [],
   "source": [
    "def predict7(sess, adds):\n",
    "    from PIL import Image\n",
    "    results=[]\n",
    "    for add in adds:\n",
    "        im = Image.open(add) #读取的图片所在路径，注意是28*28像素\n",
    "        im = im.convert('L')\n",
    "        tv = list(im.getdata()) \n",
    "        tva = [[(255-x)*1.0/255.0 for x in tv]]\n",
    "        predints=sess.run('y_conv:0',feed_dict={\"x:0\":tva,\"keep_prob:0\": 1.0})\n",
    "        results.append(str(predints[0]))\n",
    "    return results\n",
    "adds = [\"/root/code/pic_png/0.png\",\"/root/code/pic_png/2.png\",\"/root/code/pic_png/8.png\"]\n",
    "predict7(sess,adds)\n",
    "#此时 回报 输入输出 有问题"
   ]
  },
  {
   "cell_type": "code",
   "execution_count": 3,
   "metadata": {},
   "outputs": [
    {
     "name": "stdout",
     "output_type": "stream",
     "text": [
      "Extracting MNIST_data/train-images-idx3-ubyte.gz\n",
      "Extracting MNIST_data/train-labels-idx1-ubyte.gz\n",
      "Extracting MNIST_data/t10k-images-idx3-ubyte.gz\n",
      "Extracting MNIST_data/t10k-labels-idx1-ubyte.gz\n",
      "test accuracy 0.9914\n"
     ]
    },
    {
     "data": {
      "text/plain": [
       "['[9.9999952e-01 1.4044456e-12 5.2906337e-09 8.7261242e-13 4.2917714e-10\\n 2.5956171e-08 4.4154726e-07 1.7408739e-08 3.0555883e-10 2.9106705e-08]',\n",
       " '[1.0336971e-08 5.0900962e-07 9.9979597e-01 1.9955807e-04 3.2622824e-10\\n 2.9815980e-10 1.5501199e-10 3.6077342e-06 3.0665564e-07 1.0458382e-08]',\n",
       " '[1.7764939e-06 9.3378354e-11 1.6468326e-05 4.5807052e-08 3.0885705e-09\\n 6.9015890e-08 1.1692211e-07 3.0177247e-10 9.9997973e-01 1.8072839e-06]']"
      ]
     },
     "execution_count": 3,
     "metadata": {},
     "output_type": "execute_result"
    }
   ],
   "source": [
    "from tensorflow.examples.tutorials.mnist import input_data\n",
    "mnist = input_data.read_data_sets('MNIST_data/', one_hot=True) \n",
    "def predict11(sess, adds,mnist):\n",
    "    from PIL import Image\n",
    "    results=[]\n",
    "    for add in adds:\n",
    "        im = Image.open(add) #读取的图片所在路径，注意是28*28像素\n",
    "        im = im.convert('L')\n",
    "        tv = list(im.getdata()) \n",
    "        tva = [[(255-x)*1.0/255.0 for x in tv]]\n",
    "        predints=sess.run('y_conv:0',feed_dict={\"x:0\":tva,\"keep_prob:0\": 1.0})\n",
    "        results.append(str(predints[0]))\n",
    "    print('test accuracy %g' % accuracy.eval(feed_dict={\n",
    "        \"x:0\": mnist.test.images, \"y_:0\": mnist.test.labels, keep_prob: 1.0},session=sess))\n",
    "    return results\n",
    "adds = [\"/root/code/pic_png/0.png\",\"/root/code/pic_png/2.png\",\"/root/code/pic_png/8.png\"]\n",
    "predict11(sess,adds,mnist)"
   ]
  },
  {
   "cell_type": "code",
   "execution_count": null,
   "metadata": {},
   "outputs": [],
   "source": [
    "def predict8(sess, adds):\n",
    "    from PIL import Image\n",
    "    import base64\n",
    "    import io\n",
    "    import os\n",
    "    import tempfile\n",
    "    import json\n",
    "    \n",
    "    \n",
    "    \n",
    "    data = json.loads(adds)\n",
    "#     image_format = data['format']\n",
    "    image_bytes = data['input']\n",
    "    print(image_bytes,type(image_bytes))\n",
    "    # Create a temp file to write to\n",
    "    tmp = tempfile.NamedTemporaryFile('wb', delete=False)\n",
    "    tmp.write(io.BytesIO(base64.b64decode(image_bytes)).getvalue())\n",
    "    tmp.close()    \n",
    "\n",
    "    im = Image.open(tmp.name) #读取的图片所在路径，注意是28*28像素\n",
    "    im = im.convert('L')\n",
    "    tv = list(im.getdata()) \n",
    "    tva = [[(255-x)*1.0/255.0 for x in tv]]\n",
    "    predints=sess.run('y_conv:0',feed_dict={\"x:0\":tva,\"keep_prob:0\": 1.0})\n",
    "    return str(predints[0])\n",
    "# adds = [\"/root/code/pic_png/0.png\",\"/root/code/pic_png/2.png\",\"/root/code/pic_png/8.png\"]\n",
    "# adds = \"/root/code/pic_png/0.png\"\n",
    "\n",
    "# predict8(sess,adds)"
   ]
  },
  {
   "cell_type": "code",
   "execution_count": null,
   "metadata": {
    "scrolled": false
   },
   "outputs": [],
   "source": [
    "list1 = []\n",
    "im = Image.open(\"/root/code/pic_png/0.png\")\n",
    "im = im.convert('L')\n",
    "tv = list(im.getdata())\n",
    "tva = [[(255-x)*1.0/255.0 for x in tv]]\n",
    "tva_j = json.dumps(tva)\n",
    "# list1.append(tva)\n",
    "print(type(tva_j))\n",
    "# str1 = str(list1)\n",
    "# tva1 = list(str1)\n",
    "# print(tva1)\n",
    "# print(tva==tva1[0])\n",
    "tva_c = json.loads(tva_j)\n",
    "ce = json.loads(tva_c)\n",
    "# print(tva==tva_c)\n",
    "# print(tva_c,type(tva_c))"
   ]
  },
  {
   "cell_type": "code",
   "execution_count": null,
   "metadata": {},
   "outputs": [],
   "source": [
    "def predict9(sess, adds):\n",
    "    import json\n",
    "    \n",
    "    data = json.loads(adds)\n",
    "    predints=sess.run('y_conv:0',feed_dict={\"x:0\":data,\"keep_prob:0\": 1.0})\n",
    "    \n",
    "    return predints\n",
    "#提示json错误  应该是哪里的 数据 不符合json规则\n",
    "# predict9(sess,tva_c)"
   ]
  },
  {
   "cell_type": "code",
   "execution_count": null,
   "metadata": {},
   "outputs": [],
   "source": [
    "def predict10(sess, adds):\n",
    "    import json\n",
    "    num_imgs = len(adds)\n",
    "    result = []\n",
    "    for i in range(num_imgs):\n",
    "        data = json.loads(adds[i])\n",
    "        predints=sess.run('y_conv:0',feed_dict={\"x:0\":data,\"keep_prob:0\": 1.0})\n",
    "        result.append(str(predints[0]))\n",
    "    \n",
    "    return result\n",
    "# predict9(sess,tva_c) 成功预测 并部署通过 数据处理可得到 预测结果"
   ]
  },
  {
   "cell_type": "code",
   "execution_count": null,
   "metadata": {},
   "outputs": [],
   "source": [
    "import base64\n",
    "import json\n",
    "import requests\n",
    "from PIL import Image\n",
    "import io\n",
    "import os\n",
    "import tempfile\n",
    "\n",
    "req_json = json.dumps({\n",
    "    \"input\":\n",
    "    json.dumps({\n",
    "        'data': base64.b64encode(open(\"/root/code/pic_png/0.png\", \"rb\").read()).decode()\n",
    "    })\n",
    "})  \n",
    "# r = requests.post(url, headers=headers, data=req_json)\n",
    "#     print(r.json())\n",
    "\n",
    "predict8(sess, req_json)\n"
   ]
  },
  {
   "cell_type": "code",
   "execution_count": null,
   "metadata": {},
   "outputs": [],
   "source": [
    "def predict4(sess, adds):\n",
    "    results=[]\n",
    "    for add in adds:\n",
    "        im = Image.open(add) #读取的图片所在路径，注意是28*28像素\n",
    "#         plt.imshow(im)  #显示需要识别的图片\n",
    "#         plt.show()\n",
    "        im = im.convert('L')\n",
    "        tv = list(im.getdata()) \n",
    "        tva = [[(255-x)*1.0/255.0 for x in tv]]\n",
    "        predint=sess.run('prediction',feed_dict={x:tva})\n",
    "        results.append(str(predint[0]))\n",
    "    return results\n",
    "#x的操作不在局部图中 \n",
    "adds = [\"/root/code/pic_png/0.png\",\"/root/code/pic_png/2.png\",\"/root/code/pic_png/8.png\"]\n",
    "predict4(sess,adds)\n",
    "\n",
    "#提示opretion不在图中 不明白为啥 不在图中\n",
    "#ValueError: Fetch argument 'prediction' cannot be interpreted as a Tensor. \n",
    "#(\"The name 'prediction' refers to an Operation not in the graph.\")"
   ]
  },
  {
   "cell_type": "code",
   "execution_count": null,
   "metadata": {},
   "outputs": [],
   "source": [
    "from cloudpickle import CloudPickler\n",
    "from io import StringIO\n",
    "# s = StringIO()\n",
    "# c = CloudPickler()\n",
    "# c.dump(prediction(sess,adds))\n",
    "CloudPickler(prediction(sess,adds))\n",
    "# cloudpickle.dumps(prediction(sess,adds))"
   ]
  },
  {
   "cell_type": "code",
   "execution_count": null,
   "metadata": {},
   "outputs": [],
   "source": [
    "adds = [\"/root/code/pic_png/0.png\",\"/root/code/pic_png/2.png\",\"/root/code/pic_png/8.png\"]\n",
    "f = open(\"/root/code/1.text\", 'wb')\n",
    "# import plic.pickle\n",
    "from cloudpickle import CloudPickler\n",
    "# from StringIO import StringIO\n",
    "# s = StringIO()\n",
    "c = CloudPickler(s, 2)\n",
    "c.dump(prediction(sess,adds),f)\n",
    "f1 = open(\"/root/code/1.text\", 'rb')\n",
    "data1 =CloudPickler.load(f1)\n",
    "print(data1)\n"
   ]
  },
  {
   "cell_type": "code",
   "execution_count": null,
   "metadata": {},
   "outputs": [],
   "source": [
    "from clipper_admin import ClipperConnection, DockerContainerManager\n",
    "from clipper_admin.deployers.tensorflow import deploy_tensorflow_model\n",
    "clipper_conn = ClipperConnection(DockerContainerManager())"
   ]
  },
  {
   "cell_type": "code",
   "execution_count": null,
   "metadata": {
    "scrolled": true
   },
   "outputs": [],
   "source": [
    "clipper_conn.start_clipper()"
   ]
  },
  {
   "cell_type": "code",
   "execution_count": null,
   "metadata": {},
   "outputs": [],
   "source": [
    "clipper_conn.connect()"
   ]
  },
  {
   "cell_type": "code",
   "execution_count": null,
   "metadata": {},
   "outputs": [],
   "source": [
    "clipper_conn.register_application(\n",
    "    name=\"mnist-app\", input_type=\"strings\", default_output=\"-1.0\", slo_micros=100000)"
   ]
  },
  {
   "cell_type": "code",
   "execution_count": null,
   "metadata": {
    "scrolled": false
   },
   "outputs": [],
   "source": [
    "deploy_tensorflow_model(\n",
    "    clipper_conn,\n",
    "    name=\"mnist-mod\",\n",
    "    version=1, # version 2 of the same model, `predict` endpoint will be updated \n",
    "    # automatically to the newest model version\n",
    "    input_type=\"strings\",\n",
    "     func=predict10,\n",
    "    tf_sess_or_saved_model_path=sess,\n",
    "   )"
   ]
  },
  {
   "cell_type": "code",
   "execution_count": null,
   "metadata": {},
   "outputs": [],
   "source": [
    "sess"
   ]
  },
  {
   "cell_type": "code",
   "execution_count": null,
   "metadata": {},
   "outputs": [],
   "source": [
    "# Link the model and the app\n",
    "clipper_conn.link_model_to_app(\n",
    "    app_name=\"mnist-app\",\n",
    "    model_name=\"mnist-mod\")"
   ]
  },
  {
   "cell_type": "code",
   "execution_count": null,
   "metadata": {},
   "outputs": [],
   "source": [
    "# Get query address\n",
    "query_address = clipper_conn.get_query_addr()\n",
    "print(query_address)"
   ]
  },
  {
   "cell_type": "code",
   "execution_count": null,
   "metadata": {},
   "outputs": [],
   "source": [
    "# Run a query\n",
    "import requests, json, numpy as np\n",
    "headers = {\"Content-type\": \"application/json\"}\n",
    "requests.post(\"http://\"+query_address+\"/mnist-app/predict\", headers=headers, data=json.dumps({\n",
    "    \"input\": \"/root/code/pic_png/0.png\"})).json()"
   ]
  },
  {
   "cell_type": "code",
   "execution_count": null,
   "metadata": {},
   "outputs": [],
   "source": [
    "import matplotlib.pyplot as plt\n",
    "import base64\n",
    "import json\n",
    "import requests\n",
    "def query_json(addr, filename):\n",
    "    url = \"http://%s/mnist-app/predict\" % addr\n",
    "\n",
    "    im = Image.open(filename)\n",
    "    plt.imshow(im)  #显示需要识别的图片\n",
    "    plt.show()\n",
    "    im = im.convert('L')\n",
    "    tv = list(im.getdata())\n",
    "    tva = [[(255-x)*1.0/255.0 for x in tv]]\n",
    "    tva = json.dumps(tva)\n",
    "    tva_j = json.dumps({\"input\": tva})\n",
    "    headers = {'Content-type': 'application/json'}\n",
    "    r = requests.post(url, headers=headers, data=tva_j)\n",
    "    re = r.text\n",
    "    global false, null, true\n",
    "\n",
    "    false = null = true = ''\n",
    "    ls = eval(re)\n",
    "    numbers = ls['output']\n",
    "    numbers_str = numbers[1:-1]\n",
    "    numbers_str=numbers_str.replace(\"\\n\", \"\")\n",
    "    list1 = numbers_str.split(' ')\n",
    "    print(\"this number is \"+ str(list1.index(max(list1))))\n",
    "    return (list1.index(max(list1)))"
   ]
  },
  {
   "cell_type": "code",
   "execution_count": null,
   "metadata": {},
   "outputs": [],
   "source": [
    "query_json(query_address, \"/root/code/pic_png/8.png\")"
   ]
  },
  {
   "cell_type": "code",
   "execution_count": null,
   "metadata": {},
   "outputs": [],
   "source": [
    "re = query_json(query_address, \"/root/code/pic_png/0.png\")\n",
    "print (re)"
   ]
  },
  {
   "cell_type": "code",
   "execution_count": null,
   "metadata": {},
   "outputs": [],
   "source": [
    "global false, null, true\n",
    "\n",
    "false = null = true = ''\n",
    "ls = eval(re)\n",
    "print(ls,type(ls))\n",
    "\"\"\"\n",
    "出现NameError: name 'false' is not defined这个错误时，是因为在使用eval转化为字典时，中间的false，null等区分大小写导致。\n",
    "\n",
    "global false, null, true\n",
    "\n",
    "false = null = true = ''\n",
    "\n",
    "result1 = eval(content)\n",
    "\n",
    "\"\"\"\n",
    "\n"
   ]
  },
  {
   "cell_type": "code",
   "execution_count": null,
   "metadata": {},
   "outputs": [],
   "source": [
    "numbers = ls['output']\n",
    "print(numbers)\n",
    "print(type(numbers))\n",
    "print(len(numbers))\n",
    "# print(max(numbers))"
   ]
  },
  {
   "cell_type": "code",
   "execution_count": null,
   "metadata": {},
   "outputs": [],
   "source": [
    "numbers_str = numbers[1:-1]\n",
    "numbers_str=numbers_str.replace(\"\\n\", \"\")\n",
    "list1 = numbers_str.split(' ')\n",
    "\n",
    "print(list1.index(max(list1)))"
   ]
  },
  {
   "cell_type": "code",
   "execution_count": null,
   "metadata": {},
   "outputs": [],
   "source": [
    "clipper_conn.stop_all()"
   ]
  },
  {
   "cell_type": "markdown",
   "metadata": {},
   "source": [
    "总结 ：1，函数问题中 现在是要达到成功预测 必然需要 predicion写法写法 但是提示自锁 无法部署\n",
    "     2，要达到成功部署 需要predict3的写法 但是不能成功预测了。 该情况 docker日志一直显示发送数据 接收到数据 无显著线索\n",
    "     两者无法兼顾\n"
   ]
  },
  {
   "attachments": {
    "image.png": {
     "image/png": "[encoded data removed]"
    }
   },
   "cell_type": "markdown",
   "metadata": {},
   "source": [
    "predict6已经成功部署但是 部署后 没有 相应的部署容器 怀疑是 clipper环境问题 想不到 可能的原因都 查看docker容器 发现 \n",
    "镜像中的 default-cluster-mnist-mod 没有启动容器 使用docker run命令启动后 显示 \n",
    "![image.png](attachment:image.png)\n",
    "不健康的状态  原因未知\n",
    "尝试 运用sess 和导入sess所在文件夹的方式 均不能成功 现在错误是 'default_explanation': 'No connected models found for query'}\n",
    "通过 prefict7 函数发现 model 启动了 感觉是 函数中调用了 PIL 库 但是 我没有安装 所以 不启动。。。。。。。。。这现象 也是无语\n",
    "此时报错为  输入输出问题 规定时间wei\n",
    "\n",
    "\n"
   ]
  }
 ],
 "metadata": {
  "kernelspec": {
   "display_name": "Python 3",
   "language": "python",
   "name": "python3"
  },
  "language_info": {
   "codemirror_mode": {
    "name": "ipython",
    "version": 3
   },
   "file_extension": ".py",
   "mimetype": "text/x-python",
   "name": "python",
   "nbconvert_exporter": "python",
   "pygments_lexer": "ipython3",
   "version": "3.6.1"
  }
 },
 "nbformat": 4,
 "nbformat_minor": 4
}
