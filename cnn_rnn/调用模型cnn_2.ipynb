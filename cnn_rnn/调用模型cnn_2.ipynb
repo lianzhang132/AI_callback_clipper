{
 "cells": [
  {
   "cell_type": "code",
   "execution_count": 1,
   "metadata": {},
   "outputs": [
    {
     "name": "stderr",
     "output_type": "stream",
     "text": [
      "/usr/local/lib/python3.6/site-packages/pandas/compat/__init__.py:117: UserWarning: Could not import the lzma module. Your installed Python is incomplete. Attempting to use lzma compression will result in a RuntimeError.\n",
      "  warnings.warn(msg)\n"
     ]
    },
    {
     "name": "stdout",
     "output_type": "stream",
     "text": [
      "WARNING:tensorflow:From <ipython-input-1-556920d90a5c>:10: read_data_sets (from tensorflow.contrib.learn.python.learn.datasets.mnist) is deprecated and will be removed in a future version.\n",
      "Instructions for updating:\n",
      "Please use alternatives such as official/mnist/dataset.py from tensorflow/models.\n",
      "WARNING:tensorflow:From /usr/local/lib/python3.6/site-packages/tensorflow_core/contrib/learn/python/learn/datasets/mnist.py:260: maybe_download (from tensorflow.contrib.learn.python.learn.datasets.base) is deprecated and will be removed in a future version.\n",
      "Instructions for updating:\n",
      "Please write your own downloading logic.\n",
      "WARNING:tensorflow:From /usr/local/lib/python3.6/site-packages/tensorflow_core/contrib/learn/python/learn/datasets/mnist.py:262: extract_images (from tensorflow.contrib.learn.python.learn.datasets.mnist) is deprecated and will be removed in a future version.\n",
      "Instructions for updating:\n",
      "Please use tf.data to implement this functionality.\n",
      "Extracting /root/code/MNIST_data/train-images-idx3-ubyte.gz\n",
      "WARNING:tensorflow:From /usr/local/lib/python3.6/site-packages/tensorflow_core/contrib/learn/python/learn/datasets/mnist.py:267: extract_labels (from tensorflow.contrib.learn.python.learn.datasets.mnist) is deprecated and will be removed in a future version.\n",
      "Instructions for updating:\n",
      "Please use tf.data to implement this functionality.\n",
      "Extracting /root/code/MNIST_data/train-labels-idx1-ubyte.gz\n",
      "WARNING:tensorflow:From /usr/local/lib/python3.6/site-packages/tensorflow_core/contrib/learn/python/learn/datasets/mnist.py:110: dense_to_one_hot (from tensorflow.contrib.learn.python.learn.datasets.mnist) is deprecated and will be removed in a future version.\n",
      "Instructions for updating:\n",
      "Please use tf.one_hot on tensors.\n",
      "Extracting /root/code/MNIST_data/t10k-images-idx3-ubyte.gz\n",
      "Extracting /root/code/MNIST_data/t10k-labels-idx1-ubyte.gz\n",
      "WARNING:tensorflow:From /usr/local/lib/python3.6/site-packages/tensorflow_core/contrib/learn/python/learn/datasets/mnist.py:290: DataSet.__init__ (from tensorflow.contrib.learn.python.learn.datasets.mnist) is deprecated and will be removed in a future version.\n",
      "Instructions for updating:\n",
      "Please use alternatives such as official/mnist/dataset.py from tensorflow/models.\n",
      "WARNING:tensorflow:From <ipython-input-1-556920d90a5c>:53: calling dropout (from tensorflow.python.ops.nn_ops) with keep_prob is deprecated and will be removed in a future version.\n",
      "Instructions for updating:\n",
      "Please use `rate` instead of `keep_prob`. Rate should be set to `rate = 1 - keep_prob`.\n",
      "INFO:tensorflow:Restoring parameters from /tmp/tf_cnn2/model.ckpt\n"
     ]
    },
    {
     "data": {
      "image/png": "[encoded data removed]",
      "text/plain": [
       "<Figure size 432x288 with 1 Axes>"
      ]
     },
     "metadata": {
      "needs_background": "light"
     },
     "output_type": "display_data"
    },
    {
     "name": "stdout",
     "output_type": "stream",
     "text": [
      "识别结果:\n",
      "3\n"
     ]
    }
   ],
   "source": [
    "from PIL import Image, ImageFilter\n",
    "\n",
    "import matplotlib.pyplot as plt\n",
    "\n",
    "from tensorflow.examples.tutorials.mnist import input_data\n",
    "\n",
    "\n",
    "import tensorflow as tf\n",
    "from datetime import datetime\n",
    "mnist = input_data.read_data_sets('/root/code/MNIST_data/', one_hot=True) \n",
    "#MNIST数据集所在路径\n",
    "\n",
    "x = tf.placeholder(tf.float32, [None, 784])\n",
    "\n",
    "y_ = tf.placeholder(tf.float32, [None, 10])\n",
    "lr = tf.Variable(0.001,dtype=tf.float32)\n",
    "\n",
    "def weight_variable(shape):\n",
    "    initial = tf.truncated_normal(shape,stddev = 0.1)\n",
    "    return tf.Variable(initial)\n",
    "\n",
    "def bias_variable(shape):\n",
    "    initial = tf.constant(0.1,shape = shape)\n",
    "    return tf.Variable(initial)\n",
    "\n",
    "def conv2d(x,W):\n",
    "    return tf.nn.conv2d(x, W, strides = [1,1,1,1], padding = 'SAME')\n",
    "\n",
    "def max_pool_2x2(x):\n",
    "    return tf.nn.max_pool(x, ksize=[1,2,2,1], strides=[1,2,2,1], padding='SAME')\n",
    "\n",
    "W_conv1 = weight_variable([5, 5, 1, 32])\n",
    "b_conv1 = bias_variable([32])\n",
    "\n",
    "x_image = tf.reshape(x,[-1,28,28,1])\n",
    "\n",
    "h_conv1 = tf.nn.relu(conv2d(x_image,W_conv1) + b_conv1)\n",
    "h_pool1 = max_pool_2x2(h_conv1)\n",
    "\n",
    "W_conv2 = weight_variable([5, 5, 32, 64])\n",
    "b_conv2 = bias_variable([64])\n",
    "\n",
    "h_conv2 = tf.nn.relu(conv2d(h_pool1, W_conv2) + b_conv2)\n",
    "h_pool2 = max_pool_2x2(h_conv2)\n",
    "\n",
    "W_fc1 = weight_variable([7 * 7 * 64, 1024])\n",
    "b_fc1 = bias_variable([1024])\n",
    "\n",
    "h_pool2_flat = tf.reshape(h_pool2, [-1, 7*7*64])\n",
    "h_fc1 = tf.nn.relu(tf.matmul(h_pool2_flat, W_fc1) + b_fc1)\n",
    "\n",
    "keep_prob = tf.placeholder(\"float\")\n",
    "h_fc1_drop = tf.nn.dropout(h_fc1, keep_prob)\n",
    "\n",
    "W_fc2 = weight_variable([1024, 10])\n",
    "b_fc2 = bias_variable([10])\n",
    "\n",
    "y_conv=tf.nn.softmax(tf.matmul(h_fc1_drop, W_fc2) + b_fc2)\n",
    "\n",
    "cross_entropy = -tf.reduce_sum(y_*tf.log(y_conv))\n",
    "train_step = tf.train.AdamOptimizer(1e-4).minimize(cross_entropy)\n",
    "correct_prediction = tf.equal(tf.argmax(y_conv,1), tf.argmax(y_,1))\n",
    "accuracy = tf.reduce_mean(tf.cast(correct_prediction, \"float\"))\n",
    "\n",
    "\n",
    "#写预测接口 一串函数写进去？\n",
    "# predition_L = tf.argmax(tf.nn.softmax(tf.matmul(h_fc1_drop, W_fc2) + b_fc2),1)\n",
    "prediction=tf.argmax(y_conv,1)\n",
    "\n",
    "\n",
    "\n",
    "\n",
    "saver = tf.train.Saver()\n",
    "sess = tf.Session()\n",
    "\n",
    "sess.run(tf.global_variables_initializer())\n",
    "saver.restore(sess, '/tmp/tf_cnn2/model.ckpt') #使用模型，参数和之前的代码保持一致\n",
    "\n",
    "prediction=tf.argmax(y_conv,1)\n",
    "im = Image.open('/root/code/pic_png/3.png') #读取的图片所在路径，注意是28*28像素\n",
    "plt.imshow(im)  #显示需要识别的图片\n",
    "plt.show()\n",
    "im = im.convert('L')\n",
    "tv = list(im.getdata()) \n",
    "tva = [(255-x)*1.0/255.0 for x in tv] \n",
    "predint=prediction.eval(feed_dict={x: [tva],keep_prob: 1.0}, session=sess)\n",
    "#TypeError: eval() got an unexpected keyword argument 'name' 这是不是代表 sess.run的函数方式行不通了\n",
    "print('识别结果:')\n",
    "print(predint[0])\n",
    "#用了函数处理 图像数据 所以用x:【result】"
   ]
  },
  {
   "cell_type": "code",
   "execution_count": 2,
   "metadata": {},
   "outputs": [],
   "source": [
    "def predict10(sess, adds):\n",
    "    import json\n",
    "    num_imgs = len(adds)\n",
    "    result = []\n",
    "    for i in range(num_imgs):\n",
    "        data = json.loads(adds[i])\n",
    "        predints=sess.run('y_conv:0',feed_dict={\"x:0\":data,\"keep_prob:0\": 1.0})\n",
    "        result.append(str(predints[0]))\n",
    "    \n",
    "    return result"
   ]
  },
  {
   "cell_type": "code",
   "execution_count": 3,
   "metadata": {},
   "outputs": [],
   "source": [
    "from clipper_admin import ClipperConnection, DockerContainerManager\n",
    "from clipper_admin.deployers.tensorflow import deploy_tensorflow_model\n",
    "clipper_conn = ClipperConnection(DockerContainerManager())"
   ]
  },
  {
   "cell_type": "code",
   "execution_count": 4,
   "metadata": {},
   "outputs": [
    {
     "name": "stderr",
     "output_type": "stream",
     "text": [
      "20-07-16:05:21:47 INFO     [docker_container_manager.py:184] [default-cluster] Starting managed Redis instance in Docker\n",
      "20-07-16:05:21:52 INFO     [docker_container_manager.py:276] [default-cluster] Metric Configuration Saved at /tmp/tmpr_8eqijq.yml\n",
      "20-07-16:05:21:53 INFO     [clipper_admin.py:162] [default-cluster] Clipper is running\n"
     ]
    }
   ],
   "source": [
    "clipper_conn.start_clipper()"
   ]
  },
  {
   "cell_type": "code",
   "execution_count": 5,
   "metadata": {},
   "outputs": [
    {
     "name": "stderr",
     "output_type": "stream",
     "text": [
      "20-07-16:05:21:54 INFO     [clipper_admin.py:172] [default-cluster] Successfully connected to Clipper cluster at localhost:1337\n"
     ]
    }
   ],
   "source": [
    "clipper_conn.connect()"
   ]
  },
  {
   "cell_type": "code",
   "execution_count": 6,
   "metadata": {},
   "outputs": [
    {
     "name": "stderr",
     "output_type": "stream",
     "text": [
      "20-07-16:05:21:56 INFO     [clipper_admin.py:236] [default-cluster] Application mnist-app was successfully registered\n"
     ]
    }
   ],
   "source": [
    "clipper_conn.register_application(\n",
    "    name=\"mnist-app\", input_type=\"strings\", default_output=\"-1.0\", slo_micros=100000)"
   ]
  },
  {
   "cell_type": "code",
   "execution_count": 7,
   "metadata": {},
   "outputs": [
    {
     "name": "stderr",
     "output_type": "stream",
     "text": [
      "20-07-16:05:21:58 INFO     [deployer_utils.py:41] Saving function to /tmp/tmpz2louyiaclipper\n",
      "20-07-16:05:21:58 INFO     [deployer_utils.py:51] Serialized and supplied predict function\n",
      "20-07-16:05:21:58 INFO     [tensorflow.py:196] TensorFlow model saved at: /tmp/tmpz2louyiaclipper/tfmodel/model.ckpt \n",
      "20-07-16:05:21:58 INFO     [tensorflow.py:277] Using Python 3.6 base image\n",
      "20-07-16:05:21:58 INFO     [clipper_admin.py:534] [default-cluster] Building model Docker image with model data from /tmp/tmpz2louyiaclipper\n",
      "20-07-16:05:22:00 INFO     [clipper_admin.py:539] [default-cluster] Step 1/2 : FROM clipper/tf36-container:0.4.1\n",
      "20-07-16:05:22:00 INFO     [clipper_admin.py:539] [default-cluster]  ---> 3db42af800ff\n",
      "20-07-16:05:22:00 INFO     [clipper_admin.py:539] [default-cluster] Step 2/2 : COPY /tmp/tmpz2louyiaclipper /model/\n",
      "20-07-16:05:22:00 INFO     [clipper_admin.py:539] [default-cluster]  ---> 3743c9d9d1bf\n",
      "20-07-16:05:22:00 INFO     [clipper_admin.py:539] [default-cluster] Successfully built 3743c9d9d1bf\n",
      "20-07-16:05:22:00 INFO     [clipper_admin.py:539] [default-cluster] Successfully tagged default-cluster-mnist-mod:1\n",
      "20-07-16:05:22:00 INFO     [clipper_admin.py:541] [default-cluster] Pushing model Docker image to default-cluster-mnist-mod:1\n",
      "20-07-16:05:22:12 INFO     [docker_container_manager.py:409] [default-cluster] Found 0 replicas for mnist-mod:1. Adding 1\n",
      "20-07-16:05:22:13 INFO     [clipper_admin.py:724] [default-cluster] Successfully registered model mnist-mod:1\n",
      "20-07-16:05:22:13 INFO     [clipper_admin.py:642] [default-cluster] Done deploying model mnist-mod:1.\n"
     ]
    }
   ],
   "source": [
    "deploy_tensorflow_model(\n",
    "    clipper_conn,\n",
    "    name=\"mnist-mod\",\n",
    "    version=1, # version 2 of the same model, `predict` endpoint will be updated \n",
    "    # automatically to the newest model version\n",
    "    input_type=\"strings\",\n",
    "     func=predict10,\n",
    "    tf_sess_or_saved_model_path=sess,\n",
    "   )"
   ]
  },
  {
   "cell_type": "code",
   "execution_count": 8,
   "metadata": {},
   "outputs": [
    {
     "name": "stderr",
     "output_type": "stream",
     "text": [
      "20-07-16:05:22:13 INFO     [clipper_admin.py:303] [default-cluster] Model mnist-mod is now linked to application mnist-app\n"
     ]
    }
   ],
   "source": [
    "clipper_conn.link_model_to_app(\n",
    "    app_name=\"mnist-app\",\n",
    "    model_name=\"mnist-mod\")"
   ]
  },
  {
   "cell_type": "code",
   "execution_count": 9,
   "metadata": {},
   "outputs": [
    {
     "name": "stdout",
     "output_type": "stream",
     "text": [
      "localhost:1337\n"
     ]
    }
   ],
   "source": [
    "# Get query address\n",
    "query_address = clipper_conn.get_query_addr()\n",
    "print(query_address)"
   ]
  },
  {
   "cell_type": "code",
   "execution_count": 15,
   "metadata": {},
   "outputs": [],
   "source": [
    "import matplotlib.pyplot as plt\n",
    "import base64\n",
    "import json\n",
    "import requests\n",
    "from datetime import datetime\n",
    "\n",
    "\n",
    "\n",
    "def query_json(addr, filename,mnist,sess):\n",
    "    url = \"http://%s/mnist-app/predict\" % addr\n",
    "\n",
    "    im = Image.open(filename)\n",
    "    plt.imshow(im)  #显示需要识别的图片\n",
    "    plt.show()\n",
    "    im = im.convert('L')\n",
    "    tv = list(im.getdata())\n",
    "    tva = [[(255-x)*1.0/255.0 for x in tv]]\n",
    "    tva = json.dumps(tva)\n",
    "    tva_j = json.dumps({\"input\": tva})\n",
    "    headers = {'Content-type': 'application/json'}\n",
    "    start = datetime.now()\n",
    "    r = requests.post(url, headers=headers, data=tva_j)\n",
    "    end = datetime.now()\n",
    "    latency = (end - start).total_seconds() * 1000.0\n",
    "    print(latency)\n",
    "    re = r.text\n",
    "    global false, null, true\n",
    "\n",
    "    false = null = true = ''\n",
    "    ls = eval(re)\n",
    "    numbers = ls['output']\n",
    "    numbers_str = numbers[1:-1]\n",
    "    numbers_str=numbers_str.replace(\"\\n\", \"\")\n",
    "    list1 = numbers_str.split(' ')\n",
    "    print(\"this number is \"+ str(list1.index(max(list1)))+\" , \"+\"The latency is   \"+str(latency))\n",
    "    print('test accuracy %g' % accuracy.eval(feed_dict={\n",
    "        \"x:0\": mnist.test.images, \"y_:0\": mnist.test.labels, keep_prob: 1.0},session=sess))\n",
    "    return (list1.index(max(list1)))"
   ]
  },
  {
   "cell_type": "code",
   "execution_count": 18,
   "metadata": {},
   "outputs": [
    {
     "name": "stdout",
     "output_type": "stream",
     "text": [
      "Extracting /root/code/MNIST_data/train-images-idx3-ubyte.gz\n",
      "Extracting /root/code/MNIST_data/train-labels-idx1-ubyte.gz\n",
      "Extracting /root/code/MNIST_data/t10k-images-idx3-ubyte.gz\n",
      "Extracting /root/code/MNIST_data/t10k-labels-idx1-ubyte.gz\n"
     ]
    },
    {
     "data": {
      "image/png": "[encoded data removed]",
      "text/plain": [
       "<Figure size 432x288 with 1 Axes>"
      ]
     },
     "metadata": {
      "needs_background": "light"
     },
     "output_type": "display_data"
    },
    {
     "name": "stdout",
     "output_type": "stream",
     "text": [
      "5.933\n"
     ]
    },
    {
     "ename": "TypeError",
     "evalue": "'float' object is not subscriptable",
     "output_type": "error",
     "traceback": [
      "\u001b[0;31m---------------------------------------------------------------------------\u001b[0m",
      "\u001b[0;31mTypeError\u001b[0m                                 Traceback (most recent call last)",
      "\u001b[0;32m<ipython-input-18-4fbe8621886e>\u001b[0m in \u001b[0;36m<module>\u001b[0;34m\u001b[0m\n\u001b[1;32m      1\u001b[0m \u001b[0;32mfrom\u001b[0m \u001b[0mtensorflow\u001b[0m\u001b[0;34m.\u001b[0m\u001b[0mexamples\u001b[0m\u001b[0;34m.\u001b[0m\u001b[0mtutorials\u001b[0m\u001b[0;34m.\u001b[0m\u001b[0mmnist\u001b[0m \u001b[0;32mimport\u001b[0m \u001b[0minput_data\u001b[0m\u001b[0;34m\u001b[0m\u001b[0m\n\u001b[1;32m      2\u001b[0m \u001b[0mmnist\u001b[0m \u001b[0;34m=\u001b[0m \u001b[0minput_data\u001b[0m\u001b[0;34m.\u001b[0m\u001b[0mread_data_sets\u001b[0m\u001b[0;34m(\u001b[0m\u001b[0;34m'/root/code/MNIST_data/'\u001b[0m\u001b[0;34m,\u001b[0m \u001b[0mone_hot\u001b[0m\u001b[0;34m=\u001b[0m\u001b[0;32mTrue\u001b[0m\u001b[0;34m)\u001b[0m\u001b[0;34m\u001b[0m\u001b[0m\n\u001b[0;32m----> 3\u001b[0;31m \u001b[0mquery_json\u001b[0m\u001b[0;34m(\u001b[0m\u001b[0mquery_address\u001b[0m\u001b[0;34m,\u001b[0m \u001b[0;34m\"/root/code/pic_png/6.png\"\u001b[0m\u001b[0;34m,\u001b[0m\u001b[0mmnist\u001b[0m\u001b[0;34m,\u001b[0m\u001b[0msess\u001b[0m\u001b[0;34m)\u001b[0m\u001b[0;34m\u001b[0m\u001b[0m\n\u001b[0m",
      "\u001b[0;32m<ipython-input-15-a0abca88651a>\u001b[0m in \u001b[0;36mquery_json\u001b[0;34m(addr, filename, mnist, sess)\u001b[0m\n\u001b[1;32m     30\u001b[0m     \u001b[0mls\u001b[0m \u001b[0;34m=\u001b[0m \u001b[0meval\u001b[0m\u001b[0;34m(\u001b[0m\u001b[0mre\u001b[0m\u001b[0;34m)\u001b[0m\u001b[0;34m\u001b[0m\u001b[0m\n\u001b[1;32m     31\u001b[0m     \u001b[0mnumbers\u001b[0m \u001b[0;34m=\u001b[0m \u001b[0mls\u001b[0m\u001b[0;34m[\u001b[0m\u001b[0;34m'output'\u001b[0m\u001b[0;34m]\u001b[0m\u001b[0;34m\u001b[0m\u001b[0m\n\u001b[0;32m---> 32\u001b[0;31m     \u001b[0mnumbers_str\u001b[0m \u001b[0;34m=\u001b[0m \u001b[0mnumbers\u001b[0m\u001b[0;34m[\u001b[0m\u001b[0;36m1\u001b[0m\u001b[0;34m:\u001b[0m\u001b[0;34m-\u001b[0m\u001b[0;36m1\u001b[0m\u001b[0;34m]\u001b[0m\u001b[0;34m\u001b[0m\u001b[0m\n\u001b[0m\u001b[1;32m     33\u001b[0m     \u001b[0mnumbers_str\u001b[0m\u001b[0;34m=\u001b[0m\u001b[0mnumbers_str\u001b[0m\u001b[0;34m.\u001b[0m\u001b[0mreplace\u001b[0m\u001b[0;34m(\u001b[0m\u001b[0;34m\"\\n\"\u001b[0m\u001b[0;34m,\u001b[0m \u001b[0;34m\"\"\u001b[0m\u001b[0;34m)\u001b[0m\u001b[0;34m\u001b[0m\u001b[0m\n\u001b[1;32m     34\u001b[0m     \u001b[0mlist1\u001b[0m \u001b[0;34m=\u001b[0m \u001b[0mnumbers_str\u001b[0m\u001b[0;34m.\u001b[0m\u001b[0msplit\u001b[0m\u001b[0;34m(\u001b[0m\u001b[0;34m' '\u001b[0m\u001b[0;34m)\u001b[0m\u001b[0;34m\u001b[0m\u001b[0m\n",
      "\u001b[0;31mTypeError\u001b[0m: 'float' object is not subscriptable"
     ]
    }
   ],
   "source": [
    "from tensorflow.examples.tutorials.mnist import input_data\n",
    "mnist = input_data.read_data_sets('/root/code/MNIST_data/', one_hot=True) \n",
    "query_json(query_address, \"/root/code/pic_png/6.png\",mnist,sess)"
   ]
  },
  {
   "cell_type": "code",
   "execution_count": 19,
   "metadata": {},
   "outputs": [
    {
     "name": "stderr",
     "output_type": "stream",
     "text": [
      "20-07-16:05:25:27 INFO     [clipper_admin.py:1424] [default-cluster] Stopped all Clipper cluster and all model containers\n"
     ]
    }
   ],
   "source": [
    "clipper_conn.stop_all()"
   ]
  },
  {
   "cell_type": "code",
   "execution_count": null,
   "metadata": {},
   "outputs": [],
   "source": []
  }
 ],
 "metadata": {
  "kernelspec": {
   "display_name": "Python 3",
   "language": "python",
   "name": "python3"
  },
  "language_info": {
   "codemirror_mode": {
    "name": "ipython",
    "version": 3
   },
   "file_extension": ".py",
   "mimetype": "text/x-python",
   "name": "python",
   "nbconvert_exporter": "python",
   "pygments_lexer": "ipython3",
   "version": "3.6.1"
  }
 },
 "nbformat": 4,
 "nbformat_minor": 4
}
