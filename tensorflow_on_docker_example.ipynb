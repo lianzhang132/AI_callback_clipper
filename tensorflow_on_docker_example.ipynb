{
 "cells": [
  {
   "cell_type": "code",
   "execution_count": 1,
   "metadata": {},
   "outputs": [],
   "source": [
    "\n",
    "import tensorflow as tf\n",
    "import numpy\n",
    "import matplotlib.pyplot as plt\n",
    "rng = numpy.random"
   ]
  },
  {
   "cell_type": "code",
   "execution_count": 2,
   "metadata": {},
   "outputs": [
    {
     "name": "stdout",
     "output_type": "stream",
     "text": [
      "WARNING:tensorflow:From /usr/local/lib/python3.6/site-packages/tensorflow_core/python/ops/math_grad.py:1375: where (from tensorflow.python.ops.array_ops) is deprecated and will be removed in a future version.\n",
      "Instructions for updating:\n",
      "Use tf.where in 2.0, which has the same broadcast rule as np.where\n",
      "Epoch: 0050 cost= 0.097397551 W= 0.17004904 b= 1.3737043\n",
      "Epoch: 0100 cost= 0.095049046 W= 0.17477982 b= 1.3396711\n",
      "Epoch: 0150 cost= 0.092971094 W= 0.17922951 b= 1.3076607\n",
      "Epoch: 0200 cost= 0.091132514 W= 0.18341462 b= 1.2775532\n",
      "Epoch: 0250 cost= 0.089505844 W= 0.18735082 b= 1.2492366\n",
      "Epoch: 0300 cost= 0.088066503 W= 0.19105302 b= 1.222603\n",
      "Epoch: 0350 cost= 0.086793214 W= 0.19453448 b= 1.197558\n",
      "Epoch: 0400 cost= 0.085666642 W= 0.19780862 b= 1.1740036\n",
      "Epoch: 0450 cost= 0.084669784 W= 0.20088811 b= 1.1518502\n",
      "Epoch: 0500 cost= 0.083787680 W= 0.20378458 b= 1.1310132\n",
      "Optimization Finished!\n",
      "Training cost= 0.08378768 W= 0.20378458 b= 1.1310132 \n",
      "\n",
      "Model saved in path: /tmp/tf/model.ckpt\n"
     ]
    },
    {
     "data": {
      "image/png": "[encoded data removed]",
      "text/plain": [
       "<Figure size 432x288 with 1 Axes>"
      ]
     },
     "metadata": {
      "needs_background": "light"
     },
     "output_type": "display_data"
    }
   ],
   "source": [
    "# Parameters\n",
    "learning_rate = 0.01\n",
    "training_epochs = 500\n",
    "display_step = 50\n",
    "# Training Data\n",
    "train_X = numpy.asarray([3.3,4.4,5.5,6.71,6.93,4.168,9.779,6.182,7.59,2.167,\n",
    "                         7.042,10.791,5.313,7.997,5.654,9.27,3.1])\n",
    "train_Y = numpy.asarray([1.7,2.76,2.09,3.19,1.694,1.573,3.366,2.596,2.53,1.221,\n",
    "                         2.827,3.465,1.65,2.904,2.42,2.94,1.3])\n",
    "n_samples = train_X.shape[0]\n",
    "# tf Graph Input\n",
    "# You must name the variables and placeholders, as the names will be later used!!!\n",
    "X = tf.placeholder(\"float\", name='X')\n",
    "Y = tf.placeholder(\"float\")\n",
    "\n",
    "# Set model weights\n",
    "W = tf.Variable(rng.randn(), name=\"weight\")\n",
    "b = tf.Variable(rng.randn(), name=\"bias\")\n",
    "# Construct a linear model\n",
    "pred = tf.add(tf.multiply(X, W), b, name='pred')\n",
    "# Mean squared error\n",
    "cost = tf.reduce_sum(tf.pow(pred-Y, 2))/(2*n_samples)\n",
    "# Gradient descent\n",
    "optimizer = tf.train.GradientDescentOptimizer(learning_rate).minimize(cost)\n",
    "# Initialize the variables (i.e. assign their default value)\n",
    "init = tf.global_variables_initializer()\n",
    "saver = tf.train.Saver()\n",
    "# Start training\n",
    "# sess = tf.Session()\n",
    "with tf.Session() as sess:\n",
    "    sess.run(init)\n",
    "\n",
    "    # Fit all training data\n",
    "    for epoch in range(training_epochs):\n",
    "        for (x, y) in zip(train_X, train_Y):\n",
    "            sess.run(optimizer, feed_dict={X: x, Y: y})\n",
    "\n",
    "        #Display logs per epoch step\n",
    "        if (epoch+1) % display_step == 0:\n",
    "            c = sess.run(cost, feed_dict={X: train_X, Y:train_Y})\n",
    "            print(\"Epoch:\", '%04d' % (epoch+1), \"cost=\", \"{:.9f}\".format(c), \\\n",
    "                \"W=\", sess.run(W), \"b=\", sess.run(b))\n",
    "\n",
    "    print(\"Optimization Finished!\")\n",
    "    training_cost = sess.run(cost, feed_dict={X: train_X, Y: train_Y})\n",
    "    print(\"Training cost=\", training_cost, \"W=\", sess.run(W), \"b=\", sess.run(b), '\\n')\n",
    "\n",
    "    # Save the variables to disk.\n",
    "    save_path = saver.save(sess, \"/tmp/tf/model.ckpt\")\n",
    "    print(\"Model saved in path: %s\" % save_path)\n",
    "    \n",
    "    #Graphic display - matplotlib\n",
    "    plt.plot(train_X, train_Y, 'ro', label='Original data')\n",
    "    plt.plot(train_X, sess.run(W) * train_X + sess.run(b), label='Fitted line')\n",
    "    plt.legend()\n",
    "    plt.show()"
   ]
  },
  {
   "cell_type": "code",
   "execution_count": null,
   "metadata": {},
   "outputs": [],
   "source": [
    "# import the inspect_checkpoint library\n",
    "from tensorflow.python.tools import inspect_checkpoint as chkp\n",
    "\n",
    "# print all tensors in checkpoint file\n",
    "chkp.print_tensors_in_checkpoint_file(\"/tmp/tf/model.ckpt\", tensor_name='', all_tensors=True)"
   ]
  },
  {
   "cell_type": "code",
   "execution_count": 9,
   "metadata": {},
   "outputs": [],
   "source": [
    "def predict(sess, inputs):\n",
    "    preds = sess.run('pred:0', feed_dict={'X:0': inputs}) \n",
    "    # `X` is used, it must be defined in the model with that name explicitly!\n",
    "    return [str(p) for p in preds]"
   ]
  },
  {
   "cell_type": "code",
   "execution_count": 3,
   "metadata": {},
   "outputs": [],
   "source": [
    "\n",
    "from clipper_admin import ClipperConnection, DockerContainerManager\n",
    "from clipper_admin.deployers.tensorflow import deploy_tensorflow_model\n",
    "clipper_conn = ClipperConnection(DockerContainerManager())"
   ]
  },
  {
   "cell_type": "code",
   "execution_count": 4,
   "metadata": {},
   "outputs": [
    {
     "name": "stderr",
     "output_type": "stream",
     "text": [
      "20-04-08:00:22:10 INFO     [docker_container_manager.py:184] [default-cluster] Starting managed Redis instance in Docker\n",
      "20-04-08:00:22:14 INFO     [docker_container_manager.py:276] [default-cluster] Metric Configuration Saved at /tmp/tmpng0_hl16.yml\n",
      "20-04-08:00:22:16 INFO     [clipper_admin.py:162] [default-cluster] Clipper is running\n"
     ]
    }
   ],
   "source": [
    "clipper_conn.start_clipper()"
   ]
  },
  {
   "cell_type": "code",
   "execution_count": 5,
   "metadata": {},
   "outputs": [
    {
     "name": "stderr",
     "output_type": "stream",
     "text": [
      "20-04-08:00:22:18 INFO     [clipper_admin.py:172] [default-cluster] Successfully connected to Clipper cluster at localhost:1337\n"
     ]
    }
   ],
   "source": [
    "clipper_conn.connect()"
   ]
  },
  {
   "cell_type": "code",
   "execution_count": 6,
   "metadata": {},
   "outputs": [
    {
     "data": {
      "text/plain": [
       "[]"
      ]
     },
     "execution_count": 6,
     "metadata": {},
     "output_type": "execute_result"
    }
   ],
   "source": [
    "# List all applications\n",
    "clipper_conn.get_all_apps()"
   ]
  },
  {
   "cell_type": "code",
   "execution_count": null,
   "metadata": {},
   "outputs": [],
   "source": [
    "\n",
    "# List all models\n",
    "clipper_conn.get_all_models()"
   ]
  },
  {
   "cell_type": "code",
   "execution_count": 7,
   "metadata": {},
   "outputs": [
    {
     "name": "stderr",
     "output_type": "stream",
     "text": [
      "20-04-08:00:22:27 INFO     [clipper_admin.py:236] [default-cluster] Application tf-app was successfully registered\n"
     ]
    }
   ],
   "source": [
    "\n",
    "# Add an application with a name and an input type\n",
    "clipper_conn.register_application(\n",
    "    name=\"tf-app\", input_type=\"doubles\", default_output=\"-1.0\", slo_micros=100000)"
   ]
  },
  {
   "cell_type": "code",
   "execution_count": 10,
   "metadata": {},
   "outputs": [
    {
     "name": "stderr",
     "output_type": "stream",
     "text": [
      "20-04-08:00:22:42 INFO     [deployer_utils.py:41] Saving function to /tmp/tmpfqtdnyqtclipper\n",
      "20-04-08:00:22:42 INFO     [deployer_utils.py:51] Serialized and supplied predict function\n",
      "20-04-08:00:22:42 INFO     [tensorflow.py:264] TensorFlow model copied to: tfmodel \n",
      "20-04-08:00:22:42 INFO     [tensorflow.py:277] Using Python 3.6 base image\n",
      "20-04-08:00:22:42 INFO     [clipper_admin.py:534] [default-cluster] Building model Docker image with model data from /tmp/tmpfqtdnyqtclipper\n",
      "20-04-08:00:22:43 INFO     [clipper_admin.py:539] [default-cluster] Step 1/2 : FROM clipper/tf36-container:0.4.1\n",
      "20-04-08:00:22:43 INFO     [clipper_admin.py:539] [default-cluster]  ---> 3db42af800ff\n",
      "20-04-08:00:22:43 INFO     [clipper_admin.py:539] [default-cluster] Step 2/2 : COPY /tmp/tmpfqtdnyqtclipper /model/\n",
      "20-04-08:00:22:43 INFO     [clipper_admin.py:539] [default-cluster]  ---> 5d311020dc15\n",
      "20-04-08:00:22:43 INFO     [clipper_admin.py:539] [default-cluster] Successfully built 5d311020dc15\n",
      "20-04-08:00:22:43 INFO     [clipper_admin.py:539] [default-cluster] Successfully tagged default-cluster-tf-mod:1\n",
      "20-04-08:00:22:43 INFO     [clipper_admin.py:541] [default-cluster] Pushing model Docker image to default-cluster-tf-mod:1\n",
      "20-04-08:00:22:50 INFO     [docker_container_manager.py:409] [default-cluster] Found 0 replicas for tf-mod:1. Adding 1\n",
      "20-04-08:00:22:51 INFO     [clipper_admin.py:724] [default-cluster] Successfully registered model tf-mod:1\n",
      "20-04-08:00:22:51 INFO     [clipper_admin.py:642] [default-cluster] Done deploying model tf-mod:1.\n"
     ]
    }
   ],
   "source": [
    "\n",
    "# Deploy a model, to check what arguments you need run \n",
    "# \"?deploy_tensorflow_model\" to let the notebook show you the definition of the method\n",
    "deploy_tensorflow_model(\n",
    "    clipper_conn,\n",
    "    name=\"tf-mod\",\n",
    "    version=1,\n",
    "    input_type=\"doubles\",\n",
    "    func=predict,\n",
    "    tf_sess_or_saved_model_path=\"/tmp/tf/\") # path to saved model files is used,\n",
    "# session example in the next section"
   ]
  },
  {
   "cell_type": "code",
   "execution_count": 11,
   "metadata": {},
   "outputs": [
    {
     "name": "stderr",
     "output_type": "stream",
     "text": [
      "20-04-08:00:22:51 INFO     [clipper_admin.py:303] [default-cluster] Model tf-mod is now linked to application tf-app\n"
     ]
    }
   ],
   "source": [
    "# Link the model and the app\n",
    "clipper_conn.link_model_to_app(\n",
    "    app_name=\"tf-app\",\n",
    "    model_name=\"tf-mod\")\n"
   ]
  },
  {
   "cell_type": "code",
   "execution_count": null,
   "metadata": {},
   "outputs": [],
   "source": [
    "\n",
    "# Show the apps again, should list one\n",
    "clipper_conn.get_all_apps()"
   ]
  },
  {
   "cell_type": "code",
   "execution_count": 12,
   "metadata": {},
   "outputs": [],
   "source": [
    "# Get query address\n",
    "query_address = clipper_conn.get_query_addr()"
   ]
  },
  {
   "cell_type": "code",
   "execution_count": 15,
   "metadata": {},
   "outputs": [
    {
     "data": {
      "text/plain": [
       "{'query_id': 2, 'output': '[1.2940408 1.7831239]', 'default': False}"
      ]
     },
     "execution_count": 15,
     "metadata": {},
     "output_type": "execute_result"
    }
   ],
   "source": [
    "\n",
    "# Run a query\n",
    "import requests, json, numpy as np\n",
    "headers = {\"Content-type\": \"application/json\"}\n",
    "requests.post(\"http://\"+query_address+\"/tf-app/predict\", headers=headers, data=json.dumps({\n",
    "    \"input\": [.8, 3.2]})).json()"
   ]
  },
  {
   "cell_type": "code",
   "execution_count": null,
   "metadata": {},
   "outputs": [],
   "source": [
    "# Clipper allows to deploy a TensorFlow model using a session variable too\n",
    "# First the model must be restored from the files\n",
    "# Pay attention to the fact that variables/placeholders are restored \n",
    "# with exactly the same names\n",
    "tf.reset_default_graph()\n",
    "\n",
    "W = tf.get_variable(\"weight\", shape=[])\n",
    "b = tf.get_variable(\"bias\", shape=[])\n",
    "\n",
    "X = tf.placeholder(\"float\", name='X')\n",
    "pred = tf.add(tf.multiply(X, W), b, name='pred')\n",
    "\n",
    "saver = tf.train.Saver()\n",
    "sess = tf.Session()\n",
    "\n",
    "# Restore variables from disk.\n",
    "saver.restore(sess, \"/tmp/tf/model.ckpt\")\n",
    "print(\"Model restored.\")\n",
    "print(\"W : %s\" % W.eval(session=sess))\n",
    "print(\"b : %s\" % b.eval(session=sess))"
   ]
  },
  {
   "cell_type": "code",
   "execution_count": null,
   "metadata": {},
   "outputs": [],
   "source": [
    "\n",
    "# Check that the session variable exists\n",
    "sess"
   ]
  },
  {
   "cell_type": "code",
   "execution_count": null,
   "metadata": {},
   "outputs": [],
   "source": [
    "deploy_tensorflow_model(\n",
    "    clipper_conn,\n",
    "    name=\"tf-mod\",\n",
    "    version=2, # version 2 of the same model, `predict` endpoint will be updated \n",
    "    # automatically to the newest model version\n",
    "    input_type=\"doubles\",\n",
    "    func=predict,\n",
    "    tf_sess_or_saved_model_path=sess) # `sess` variable is used here"
   ]
  },
  {
   "cell_type": "code",
   "execution_count": null,
   "metadata": {},
   "outputs": [],
   "source": [
    "\n",
    "# Session can be closed now\n",
    "sess.close()"
   ]
  },
  {
   "cell_type": "code",
   "execution_count": null,
   "metadata": {},
   "outputs": [],
   "source": [
    "# Run a query\n",
    "headers = {\"Content-type\": \"application/json\"}\n",
    "requests.post(\"http://\"+query_address+\"/tf-app/predict\", headers=headers, data=json.dumps({\n",
    "    \"input\": [.8, 3.2]})).json()\n",
    "# The result is the same"
   ]
  },
  {
   "cell_type": "code",
   "execution_count": null,
   "metadata": {},
   "outputs": [],
   "source": [
    "# You can revert to the previous model version, the query endpoint remains the same\n",
    "clipper_conn.set_model_version(\"tf-mod\", \"1\")"
   ]
  },
  {
   "cell_type": "code",
   "execution_count": null,
   "metadata": {},
   "outputs": [],
   "source": [
    "# Replicate the model 5 times\n",
    "clipper_conn.set_num_replicas(\"tf-mod\", 5)"
   ]
  },
  {
   "cell_type": "code",
   "execution_count": null,
   "metadata": {},
   "outputs": [],
   "source": [
    "# Back to one replica\n",
    "clipper_conn.set_num_replicas(\"tf-mod\", 1)"
   ]
  },
  {
   "cell_type": "code",
   "execution_count": null,
   "metadata": {},
   "outputs": [],
   "source": [
    "# You can also register more applications - connections to the model and link them to it\n",
    "clipper_conn.register_application(\n",
    "    name=\"tf-app-extra\", input_type=\"doubles\", default_output=\"-1.0\", slo_micros=100000)\n",
    "# You have to link them the standard way. You can also link an existing application \n",
    "# to another model if you wish using the same method\n",
    "clipper_conn.link_model_to_app(\n",
    "    app_name=\"tf-app-extra\",\n",
    "    model_name=\"tf-mod\")"
   ]
  },
  {
   "cell_type": "code",
   "execution_count": null,
   "metadata": {},
   "outputs": [],
   "source": [
    "# Run a query with an endpoint `tf-app-extra/predict`\n",
    "headers = {\"Content-type\": \"application/json\"}\n",
    "requests.post(\"http://\"+query_address+\"/tf-app-extra/predict\", headers=headers, data=json.dumps({\n",
    "    \"input\": [.8, 3.2]})).json()"
   ]
  },
  {
   "cell_type": "code",
   "execution_count": null,
   "metadata": {},
   "outputs": [],
   "source": [
    "# Unlink the model and the apps\n",
    "clipper_conn.unlink_model_from_app(model_name=\"tf-mod\", app_name=\"tf-app\")\n",
    "clipper_conn.unlink_model_from_app(model_name=\"tf-mod\", app_name=\"tf-app-extra\")"
   ]
  },
  {
   "cell_type": "code",
   "execution_count": null,
   "metadata": {},
   "outputs": [],
   "source": [
    "# Stop the model\n",
    "clipper_conn.stop_models('tf-mod')"
   ]
  },
  {
   "cell_type": "code",
   "execution_count": null,
   "metadata": {},
   "outputs": [],
   "source": [
    "# Remove the apps\n",
    "clipper_conn.delete_application('tf-app')\n",
    "clipper_conn.delete_application('tf-app-extra')"
   ]
  },
  {
   "cell_type": "code",
   "execution_count": 16,
   "metadata": {},
   "outputs": [
    {
     "name": "stderr",
     "output_type": "stream",
     "text": [
      "20-04-08:00:44:53 INFO     [clipper_admin.py:1424] [default-cluster] Stopped all Clipper cluster and all model containers\n"
     ]
    }
   ],
   "source": [
    "# Stop Clipper\n",
    "clipper_conn.stop_all()"
   ]
  },
  {
   "cell_type": "code",
   "execution_count": null,
   "metadata": {},
   "outputs": [],
   "source": []
  }
 ],
 "metadata": {
  "kernelspec": {
   "display_name": "Python 3",
   "language": "python",
   "name": "python3"
  },
  "language_info": {
   "codemirror_mode": {
    "name": "ipython",
    "version": 3
   },
   "file_extension": ".py",
   "mimetype": "text/x-python",
   "name": "python",
   "nbconvert_exporter": "python",
   "pygments_lexer": "ipython3",
   "version": "3.6.1"
  }
 },
 "nbformat": 4,
 "nbformat_minor": 4
}
