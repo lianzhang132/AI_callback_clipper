{
 "cells": [
  {
   "cell_type": "code",
   "execution_count": 3,
   "metadata": {},
   "outputs": [],
   "source": [
    "\n",
    "import tensorflow as tf\n",
    "import numpy as np\n",
    "import matplotlib.pyplot as plt\n",
    "rng = numpy.random"
   ]
  },
  {
   "cell_type": "code",
   "execution_count": 26,
   "metadata": {
    "scrolled": true
   },
   "outputs": [
    {
     "name": "stdout",
     "output_type": "stream",
     "text": [
      "133\n",
      "134\n",
      "135\n",
      "136\n",
      "<dtype: 'float32'>\n"
     ]
    },
    {
     "ename": "NameError",
     "evalue": "name 'sx' is not defined",
     "output_type": "error",
     "traceback": [
      "\u001b[0;31m---------------------------------------------------------------------------\u001b[0m",
      "\u001b[0;31mNameError\u001b[0m                                 Traceback (most recent call last)",
      "\u001b[0;32m<ipython-input-26-d5af2e26f0aa>\u001b[0m in \u001b[0;36m<module>\u001b[0;34m\u001b[0m\n\u001b[1;32m     43\u001b[0m \u001b[0;31m#进行多轮迭代训练，每轮将样本值逐个输入模型，进行梯度下降优化操作得出参数，绘制模型曲线\u001b[0m\u001b[0;34m\u001b[0m\u001b[0;34m\u001b[0m\u001b[0m\n\u001b[1;32m     44\u001b[0m \u001b[0;32mfor\u001b[0m \u001b[0m_\u001b[0m \u001b[0;32min\u001b[0m \u001b[0mrange\u001b[0m\u001b[0;34m(\u001b[0m\u001b[0mtrain_epoch\u001b[0m\u001b[0;34m)\u001b[0m\u001b[0;34m:\u001b[0m\u001b[0;34m\u001b[0m\u001b[0m\n\u001b[0;32m---> 45\u001b[0;31m     \u001b[0;32mfor\u001b[0m \u001b[0mx1\u001b[0m\u001b[0;34m,\u001b[0m\u001b[0my1\u001b[0m \u001b[0;32min\u001b[0m \u001b[0mzip\u001b[0m\u001b[0;34m(\u001b[0m\u001b[0msx\u001b[0m\u001b[0;34m,\u001b[0m\u001b[0msy\u001b[0m\u001b[0;34m)\u001b[0m\u001b[0;34m:\u001b[0m\u001b[0;34m\u001b[0m\u001b[0m\n\u001b[0m\u001b[1;32m     46\u001b[0m         \u001b[0mss\u001b[0m\u001b[0;34m.\u001b[0m\u001b[0mrun\u001b[0m\u001b[0;34m(\u001b[0m\u001b[0;34m[\u001b[0m\u001b[0moptimizer\u001b[0m\u001b[0;34m,\u001b[0m\u001b[0mloss\u001b[0m\u001b[0;34m]\u001b[0m\u001b[0;34m,\u001b[0m\u001b[0mfeed_dict\u001b[0m\u001b[0;34m=\u001b[0m\u001b[0;34m{\u001b[0m\u001b[0mx\u001b[0m\u001b[0;34m:\u001b[0m\u001b[0mx1\u001b[0m\u001b[0;34m,\u001b[0m\u001b[0my\u001b[0m\u001b[0;34m:\u001b[0m\u001b[0my1\u001b[0m\u001b[0;34m}\u001b[0m\u001b[0;34m)\u001b[0m\u001b[0;34m\u001b[0m\u001b[0m\n\u001b[1;32m     47\u001b[0m     \u001b[0mtmp_k\u001b[0m\u001b[0;34m=\u001b[0m\u001b[0mk\u001b[0m\u001b[0;34m.\u001b[0m\u001b[0meval\u001b[0m\u001b[0;34m(\u001b[0m\u001b[0msession\u001b[0m\u001b[0;34m=\u001b[0m\u001b[0mss\u001b[0m\u001b[0;34m)\u001b[0m\u001b[0;34m\u001b[0m\u001b[0m\n",
      "\u001b[0;31mNameError\u001b[0m: name 'sx' is not defined"
     ]
    },
    {
     "data": {
      "image/png": "[encoded data removed]",
      "text/plain": [
       "<Figure size 432x288 with 1 Axes>"
      ]
     },
     "metadata": {
      "needs_background": "light"
     },
     "output_type": "display_data"
    }
   ],
   "source": [
    "# 准备数据\n",
    "np.random.seed(5)                          #设置产生伪随机数的类型\n",
    "x=np.linspace(-1,1,100)                    #在-1到1之间产生100个等差数列作为图像的横坐标\n",
    "#根据y=2*x+1+噪声产生纵坐标\n",
    "#randn(100)表示从100个样本的标准正态分布中返回一个样本值，0.4为数据抖动幅度\n",
    "y=2*x+1.0+np.random.randn(100)*0.4\n",
    " \n",
    "plt.scatter(x,y)                            #生成散点图\n",
    "plt.plot(x,2*x+1,color='red',linewidth=3)   #生成直线y=2x+1\n",
    "print(\"133\")\n",
    "# 构建模型\n",
    "#定义函数模型，y=kx+b\n",
    "def model(x,k,b):\n",
    "    print(\"136\")\n",
    "    print(x.dtype)\n",
    "    return tf.multiply(k,x)+b\n",
    "#定义模型中的参数变量，并为其赋初值\n",
    "k=tf.Variable(1.0,name='k')\n",
    "b=tf.Variable(0.0,name='b')\n",
    "print(\"134\") \n",
    "#定义训练数据的占位符，x为特征值，y为标签\n",
    "x=tf.placeholder(\"float\",name='x')\n",
    "y=tf.placeholder(\"float\")\n",
    "#通过模型得出特征值x对应的预测值yp\n",
    "print(\"135\")\n",
    "# print(\"1\",x.dtype,k.dtype,b.type)\n",
    "yp=model(x,k,b)\n",
    "# k、b的初始值并不会影响最终结果的得到，所以可以随意指定一个值。\n",
    "\n",
    "#训练模型\n",
    "#训练模型，设置训练参数(迭代次数、学习率)\n",
    "train_epoch=10\n",
    "rate=0.05\n",
    "#定义均方差为损失函数\n",
    "loss=tf.reduce_mean(tf.square(y-yp))\n",
    "#定义梯度下降优化器，并传入参数学习率和损失函数\n",
    "optimizer=tf.train.GradientDescentOptimizer(rate).minimize(loss)\n",
    " \n",
    "ss=tf.Session()\n",
    "init=tf.global_variables_initializer()\n",
    "ss.run(init)\n",
    " \n",
    "#进行多轮迭代训练，每轮将样本值逐个输入模型，进行梯度下降优化操作得出参数，绘制模型曲线\n",
    "for _ in range(train_epoch):\n",
    "    for x1,y1 in zip(sx,sy):\n",
    "        ss.run([optimizer,loss],feed_dict={x:x1,y:y1})\n",
    "    tmp_k=k.eval(session=ss)\n",
    "    tmp_b=b.eval(session=ss)\n",
    "    plt.plot(sx,tmp_k*sx+tmp_b)\n",
    " \n",
    "ss.close()\n"
   ]
  },
  {
   "cell_type": "code",
   "execution_count": 2,
   "metadata": {},
   "outputs": [
    {
     "name": "stdout",
     "output_type": "stream",
     "text": [
      "WARNING:tensorflow:From /root/.local/lib/python3.6/site-packages/tensorflow_core/python/ops/math_grad.py:1375: where (from tensorflow.python.ops.array_ops) is deprecated and will be removed in a future version.\n",
      "Instructions for updating:\n",
      "Use tf.where in 2.0, which has the same broadcast rule as np.where\n",
      "Epoch: 0050 cost= 0.113439776 W= 0.3564451 b= 0.032784227\n",
      "Epoch: 0100 cost= 0.109224193 W= 0.35009012 b= 0.07850147\n",
      "Epoch: 0150 cost= 0.105495684 W= 0.34411314 b= 0.121499576\n",
      "Epoch: 0200 cost= 0.102197960 W= 0.33849165 b= 0.1619404\n",
      "Epoch: 0250 cost= 0.099281333 W= 0.33320442 b= 0.19997613\n",
      "Epoch: 0300 cost= 0.096701741 W= 0.3282317 b= 0.23574954\n",
      "Epoch: 0350 cost= 0.094420291 W= 0.32355464 b= 0.2693956\n",
      "Epoch: 0400 cost= 0.092402525 W= 0.3191559 b= 0.3010404\n",
      "Epoch: 0450 cost= 0.090618014 W= 0.31501868 b= 0.33080304\n",
      "Epoch: 0500 cost= 0.089039817 W= 0.31112754 b= 0.35879555\n",
      "Optimization Finished!\n",
      "Training cost= 0.08903982 W= 0.31112754 b= 0.35879555 \n",
      "\n",
      "Model saved in path: /tmp/tf/model.ckpt\n"
     ]
    },
    {
     "data": {
      "image/png": "[encoded data removed]",
      "text/plain": [
       "<Figure size 432x288 with 1 Axes>"
      ]
     },
     "metadata": {
      "needs_background": "light"
     },
     "output_type": "display_data"
    }
   ],
   "source": [
    "# Parameters\n",
    "learning_rate = 0.01\n",
    "training_epochs = 500\n",
    "display_step = 50\n",
    "# Training Data\n",
    "train_X = numpy.asarray([3.3,4.4,5.5,6.71,6.93,4.168,9.779,6.182,7.59,2.167,\n",
    "                         7.042,10.791,5.313,7.997,5.654,9.27,3.1])\n",
    "train_Y = numpy.asarray([1.7,2.76,2.09,3.19,1.694,1.573,3.366,2.596,2.53,1.221,\n",
    "                         2.827,3.465,1.65,2.904,2.42,2.94,1.3])\n",
    "n_samples = train_X.shape[0]\n",
    "# tf Graph Input\n",
    "# You must name the variables and placeholders, as the names will be later used!!!\n",
    "X = tf.placeholder(\"float\", name='X')\n",
    "Y = tf.placeholder(\"float\")\n",
    "\n",
    "# Set model weights\n",
    "W = tf.Variable(rng.randn(), name=\"weight\")\n",
    "b = tf.Variable(rng.randn(), name=\"bias\")\n",
    "# Construct a linear model\n",
    "pred = tf.add(tf.multiply(X, W), b, name='pred')\n",
    "# Mean squared error\n",
    "cost = tf.reduce_sum(tf.pow(pred-Y, 2))/(2*n_samples)\n",
    "# Gradient descent\n",
    "optimizer = tf.train.GradientDescentOptimizer(learning_rate).minimize(cost)\n",
    "# Initialize the variables (i.e. assign their default value)\n",
    "init = tf.global_variables_initializer()\n",
    "saver = tf.train.Saver()\n",
    "# Start training\n",
    "# sess = tf.Session()\n",
    "with tf.Session() as sess:\n",
    "    sess.run(init)\n",
    "\n",
    "    # Fit all training data\n",
    "    for epoch in range(training_epochs):\n",
    "        for (x, y) in zip(train_X, train_Y):\n",
    "            sess.run(optimizer, feed_dict={X: x, Y: y})\n",
    "\n",
    "        #Display logs per epoch step\n",
    "        if (epoch+1) % display_step == 0:\n",
    "            c = sess.run(cost, feed_dict={X: train_X, Y:train_Y})\n",
    "            print(\"Epoch:\", '%04d' % (epoch+1), \"cost=\", \"{:.9f}\".format(c), \\\n",
    "                \"W=\", sess.run(W), \"b=\", sess.run(b))\n",
    "\n",
    "    print(\"Optimization Finished!\")\n",
    "    training_cost = sess.run(cost, feed_dict={X: train_X, Y: train_Y})\n",
    "    print(\"Training cost=\", training_cost, \"W=\", sess.run(W), \"b=\", sess.run(b), '\\n')\n",
    "\n",
    "    # Save the variables to disk.\n",
    "    save_path = saver.save(sess, \"/tmp/tf/model.ckpt\")\n",
    "    print(\"Model saved in path: %s\" % save_path)\n",
    "    \n",
    "    #Graphic display - matplotlib\n",
    "    plt.plot(train_X, train_Y, 'ro', label='Original data')\n",
    "    plt.plot(train_X, sess.run(W) * train_X + sess.run(b), label='Fitted line')\n",
    "    plt.legend()\n",
    "    plt.show()"
   ]
  },
  {
   "cell_type": "code",
   "execution_count": 3,
   "metadata": {},
   "outputs": [
    {
     "name": "stdout",
     "output_type": "stream",
     "text": [
      "tensor_name:  bias\n",
      "0.35879555\n",
      "tensor_name:  weight\n",
      "0.31112754\n",
      "# Total number of params: 2\n"
     ]
    }
   ],
   "source": [
    "# import the inspect_checkpoint library\n",
    "from tensorflow.python.tools import inspect_checkpoint as chkp\n",
    "\n",
    "# print all tensors in checkpoint file\n",
    "chkp.print_tensors_in_checkpoint_file(\"/tmp/tf/model.ckpt\", tensor_name='', all_tensors=True)"
   ]
  },
  {
   "cell_type": "code",
   "execution_count": 4,
   "metadata": {},
   "outputs": [],
   "source": [
    "def predict(sess, inputs):\n",
    "    preds = sess.run('pred:0', feed_dict={'X:0': inputs}) \n",
    "    # `X` is used, it must be defined in the model with that name explicitly!\n",
    "    return [str(p) for p in preds]"
   ]
  },
  {
   "cell_type": "code",
   "execution_count": 5,
   "metadata": {},
   "outputs": [],
   "source": [
    "\n",
    "from clipper_admin import ClipperConnection, DockerContainerManager\n",
    "from clipper_admin.deployers.tensorflow import deploy_tensorflow_model\n",
    "clipper_conn = ClipperConnection(DockerContainerManager())"
   ]
  },
  {
   "cell_type": "code",
   "execution_count": 6,
   "metadata": {},
   "outputs": [
    {
     "name": "stderr",
     "output_type": "stream",
     "text": [
      "20-01-09:20:32:11 INFO     [docker_container_manager.py:184] [default-cluster] Starting managed Redis instance in Docker\n",
      "20-01-09:20:32:15 INFO     [docker_container_manager.py:276] [default-cluster] Metric Configuration Saved at /tmp/tmp4qaqfozj.yml\n",
      "20-01-09:20:32:16 INFO     [clipper_admin.py:162] [default-cluster] Clipper is running\n"
     ]
    }
   ],
   "source": [
    "clipper_conn.start_clipper()"
   ]
  },
  {
   "cell_type": "code",
   "execution_count": 7,
   "metadata": {},
   "outputs": [
    {
     "name": "stderr",
     "output_type": "stream",
     "text": [
      "20-01-09:20:32:30 INFO     [clipper_admin.py:172] [default-cluster] Successfully connected to Clipper cluster at localhost:1337\n"
     ]
    }
   ],
   "source": [
    "clipper_conn.connect()"
   ]
  },
  {
   "cell_type": "code",
   "execution_count": 8,
   "metadata": {},
   "outputs": [
    {
     "data": {
      "text/plain": [
       "[]"
      ]
     },
     "execution_count": 8,
     "metadata": {},
     "output_type": "execute_result"
    }
   ],
   "source": [
    "# List all applications\n",
    "clipper_conn.get_all_apps()"
   ]
  },
  {
   "cell_type": "code",
   "execution_count": 9,
   "metadata": {},
   "outputs": [
    {
     "data": {
      "text/plain": [
       "[]"
      ]
     },
     "execution_count": 9,
     "metadata": {},
     "output_type": "execute_result"
    }
   ],
   "source": [
    "\n",
    "# List all models\n",
    "clipper_conn.get_all_models()"
   ]
  },
  {
   "cell_type": "code",
   "execution_count": 10,
   "metadata": {},
   "outputs": [
    {
     "name": "stderr",
     "output_type": "stream",
     "text": [
      "20-01-09:20:33:03 INFO     [clipper_admin.py:236] [default-cluster] Application tf-app was successfully registered\n"
     ]
    }
   ],
   "source": [
    "\n",
    "# Add an application with a name and an input type\n",
    "clipper_conn.register_application(\n",
    "    name=\"tf-app\", input_type=\"doubles\", default_output=\"-1.0\", slo_micros=100000)"
   ]
  },
  {
   "cell_type": "code",
   "execution_count": 11,
   "metadata": {},
   "outputs": [
    {
     "name": "stderr",
     "output_type": "stream",
     "text": [
      "20-01-09:20:33:17 INFO     [deployer_utils.py:41] Saving function to /tmp/tmptpnbwhg4clipper\n",
      "20-01-09:20:33:17 INFO     [deployer_utils.py:51] Serialized and supplied predict function\n",
      "20-01-09:20:33:17 INFO     [tensorflow.py:264] TensorFlow model copied to: tfmodel \n",
      "20-01-09:20:33:17 INFO     [tensorflow.py:277] Using Python 3.6 base image\n",
      "20-01-09:20:33:17 INFO     [clipper_admin.py:534] [default-cluster] Building model Docker image with model data from /tmp/tmptpnbwhg4clipper\n",
      "20-01-09:20:33:17 INFO     [clipper_admin.py:539] [default-cluster] Step 1/2 : FROM clipper/tf36-container:0.4.1\n",
      "20-01-09:20:33:17 INFO     [clipper_admin.py:539] [default-cluster]  ---> 3db42af800ff\n",
      "20-01-09:20:33:17 INFO     [clipper_admin.py:539] [default-cluster] Step 2/2 : COPY /tmp/tmptpnbwhg4clipper /model/\n",
      "20-01-09:20:33:17 INFO     [clipper_admin.py:539] [default-cluster]  ---> 8d68c13e2a5c\n",
      "20-01-09:20:33:17 INFO     [clipper_admin.py:539] [default-cluster] Successfully built 8d68c13e2a5c\n",
      "20-01-09:20:33:17 INFO     [clipper_admin.py:539] [default-cluster] Successfully tagged default-cluster-tf-mod:1\n",
      "20-01-09:20:33:17 INFO     [clipper_admin.py:541] [default-cluster] Pushing model Docker image to default-cluster-tf-mod:1\n",
      "20-01-09:20:33:21 INFO     [docker_container_manager.py:409] [default-cluster] Found 0 replicas for tf-mod:1. Adding 1\n",
      "20-01-09:20:33:22 INFO     [clipper_admin.py:724] [default-cluster] Successfully registered model tf-mod:1\n",
      "20-01-09:20:33:22 INFO     [clipper_admin.py:642] [default-cluster] Done deploying model tf-mod:1.\n"
     ]
    }
   ],
   "source": [
    "\n",
    "# Deploy a model, to check what arguments you need run \n",
    "# \"?deploy_tensorflow_model\" to let the notebook show you the definition of the method\n",
    "deploy_tensorflow_model(\n",
    "    clipper_conn,\n",
    "    name=\"tf-mod\",\n",
    "    version=1,\n",
    "    input_type=\"doubles\",\n",
    "    func=predict,\n",
    "    tf_sess_or_saved_model_path=\"/tmp/tf/\") # path to saved model files is used,\n",
    "# session example in the next section"
   ]
  },
  {
   "cell_type": "code",
   "execution_count": 12,
   "metadata": {},
   "outputs": [
    {
     "name": "stderr",
     "output_type": "stream",
     "text": [
      "20-01-09:20:34:02 INFO     [clipper_admin.py:303] [default-cluster] Model tf-mod is now linked to application tf-app\n"
     ]
    }
   ],
   "source": [
    "# Link the model and the app\n",
    "clipper_conn.link_model_to_app(\n",
    "    app_name=\"tf-app\",\n",
    "    model_name=\"tf-mod\")\n"
   ]
  },
  {
   "cell_type": "code",
   "execution_count": 13,
   "metadata": {},
   "outputs": [
    {
     "data": {
      "text/plain": [
       "['tf-app']"
      ]
     },
     "execution_count": 13,
     "metadata": {},
     "output_type": "execute_result"
    }
   ],
   "source": [
    "\n",
    "# Show the apps again, should list one\n",
    "clipper_conn.get_all_apps()"
   ]
  },
  {
   "cell_type": "code",
   "execution_count": 14,
   "metadata": {},
   "outputs": [],
   "source": [
    "# Get query address\n",
    "query_address = clipper_conn.get_query_addr()"
   ]
  },
  {
   "cell_type": "code",
   "execution_count": 15,
   "metadata": {},
   "outputs": [
    {
     "data": {
      "text/plain": [
       "{'query_id': 0, 'output': '[0.6076976 1.3544037]', 'default': False}"
      ]
     },
     "execution_count": 15,
     "metadata": {},
     "output_type": "execute_result"
    }
   ],
   "source": [
    "\n",
    "# Run a query\n",
    "import requests, json, numpy as np\n",
    "headers = {\"Content-type\": \"application/json\"}\n",
    "requests.post(\"http://\"+query_address+\"/tf-app/predict\", headers=headers, data=json.dumps({\n",
    "    \"input\": [.8, 3.2]})).json()"
   ]
  },
  {
   "cell_type": "code",
   "execution_count": 16,
   "metadata": {},
   "outputs": [
    {
     "name": "stdout",
     "output_type": "stream",
     "text": [
      "INFO:tensorflow:Restoring parameters from /tmp/tf/model.ckpt\n"
     ]
    },
    {
     "name": "stderr",
     "output_type": "stream",
     "text": [
      "20-01-09:20:35:50 INFO     [saver.py:1284] Restoring parameters from /tmp/tf/model.ckpt\n"
     ]
    },
    {
     "name": "stdout",
     "output_type": "stream",
     "text": [
      "Model restored.\n",
      "W : 0.31112754\n",
      "b : 0.35879555\n"
     ]
    }
   ],
   "source": [
    "# Clipper allows to deploy a TensorFlow model using a session variable too\n",
    "# First the model must be restored from the files\n",
    "# Pay attention to the fact that variables/placeholders are restored \n",
    "# with exactly the same names\n",
    "tf.reset_default_graph()\n",
    "\n",
    "W = tf.get_variable(\"weight\", shape=[])\n",
    "b = tf.get_variable(\"bias\", shape=[])\n",
    "\n",
    "X = tf.placeholder(\"float\", name='X')\n",
    "pred = tf.add(tf.multiply(X, W), b, name='pred')\n",
    "\n",
    "saver = tf.train.Saver()\n",
    "sess = tf.Session()\n",
    "\n",
    "# Restore variables from disk.\n",
    "saver.restore(sess, \"/tmp/tf/model.ckpt\")\n",
    "print(\"Model restored.\")\n",
    "print(\"W : %s\" % W.eval(session=sess))\n",
    "print(\"b : %s\" % b.eval(session=sess))"
   ]
  },
  {
   "cell_type": "code",
   "execution_count": 17,
   "metadata": {},
   "outputs": [
    {
     "data": {
      "text/plain": [
       "<tensorflow.python.client.session.Session at 0x7f694046e8d0>"
      ]
     },
     "execution_count": 17,
     "metadata": {},
     "output_type": "execute_result"
    }
   ],
   "source": [
    "\n",
    "# Check that the session variable exists\n",
    "sess"
   ]
  },
  {
   "cell_type": "code",
   "execution_count": 18,
   "metadata": {},
   "outputs": [
    {
     "name": "stderr",
     "output_type": "stream",
     "text": [
      "20-01-09:20:37:33 INFO     [deployer_utils.py:41] Saving function to /tmp/tmpt1hw5uj9clipper\n",
      "20-01-09:20:37:33 INFO     [deployer_utils.py:51] Serialized and supplied predict function\n",
      "20-01-09:20:37:33 INFO     [tensorflow.py:196] TensorFlow model saved at: /tmp/tmpt1hw5uj9clipper/tfmodel/model.ckpt \n",
      "20-01-09:20:37:33 INFO     [tensorflow.py:277] Using Python 3.6 base image\n",
      "20-01-09:20:37:33 INFO     [clipper_admin.py:534] [default-cluster] Building model Docker image with model data from /tmp/tmpt1hw5uj9clipper\n",
      "20-01-09:20:37:33 INFO     [clipper_admin.py:539] [default-cluster] Step 1/2 : FROM clipper/tf36-container:0.4.1\n",
      "20-01-09:20:37:33 INFO     [clipper_admin.py:539] [default-cluster]  ---> 3db42af800ff\n",
      "20-01-09:20:37:33 INFO     [clipper_admin.py:539] [default-cluster] Step 2/2 : COPY /tmp/tmpt1hw5uj9clipper /model/\n",
      "20-01-09:20:37:33 INFO     [clipper_admin.py:539] [default-cluster]  ---> 9aa8b9159610\n",
      "20-01-09:20:37:33 INFO     [clipper_admin.py:539] [default-cluster] Successfully built 9aa8b9159610\n",
      "20-01-09:20:37:33 INFO     [clipper_admin.py:539] [default-cluster] Successfully tagged default-cluster-tf-mod:2\n",
      "20-01-09:20:37:33 INFO     [clipper_admin.py:541] [default-cluster] Pushing model Docker image to default-cluster-tf-mod:2\n",
      "20-01-09:20:37:37 INFO     [docker_container_manager.py:409] [default-cluster] Found 0 replicas for tf-mod:2. Adding 1\n",
      "20-01-09:20:37:38 INFO     [clipper_admin.py:724] [default-cluster] Successfully registered model tf-mod:2\n",
      "20-01-09:20:37:38 INFO     [clipper_admin.py:642] [default-cluster] Done deploying model tf-mod:2.\n"
     ]
    }
   ],
   "source": [
    "deploy_tensorflow_model(\n",
    "    clipper_conn,\n",
    "    name=\"tf-mod\",\n",
    "    version=2, # version 2 of the same model, `predict` endpoint will be updated \n",
    "    # automatically to the newest model version\n",
    "    input_type=\"doubles\",\n",
    "    func=predict,\n",
    "    tf_sess_or_saved_model_path=sess) # `sess` variable is used here"
   ]
  },
  {
   "cell_type": "code",
   "execution_count": 19,
   "metadata": {},
   "outputs": [],
   "source": [
    "\n",
    "# Session can be closed now\n",
    "sess.close()"
   ]
  },
  {
   "cell_type": "code",
   "execution_count": 20,
   "metadata": {},
   "outputs": [
    {
     "data": {
      "text/plain": [
       "{'query_id': 1, 'output': '[0.6076976 1.3544037]', 'default': False}"
      ]
     },
     "execution_count": 20,
     "metadata": {},
     "output_type": "execute_result"
    }
   ],
   "source": [
    "# Run a query\n",
    "headers = {\"Content-type\": \"application/json\"}\n",
    "requests.post(\"http://\"+query_address+\"/tf-app/predict\", headers=headers, data=json.dumps({\n",
    "    \"input\": [.8, 3.2]})).json()\n",
    "# The result is the same"
   ]
  },
  {
   "cell_type": "code",
   "execution_count": 21,
   "metadata": {},
   "outputs": [],
   "source": [
    "# You can revert to the previous model version, the query endpoint remains the same\n",
    "clipper_conn.set_model_version(\"tf-mod\", \"1\")"
   ]
  },
  {
   "cell_type": "code",
   "execution_count": 22,
   "metadata": {},
   "outputs": [
    {
     "name": "stderr",
     "output_type": "stream",
     "text": [
      "20-01-09:20:38:54 INFO     [docker_container_manager.py:409] [default-cluster] Found 1 replicas for tf-mod:1. Adding 4\n"
     ]
    }
   ],
   "source": [
    "# Replicate the model 5 times\n",
    "clipper_conn.set_num_replicas(\"tf-mod\", 5)"
   ]
  },
  {
   "cell_type": "code",
   "execution_count": 23,
   "metadata": {},
   "outputs": [
    {
     "name": "stderr",
     "output_type": "stream",
     "text": [
      "20-01-09:20:39:06 INFO     [docker_container_manager.py:427] [default-cluster] Found 5 replicas for tf-mod:1. Removing 4\n"
     ]
    }
   ],
   "source": [
    "# Back to one replica\n",
    "clipper_conn.set_num_replicas(\"tf-mod\", 1)"
   ]
  },
  {
   "cell_type": "code",
   "execution_count": 24,
   "metadata": {},
   "outputs": [
    {
     "name": "stderr",
     "output_type": "stream",
     "text": [
      "20-01-09:20:41:01 INFO     [clipper_admin.py:236] [default-cluster] Application tf-app-extra was successfully registered\n",
      "20-01-09:20:41:01 INFO     [clipper_admin.py:303] [default-cluster] Model tf-mod is now linked to application tf-app-extra\n"
     ]
    }
   ],
   "source": [
    "# You can also register more applications - connections to the model and link them to it\n",
    "clipper_conn.register_application(\n",
    "    name=\"tf-app-extra\", input_type=\"doubles\", default_output=\"-1.0\", slo_micros=100000)\n",
    "# You have to link them the standard way. You can also link an existing application \n",
    "# to another model if you wish using the same method\n",
    "clipper_conn.link_model_to_app(\n",
    "    app_name=\"tf-app-extra\",\n",
    "    model_name=\"tf-mod\")"
   ]
  },
  {
   "cell_type": "code",
   "execution_count": 25,
   "metadata": {},
   "outputs": [
    {
     "data": {
      "text/plain": [
       "{'query_id': 2, 'output': '[0.6076976 1.3544037]', 'default': False}"
      ]
     },
     "execution_count": 25,
     "metadata": {},
     "output_type": "execute_result"
    }
   ],
   "source": [
    "# Run a query with an endpoint `tf-app-extra/predict`\n",
    "headers = {\"Content-type\": \"application/json\"}\n",
    "requests.post(\"http://\"+query_address+\"/tf-app-extra/predict\", headers=headers, data=json.dumps({\n",
    "    \"input\": [.8, 3.2]})).json()"
   ]
  },
  {
   "cell_type": "code",
   "execution_count": 26,
   "metadata": {},
   "outputs": [
    {
     "name": "stderr",
     "output_type": "stream",
     "text": [
      "20-01-09:20:42:03 INFO     [clipper_admin.py:344] Model tf-mod is now removed to application tf-app\n",
      "20-01-09:20:42:03 INFO     [clipper_admin.py:344] Model tf-mod is now removed to application tf-app-extra\n"
     ]
    }
   ],
   "source": [
    "# Unlink the model and the apps\n",
    "clipper_conn.unlink_model_from_app(model_name=\"tf-mod\", app_name=\"tf-app\")\n",
    "clipper_conn.unlink_model_from_app(model_name=\"tf-mod\", app_name=\"tf-app-extra\")"
   ]
  },
  {
   "cell_type": "code",
   "execution_count": 27,
   "metadata": {},
   "outputs": [
    {
     "name": "stderr",
     "output_type": "stream",
     "text": [
      "20-01-09:20:42:38 INFO     [clipper_admin.py:1285] Model tf-mod:1 was successfully deleted\n",
      "20-01-09:20:42:38 INFO     [clipper_admin.py:1285] Model tf-mod:2 was successfully deleted\n",
      "20-01-09:20:42:38 INFO     [clipper_admin.py:1319] [default-cluster] Stopped all containers for these models and versions:\n",
      "{'tf-mod': ['1', '2']}\n"
     ]
    }
   ],
   "source": [
    "# Stop the model\n",
    "clipper_conn.stop_models('tf-mod')"
   ]
  },
  {
   "cell_type": "code",
   "execution_count": 28,
   "metadata": {},
   "outputs": [
    {
     "name": "stderr",
     "output_type": "stream",
     "text": [
      "20-01-09:20:43:08 WARNING  [clipper_admin.py:240] [default-cluster] [DEPRECATED] Use 'unregister_application' API instead of this.\n",
      "20-01-09:20:43:08 INFO     [clipper_admin.py:260] [default-cluster] Application tf-app was successfully unregistered\n",
      "20-01-09:20:43:08 WARNING  [clipper_admin.py:240] [default-cluster] [DEPRECATED] Use 'unregister_application' API instead of this.\n",
      "20-01-09:20:43:08 INFO     [clipper_admin.py:260] [default-cluster] Application tf-app-extra was successfully unregistered\n"
     ]
    }
   ],
   "source": [
    "# Remove the apps\n",
    "clipper_conn.delete_application('tf-app')\n",
    "clipper_conn.delete_application('tf-app-extra')"
   ]
  },
  {
   "cell_type": "code",
   "execution_count": 29,
   "metadata": {},
   "outputs": [
    {
     "name": "stderr",
     "output_type": "stream",
     "text": [
      "20-01-09:20:43:58 INFO     [clipper_admin.py:1424] [default-cluster] Stopped all Clipper cluster and all model containers\n"
     ]
    }
   ],
   "source": [
    "# Stop Clipper\n",
    "clipper_conn.stop_all()"
   ]
  },
  {
   "cell_type": "code",
   "execution_count": null,
   "metadata": {},
   "outputs": [],
   "source": []
  }
 ],
 "metadata": {
  "kernelspec": {
   "display_name": "Python 3",
   "language": "python",
   "name": "python3"
  },
  "language_info": {
   "codemirror_mode": {
    "name": "ipython",
    "version": 3
   },
   "file_extension": ".py",
   "mimetype": "text/x-python",
   "name": "python",
   "nbconvert_exporter": "python",
   "pygments_lexer": "ipython3",
   "version": "3.6.1"
  }
 },
 "nbformat": 4,
 "nbformat_minor": 4
}
