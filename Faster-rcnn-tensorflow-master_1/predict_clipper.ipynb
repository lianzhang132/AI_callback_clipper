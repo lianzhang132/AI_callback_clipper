{
 "cells": [
  {
   "cell_type": "code",
   "execution_count": 1,
   "metadata": {
    "scrolled": false
   },
   "outputs": [
    {
     "name": "stderr",
     "output_type": "stream",
     "text": [
      "/usr/local/lib/python3.6/site-packages/pandas/compat/__init__.py:117: UserWarning: Could not import the lzma module. Your installed Python is incomplete. Attempting to use lzma compression will result in a RuntimeError.\n",
      "  warnings.warn(msg)\n"
     ]
    },
    {
     "name": "stdout",
     "output_type": "stream",
     "text": [
      "INFO:tensorflow:Restoring parameters from /root/code/Faster-rcnn-tensorflow-master_1/checkpoint_zky/MyModel\n",
      "所有的变量名字 在这里 \n"
     ]
    }
   ],
   "source": [
    "\n",
    "import tensorflow as tf\n",
    " \n",
    "tf.reset_default_graph()\n",
    "# graph = tf.Graph()\n",
    "# init = (tf.global_variables_initializer(), tf.local_variables_initializer())\n",
    "sess = tf.Session()\n",
    "\n",
    "# check_point_path = 'variables' \n",
    "saver = tf.train.import_meta_graph('/root/code/Faster-rcnn-tensorflow-master_1/checkpoint_zky/MyModel.meta')\n",
    " \n",
    "saver.restore(sess, tf.train.latest_checkpoint('/root/code/Faster-rcnn-tensorflow-master_1/checkpoint_zky'))\n",
    " \n",
    "# graph = tf.get_default_graph()\n",
    "print('所有的变量名字 在这里 ')\n",
    "# print([n.name for n in graph.as_graph_def().node])\n",
    "\n",
    "# for node in sess.graph_def.node:\n",
    "#     print(node)\n",
    "# print('结束了')\n"
   ]
  },
  {
   "cell_type": "code",
   "execution_count": null,
   "metadata": {},
   "outputs": [],
   "source": [
    "sess\n",
    "# sess.run(tf.local_variables_initializer())\n",
    "#加过之后基本不再报FailedPreconditionError: Attempting to use uninitialized value vgg_16/conv5/conv5_3/biases_1\n",
    "# sess.run(init) "
   ]
  },
  {
   "cell_type": "code",
   "execution_count": null,
   "metadata": {},
   "outputs": [],
   "source": [
    "def predict2(sess,data):\n",
    "    import numpy as np\n",
    "#     num_imgs = len(train_data)\n",
    "#     print('这是啥',train_data,num_imgs)\n",
    "    result = []\n",
    "#     for i in range(num_imgs):\n",
    "#     data = json.loads(train_data[0])[0]\n",
    "    print(data,type(data))\n",
    "#         test_data[i] = data\n",
    "    image_height = np.array(np.array(data['image']).shape[1])\n",
    "    image_width = np.array(np.array(data['image']).shape[2])\n",
    "    feed_dict = {\"Placeholder:0\": data['image'], \"Placeholder_1:0\": image_width,\\\n",
    "                 \"Placeholder_2:0\": image_height}\n",
    "    rois_coord, pred_box, pred_box_score_arg, pred_score= sess.run([\"strided_slice_13:0\", \"vgg_16_2/region_deciton/bbox_pred/BiasAdd:0\",\n",
    "                                                                    \"ArgMax:0\", \"vgg_16_2/region_deciton/cls_prob:0\"],\\\n",
    "                                                            feed_dict=feed_dict)\n",
    "    \n",
    "#     rois_coord, pred_box, pred_box_score_arg, pred_score= sess.run([\"strided_slice_13:0\", \"vgg_16_2/region_deciton/bbox_pred/BiasAdd:0\",\n",
    "#                                                                     \"faster_zky:0\", \"vgg_16_2/region_deciton/cls_prob:0\"],\\\n",
    "#                                                             feed_dict=feed_dict)\n",
    "#     rois_coord, pred_box, pred_box_score_arg, pred_score= sess.run([_rois_coord, _pred_box, _pred_box_score_arg, _pred_score],\\\n",
    "#                                                                        feed_dict=feed_dict)\n",
    "    result.extend([str(rois_coord), str(pred_box), str(pred_box_score_arg), str(pred_score)])\n",
    "    return result"
   ]
  },
  {
   "cell_type": "code",
   "execution_count": null,
   "metadata": {},
   "outputs": [],
   "source": [
    "import config as cfg\n",
    "import os\n",
    "import pascal_voc as pascl\n",
    "import numpy as np\n",
    "import tensorflow as tf\n",
    "import network\n",
    "import datetime\n",
    "import cv2\n",
    "from nms import py_cpu_nms\n",
    "import matplotlib.pyplot as plt\n",
    "from PIL import Image\n",
    "\n",
    "\n",
    "net = network.Net(is_training=False)\n",
    "val_data = pascl.pascal_voc(cfg.test_imdb_name, 'test', fliped=False)\n",
    "\n",
    "_pred_score = net.cls_prob\n",
    "_pred_box_score_arg = tf.argmax(_pred_score, axis=1,name='faster_zky')\n",
    "data = val_data.get() \n",
    "\n",
    "# predict2(sess,data)"
   ]
  },
  {
   "cell_type": "code",
   "execution_count": 2,
   "metadata": {
    "scrolled": true
   },
   "outputs": [
    {
     "name": "stdout",
     "output_type": "stream",
     "text": [
      "WARNING:tensorflow:\n",
      "The TensorFlow contrib module will not be included in TensorFlow 2.0.\n",
      "For more information, please see:\n",
      "  * https://github.com/tensorflow/community/blob/master/rfcs/20180907-contrib-sunset.md\n",
      "  * https://github.com/tensorflow/addons\n",
      "  * https://github.com/tensorflow/io (for I/O related ops)\n",
      "If you depend on functionality not listed there, please file an issue.\n",
      "\n"
     ]
    },
    {
     "name": "stderr",
     "output_type": "stream",
     "text": [
      "20-06-29:01:46:55 INFO     [docker_container_manager.py:184] [default-cluster] Starting managed Redis instance in Docker\n",
      "20-06-29:01:46:59 INFO     [docker_container_manager.py:276] [default-cluster] Metric Configuration Saved at /tmp/tmpi5k74iag.yml\n",
      "20-06-29:01:47:00 INFO     [clipper_admin.py:162] [default-cluster] Clipper is running\n",
      "20-06-29:01:47:00 INFO     [clipper_admin.py:172] [default-cluster] Successfully connected to Clipper cluster at localhost:1337\n"
     ]
    }
   ],
   "source": [
    "import config as cfg\n",
    "import os\n",
    "import pascal_voc as pascl\n",
    "import numpy as np\n",
    "import tensorflow as tf\n",
    "import network\n",
    "import datetime\n",
    "import cv2\n",
    "from nms import py_cpu_nms\n",
    "import matplotlib.pyplot as plt\n",
    "from PIL import Image\n",
    "\n",
    "\n",
    "\n",
    "\n",
    "\n",
    "from clipper_admin import ClipperConnection, DockerContainerManager\n",
    "from clipper_admin.deployers.tensorflow import deploy_tensorflow_model\n",
    "clipper_conn = ClipperConnection(DockerContainerManager())\n",
    "clipper_conn.start_clipper()\n",
    "clipper_conn.connect()\n",
    "\n",
    "\n",
    "\n"
   ]
  },
  {
   "cell_type": "code",
   "execution_count": null,
   "metadata": {},
   "outputs": [],
   "source": [
    "def predict3(sess,train_data):\n",
    "    import numpy as np\n",
    "    result = []\n",
    "    data = json.loads(train_data[0])[0]\n",
    "\n",
    "    print(data,type(data))\n",
    "    image_height = np.array(np.array(data['image']).shape[1])\n",
    "    image_width = np.array(np.array(data['image']).shape[2])\n",
    "    feed_dict = {\"Placeholder:0\": data['image'], \"Placeholder_1:0\": image_width,\\\n",
    "                 \"Placeholder_2:0\": image_height}\n",
    "    rois_coord, pred_box, pred_box_score_arg, pred_score= sess.run([\"strided_slice_13:0\", \"vgg_16_2/region_deciton/bbox_pred/BiasAdd:0\",\n",
    "                                                                    \"ArgMax:0\", \"vgg_16_2/region_deciton/cls_prob:0\"],\\\n",
    "                                                            feed_dict=feed_dict)\n",
    "\n",
    "    result.extend([str(rois_coord), str(pred_box), str(pred_box_score_arg), str(pred_score)])\n",
    "    return result\n",
    "#这样还是 ValueError: callback pyfunc_0 is not found 太恶心了   "
   ]
  },
  {
   "cell_type": "code",
   "execution_count": 27,
   "metadata": {},
   "outputs": [],
   "source": [
    "def predict4(sess,train_data):\n",
    "    import numpy as np\n",
    "    import json\n",
    "    result = []\n",
    "    data = json.loads(train_data[0])[0]\n",
    "\n",
    "#     print(data,type(data))\n",
    "    image_height = np.array(np.array(data['image']).shape[1])\n",
    "    image_width = np.array(np.array(data['image']).shape[2])\n",
    "    feed_dict = {\"Placeholder:0\": data['image'], \"Placeholder_1:0\": image_width,\\\n",
    "                 \"Placeholder_2:0\": image_height}\n",
    "    print(\" start predict \")\n",
    "    print(feed_dict)\n",
    "    rois_coord, pred_box, pred_box_score_arg, pred_score= sess.run([\"strided_slice_13:0\", \"vgg_16_2/region_deciton/bbox_pred/BiasAdd:0\",\n",
    "                                                                    \"ArgMax:0\", \"vgg_16_2/region_deciton/cls_prob:0\"],\\\n",
    "                                                            feed_dict=feed_dict)\n",
    "    print(\" finished predict \")\n",
    "\n",
    "    result.extend([str(rois_coord), str(pred_box), str(pred_box_score_arg), str(pred_score)])\n",
    "    return result\n",
    "'''\n",
    "\n",
    "这样还是 ValueError: callback pyfunc_0 is not found 太恶心了  容器中的日志显示 运行到 sess.run报的错 \n",
    "参考 \n",
    "https://blog.csdn.net/pipisorry/article/details/94639393\n",
    "https://blog.csdn.net/Cyril__Li/article/details/79054596\n",
    "找不到原因\n",
    "和成功的部署 区别是 1，成功的 cifar10 和mnist等 返回一个值 2，graph是单线程定义提取的 3报找不到图文件 尝试改造原网络\n",
    "\n",
    "\n",
    "'''\n",
    "\n"
   ]
  },
  {
   "cell_type": "code",
   "execution_count": 46,
   "metadata": {},
   "outputs": [
    {
     "name": "stderr",
     "output_type": "stream",
     "text": [
      "20-06-29:03:12:59 INFO     [clipper_admin.py:236] [default-cluster] Application faster-app4 was successfully registered\n",
      "20-06-29:03:12:59 INFO     [deployer_utils.py:41] Saving function to /tmp/tmph4sk73gxclipper\n",
      "20-06-29:03:12:59 INFO     [deployer_utils.py:51] Serialized and supplied predict function\n",
      "20-06-29:03:13:00 INFO     [tensorflow.py:264] TensorFlow model copied to: tfmodel \n",
      "20-06-29:03:13:00 INFO     [tensorflow.py:277] Using Python 3.6 base image\n",
      "20-06-29:03:13:01 INFO     [clipper_admin.py:534] [default-cluster] Building model Docker image with model data from /tmp/tmph4sk73gxclipper\n",
      "20-06-29:03:13:24 INFO     [clipper_admin.py:539] [default-cluster] Step 1/3 : FROM clipper/tf36-container:0.4.1\n",
      "20-06-29:03:13:24 INFO     [clipper_admin.py:539] [default-cluster]  ---> 3db42af800ff\n",
      "20-06-29:03:13:24 INFO     [clipper_admin.py:539] [default-cluster] Step 2/3 : RUN apt-get -y install build-essential && pip install numpy\n",
      "20-06-29:03:13:24 INFO     [clipper_admin.py:539] [default-cluster]  ---> Using cache\n",
      "20-06-29:03:13:24 INFO     [clipper_admin.py:539] [default-cluster]  ---> 471953624095\n",
      "20-06-29:03:13:24 INFO     [clipper_admin.py:539] [default-cluster] Step 3/3 : COPY /tmp/tmph4sk73gxclipper /model/\n",
      "20-06-29:03:13:24 INFO     [clipper_admin.py:539] [default-cluster]  ---> 8bb31a8cb118\n",
      "20-06-29:03:13:24 INFO     [clipper_admin.py:539] [default-cluster] Successfully built 8bb31a8cb118\n",
      "20-06-29:03:13:24 INFO     [clipper_admin.py:539] [default-cluster] Successfully tagged default-cluster-faster-mod4:1\n",
      "20-06-29:03:13:24 INFO     [clipper_admin.py:541] [default-cluster] Pushing model Docker image to default-cluster-faster-mod4:1\n",
      "20-06-29:03:13:32 INFO     [docker_container_manager.py:409] [default-cluster] Found 0 replicas for faster-mod4:1. Adding 1\n",
      "20-06-29:03:13:33 INFO     [clipper_admin.py:724] [default-cluster] Successfully registered model faster-mod4:1\n",
      "20-06-29:03:13:33 INFO     [clipper_admin.py:642] [default-cluster] Done deploying model faster-mod4:1.\n",
      "20-06-29:03:13:33 INFO     [clipper_admin.py:303] [default-cluster] Model faster-mod4 is now linked to application faster-app4\n"
     ]
    }
   ],
   "source": [
    "clipper_conn.register_application(\n",
    "    name=\"faster-app4\", input_type=\"strings\", default_output=\"-1.0\", slo_micros=100000)\n",
    "# deploy_tensorflow_model(clipper_conn,name=\"faster-mod4\",version=1,input_type=\"strings\",func=predict4,\n",
    "# tf_sess_or_saved_model_path=sess,pkgs_to_install=['numpy'])\n",
    "\n",
    "deploy_tensorflow_model(clipper_conn,name=\"faster-mod4\",version=1,input_type=\"strings\",func=predict4,\n",
    "tf_sess_or_saved_model_path='/root/code/Faster-rcnn-tensorflow-master_1/output1/',pkgs_to_install=['numpy'])\n",
    "\n",
    "clipper_conn.link_model_to_app(app_name=\"faster-app4\",model_name=\"faster-mod4\")\n",
    "\n",
    "query_address = clipper_conn.get_query_addr()"
   ]
  },
  {
   "cell_type": "code",
   "execution_count": 47,
   "metadata": {},
   "outputs": [
    {
     "name": "stdout",
     "output_type": "stream",
     "text": [
      "Loading gt_labels from: annotation_cache/VOC2007_test/pascal_test_gt_labels.pkl\n"
     ]
    },
    {
     "name": "stderr",
     "output_type": "stream",
     "text": [
      "IOPub data rate exceeded.\n",
      "The notebook server will temporarily stop sending output\n",
      "to the client in order to avoid crashing it.\n",
      "To change this limit, set the config variable\n",
      "`--NotebookApp.iopub_data_rate_limit`.\n",
      "\n",
      "Current values:\n",
      "NotebookApp.iopub_data_rate_limit=1000000.0 (bytes/sec)\n",
      "NotebookApp.rate_limit_window=3.0 (secs)\n",
      "\n"
     ]
    },
    {
     "name": "stdout",
     "output_type": "stream",
     "text": [
      "{\"query_id\":5,\"output\":-1.0,\"default\":true,\"default_explanation\":\"Failed to retrieve a prediction response within the specified latency SLO\"}\n"
     ]
    }
   ],
   "source": [
    "import matplotlib.pyplot as plt\n",
    "import base64\n",
    "import json\n",
    "import requests\n",
    "from PIL import Image\n",
    "from datetime import datetime\n",
    "\n",
    "import time\n",
    "\n",
    "class MyEncoder(json.JSONEncoder):\n",
    "    def default(self, obj):\n",
    "        if isinstance(obj, np.integer):\n",
    "            return int(obj)\n",
    "        elif isinstance(obj, np.floating):\n",
    "            return float(obj)\n",
    "        elif isinstance(obj, np.ndarray):\n",
    "            return obj.tolist()\n",
    "        if isinstance(obj, time):\n",
    "            return obj.__str__()\n",
    "        else:\n",
    "            return super(NpEncoder, self).default(obj)\n",
    "\n",
    "\n",
    "\n",
    "\n",
    "\n",
    "\n",
    "val_data = pascl.pascal_voc(cfg.test_imdb_name, 'test', fliped=False)\n",
    "# query_address = clipper_conn.get_query_addr()\n",
    "\n",
    "url = \"http://%s/faster-app4/predict\" %  query_address\n",
    "\n",
    "#             for i in range (cfg.img_save_num):\n",
    "#                 print (i, ' image test compeleted')            \n",
    "train_data = val_data.get()  #if you want to change the test imgae, you can using cv2.imread() here to read your own image data\n",
    "\n",
    "# print(len(train_data))\n",
    "\n",
    "#clipper要求输入必须为 字符串 故必须要序列化下\n",
    "# list1 = {'image':[[1,2,3]]}\n",
    "tva = json.dumps([train_data],cls=MyEncoder)\n",
    "# tva = json.dumps([list1],cls=MyEncoder)\n",
    "# tva = [train_data]\n",
    "\n",
    "print(tva)\n",
    "tva_j = json.dumps({\"input\": tva})\n",
    "print(tva_j)\n",
    "#此处可看出 输入的最终数据为  [{\"image\": [[1, 2, 3]]}] \n",
    "#clipper 接收到的数据为 [b'[{\"image\": [[1, 2, 3]]}]' b'[{\"image\": [[1, 2, 3]]}]']\n",
    "headers = {'Content-type': 'application/json'}\n",
    "start = datetime.now()\n",
    "r = requests.post(url, headers=headers, data=tva_j)\n",
    "end = datetime.now()\n",
    "latency = (end - start).total_seconds() * 1000.0\n",
    "re = r.text\n",
    "\n",
    "print(re)"
   ]
  },
  {
   "cell_type": "code",
   "execution_count": 37,
   "metadata": {},
   "outputs": [
    {
     "data": {
      "text/plain": [
       "['faster-app4']"
      ]
     },
     "execution_count": 37,
     "metadata": {},
     "output_type": "execute_result"
    }
   ],
   "source": [
    "clipper_conn.get_all_apps()"
   ]
  },
  {
   "cell_type": "code",
   "execution_count": 38,
   "metadata": {},
   "outputs": [
    {
     "data": {
      "text/plain": [
       "['faster-mod4:1']"
      ]
     },
     "execution_count": 38,
     "metadata": {},
     "output_type": "execute_result"
    }
   ],
   "source": [
    "clipper_conn.get_all_models()"
   ]
  },
  {
   "cell_type": "code",
   "execution_count": 39,
   "metadata": {},
   "outputs": [
    {
     "name": "stderr",
     "output_type": "stream",
     "text": [
      "20-06-29:03:04:46 INFO     [clipper_admin.py:344] Model faster-mod4 is now removed to application faster-app4\n"
     ]
    }
   ],
   "source": [
    "clipper_conn.unlink_model_from_app(model_name=\"faster-mod4\", app_name=\"faster-app4\")"
   ]
  },
  {
   "cell_type": "code",
   "execution_count": 45,
   "metadata": {},
   "outputs": [
    {
     "name": "stderr",
     "output_type": "stream",
     "text": [
      "20-06-29:03:12:53 WARNING  [clipper_admin.py:240] [default-cluster] [DEPRECATED] Use 'unregister_application' API instead of this.\n",
      "20-06-29:03:12:53 INFO     [clipper_admin.py:260] [default-cluster] Application faster-app4 was successfully unregistered\n"
     ]
    }
   ],
   "source": [
    "clipper_conn.delete_application('faster-app4')"
   ]
  },
  {
   "cell_type": "code",
   "execution_count": 41,
   "metadata": {},
   "outputs": [
    {
     "name": "stderr",
     "output_type": "stream",
     "text": [
      "20-06-29:03:04:53 INFO     [clipper_admin.py:1285] Model faster-mod4:1 was successfully deleted\n",
      "20-06-29:03:04:53 INFO     [clipper_admin.py:1319] [default-cluster] Stopped all containers for these models and versions:\n",
      "{'faster-mod4': ['1']}\n"
     ]
    }
   ],
   "source": [
    "clipper_conn.stop_models('faster-mod4')"
   ]
  },
  {
   "cell_type": "code",
   "execution_count": 48,
   "metadata": {},
   "outputs": [
    {
     "name": "stderr",
     "output_type": "stream",
     "text": [
      "20-06-29:03:59:18 INFO     [clipper_admin.py:1424] [default-cluster] Stopped all Clipper cluster and all model containers\n"
     ]
    }
   ],
   "source": [
    "clipper_conn.stop_all()"
   ]
  },
  {
   "cell_type": "code",
   "execution_count": null,
   "metadata": {},
   "outputs": [],
   "source": []
  }
 ],
 "metadata": {
  "kernelspec": {
   "display_name": "Python 3",
   "language": "python",
   "name": "python3"
  },
  "language_info": {
   "codemirror_mode": {
    "name": "ipython",
    "version": 3
   },
   "file_extension": ".py",
   "mimetype": "text/x-python",
   "name": "python",
   "nbconvert_exporter": "python",
   "pygments_lexer": "ipython3",
   "version": "3.6.1"
  }
 },
 "nbformat": 4,
 "nbformat_minor": 4
}
