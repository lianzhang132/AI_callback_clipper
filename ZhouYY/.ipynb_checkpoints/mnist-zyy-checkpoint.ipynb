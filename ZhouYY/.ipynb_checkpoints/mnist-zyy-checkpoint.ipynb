{
 "cells": [
  {
   "cell_type": "code",
   "execution_count": 1,
   "metadata": {},
   "outputs": [],
   "source": [
    "import sys,os\n",
    "sys.path.append(os.pardir)\n",
    "import numpy as np\n",
    "from tensorflow.examples.tutorials.mnist import input_data\n",
    "from PIL import Image\n",
    "import tensorflow as tf"
   ]
  },
  {
   "cell_type": "code",
   "execution_count": null,
   "metadata": {},
   "outputs": [],
   "source": [
    "def trainNet():\n",
    "    mnist = input_data.read_data_sets (\"MNIST_data/\", one_hot=True)\n",
    "    x = tf.placeholder (tf.float32, [None, 784])\n",
    "    W = tf.Variable (tf.zeros ([784, 10]),name=\"w\")\n",
    "    b = tf.Variable (tf.zeros ([10]),name=\"b\")\n",
    "    # Construct a linear model\n",
    "    y_ = tf.add(tf.multiply(x, W), b, name='pred')\n",
    "    keep_prob = tf.placeholder (tf.float32)\n",
    "    # 定义测试的准确率\n",
    "    correct_prediction = tf.equal (tf.argmax (y, 1), tf.argmax (y_, 1))\n",
    "    accuracy = tf.reduce_mean (tf.cast (correct_prediction, tf.float32))\n",
    "    #\n",
    "    saver = tf.train.Saver (max_to_keep=1)\n",
    "    max_acc = 0\n",
    "    train_accuracy = 0\n",
    "    #交叉熵\n",
    "    cross_entropy = tf.reduce_mean (-tf.reduce_sum (y_ * tf.log (y)))\n",
    "    # cross_error=cross_entropy_error_batch(y,y_)\n",
    "    train_step = tf.train.GradientDescentOptimizer (0.01).minimize (cross_entropy)\n",
    "    sess = tf.InteractiveSession ()\n",
    "    tf.global_variables_initializer ().run ()\n",
    "    for i in range (50):\n",
    "        batch_xs, batch_ys = mnist.train.next_batch (100)\n",
    "        sess.run (train_step, feed_dict={x: batch_xs, y_: batch_ys, keep_prob: 1.0})\n",
    "        train_accuracy = accuracy.eval (feed_dict={x: batch_xs, y_: batch_ys, keep_prob: 1.0})\n",
    "        print (\"step %d, training accuracy %g\" % (i, train_accuracy))\n",
    "        saver.save (sess, './mnist_model/mnist_100.ckpt')\n",
    "trainNet()"
   ]
  },
  {
   "cell_type": "code",
   "execution_count": null,
   "metadata": {},
   "outputs": [],
   "source": [
    "# import the inspect_checkpoint library\n",
    "from tensorflow.python.tools import inspect_checkpoint as chkp\n",
    "# print all tensors in checkpoint file\n",
    "chkp.print_tensors_in_checkpoint_file(\n",
    "    \"./mnist_model/mnist_100.ckpt\", tensor_name='', all_tensors=True)"
   ]
  },
  {
   "cell_type": "code",
   "execution_count": null,
   "metadata": {},
   "outputs": [],
   "source": [
    "# ！！！不用这个！！！！\n",
    "def predict(sess, inputs):\n",
    "    #mnist = input_data.read_data_sets (\"MNIST_data/\", one_hot=True)\n",
    "    #meta_path = './mnist_model/mnist_100.ckpt.meta'\n",
    "    #model_path = './mnist_model/mnist_100.ckpt'    \n",
    "    #saver = tf.train.import_meta_graph (meta_path)\n",
    "    #saver.restore (sess, model_path)\n",
    "    #graph = tf.get_default_graph ()\n",
    "    #W = graph.get_tensor_by_name (\"w:0\")\n",
    "    #b = graph.get_tensor_by_name (\"b:0\")\n",
    "    #x = tf.placeholder (tf.float32, [None, 784])\n",
    "    #y = tf.nn.softmax (tf.matmul (x, W) + b)\n",
    "    #keep_prob = tf.placeholder (tf.float32)\n",
    "    batch_xs, batch_ys=mnist.train.next_batch (100)\n",
    "    one_img = batch_xs[0].reshape ((1, 784))\n",
    "    one_num = batch_ys[0].reshape ((1, 10))\n",
    "    temp = sess.run (y, feed_dict={x: one_img, keep_prob: 1.0})\n",
    "    b = sess.run (tf.argmax (temp, 1))\n",
    "    return str(b[0])\n"
   ]
  },
  {
   "cell_type": "code",
   "execution_count": 13,
   "metadata": {},
   "outputs": [],
   "source": [
    "def predict(sess, inputs):\n",
    "    # n = len(inputs)\n",
    "    preds = sess.run('pred:0', feed_dict={'X:0': np.array(inputs).reshape(1,-1)}) \n",
    "    # `X` is used, it must be defined in the model with that name explicitly!\n",
    "    return [str(p) for p in preds]"
   ]
  },
  {
   "cell_type": "code",
   "execution_count": 3,
   "metadata": {},
   "outputs": [
    {
     "name": "stdout",
     "output_type": "stream",
     "text": [
      "WARNING:tensorflow:From <ipython-input-3-c4e5cd03d7ac>:4: read_data_sets (from tensorflow.contrib.learn.python.learn.datasets.mnist) is deprecated and will be removed in a future version.\n",
      "Instructions for updating:\n",
      "Please use alternatives such as official/mnist/dataset.py from tensorflow/models.\n",
      "WARNING:tensorflow:From /usr/local/lib/python3.6/site-packages/tensorflow_core/contrib/learn/python/learn/datasets/mnist.py:260: maybe_download (from tensorflow.contrib.learn.python.learn.datasets.base) is deprecated and will be removed in a future version.\n",
      "Instructions for updating:\n",
      "Please write your own downloading logic.\n",
      "WARNING:tensorflow:From /usr/local/lib/python3.6/site-packages/tensorflow_core/contrib/learn/python/learn/datasets/mnist.py:262: extract_images (from tensorflow.contrib.learn.python.learn.datasets.mnist) is deprecated and will be removed in a future version.\n",
      "Instructions for updating:\n",
      "Please use tf.data to implement this functionality.\n",
      "Extracting MNIST_data/train-images-idx3-ubyte.gz\n",
      "WARNING:tensorflow:From /usr/local/lib/python3.6/site-packages/tensorflow_core/contrib/learn/python/learn/datasets/mnist.py:267: extract_labels (from tensorflow.contrib.learn.python.learn.datasets.mnist) is deprecated and will be removed in a future version.\n",
      "Instructions for updating:\n",
      "Please use tf.data to implement this functionality.\n",
      "Extracting MNIST_data/train-labels-idx1-ubyte.gz\n",
      "WARNING:tensorflow:From /usr/local/lib/python3.6/site-packages/tensorflow_core/contrib/learn/python/learn/datasets/mnist.py:110: dense_to_one_hot (from tensorflow.contrib.learn.python.learn.datasets.mnist) is deprecated and will be removed in a future version.\n",
      "Instructions for updating:\n",
      "Please use tf.one_hot on tensors.\n",
      "Extracting MNIST_data/t10k-images-idx3-ubyte.gz\n",
      "Extracting MNIST_data/t10k-labels-idx1-ubyte.gz\n",
      "WARNING:tensorflow:From /usr/local/lib/python3.6/site-packages/tensorflow_core/contrib/learn/python/learn/datasets/mnist.py:290: DataSet.__init__ (from tensorflow.contrib.learn.python.learn.datasets.mnist) is deprecated and will be removed in a future version.\n",
      "Instructions for updating:\n",
      "Please use alternatives such as official/mnist/dataset.py from tensorflow/models.\n",
      "1\n",
      "[0.0, 0.0, 0.0, 0.0, 0.0, 0.0, 0.0, 0.0, 0.0, 0.0, 0.0, 0.0, 0.0, 0.0, 0.0, 0.0, 0.0, 0.0, 0.0, 0.0, 0.0, 0.0, 0.0, 0.0, 0.0, 0.0, 0.0, 0.0, 0.0, 0.0, 0.0, 0.0, 0.0, 0.0, 0.0, 0.0, 0.0, 0.0, 0.0, 0.0, 0.0, 0.0, 0.0, 0.0, 0.0, 0.0, 0.0, 0.0, 0.0, 0.0, 0.0, 0.0, 0.0, 0.0, 0.0, 0.0, 0.0, 0.0, 0.0, 0.0, 0.0, 0.0, 0.0, 0.0, 0.0, 0.0, 0.0, 0.0, 0.0, 0.0, 0.0, 0.0, 0.0, 0.0, 0.0, 0.0, 0.0, 0.0, 0.0, 0.0, 0.0, 0.0, 0.0, 0.0, 0.0, 0.0, 0.0, 0.0, 0.0, 0.0, 0.0, 0.0, 0.0, 0.0, 0.0, 0.0, 0.0, 0.0, 0.0, 0.0, 0.0, 0.0, 0.0, 0.0, 0.0, 0.0, 0.0, 0.0, 0.0, 0.0, 0.0, 0.0, 0.0, 0.0, 0.0, 0.0, 0.0, 0.0, 0.14509804546833038, 0.8823530077934265, 1.0, 1.0, 0.9960784912109375, 0.7372549176216125, 0.458823561668396, 0.02352941408753395, 0.0, 0.0, 0.0, 0.0, 0.0, 0.0, 0.0, 0.0, 0.0, 0.0, 0.0, 0.0, 0.0, 0.0, 0.0, 0.0, 0.0, 0.0, 0.0, 0.0, 0.6078431606292725, 0.9921569228172302, 0.9921569228172302, 0.9921569228172302, 0.9294118285179138, 0.9921569228172302, 0.9921569228172302, 0.364705890417099, 0.0, 0.0, 0.0, 0.0, 0.0, 0.0, 0.0, 0.0, 0.0, 0.0, 0.0, 0.0, 0.0, 0.0, 0.0, 0.0, 0.0, 0.0, 0.0, 0.0, 0.07058823853731155, 0.8235294818878174, 0.9921569228172302, 0.8078432083129883, 0.19215688109397888, 0.6980392336845398, 0.9921569228172302, 0.8078432083129883, 0.05098039656877518, 0.0, 0.0, 0.0, 0.0, 0.0, 0.0, 0.0, 0.0, 0.0, 0.0, 0.0, 0.0, 0.0, 0.0, 0.0, 0.0, 0.0, 0.0, 0.0, 0.0, 0.1882353127002716, 0.2549019753932953, 0.0313725508749485, 0.27843138575553894, 0.8823530077934265, 0.9921569228172302, 0.9921569228172302, 0.23137256503105164, 0.0, 0.0, 0.0, 0.0, 0.0, 0.0, 0.0, 0.0, 0.0, 0.0, 0.0, 0.0, 0.0, 0.0, 0.0, 0.0, 0.0, 0.0, 0.0, 0.0, 0.0, 0.0, 0.501960813999176, 0.9843137860298157, 0.9921569228172302, 0.9921569228172302, 0.803921639919281, 0.04313725605607033, 0.0, 0.0, 0.0, 0.0, 0.0, 0.0, 0.0, 0.0, 0.0, 0.0, 0.0, 0.0, 0.0, 0.0, 0.0, 0.0, 0.0, 0.0, 0.0, 0.0, 0.0, 0.0, 0.8823530077934265, 0.9921569228172302, 0.9921569228172302, 0.9254902601242065, 0.22745099663734436, 0.0, 0.0, 0.0, 0.0, 0.0, 0.0, 0.0, 0.0, 0.0, 0.0, 0.0, 0.0, 0.0, 0.0, 0.0, 0.0, 0.0, 0.0, 0.0, 0.0, 0.0, 0.0, 0.0, 0.2352941334247589, 0.9725490808486938, 0.9921569228172302, 0.615686297416687, 0.007843137718737125, 0.0, 0.0, 0.0, 0.0, 0.0, 0.0, 0.0, 0.0, 0.0, 0.0, 0.0, 0.0, 0.0, 0.0, 0.0, 0.0, 0.0, 0.0, 0.0, 0.0, 0.0, 0.0, 0.0, 0.0, 0.6470588445663452, 0.9921569228172302, 0.9921569228172302, 0.686274528503418, 0.5568627715110779, 0.5568627715110779, 0.13725490868091583, 0.0470588281750679, 0.0, 0.0, 0.0, 0.0, 0.0, 0.0, 0.0, 0.0, 0.0, 0.0, 0.0, 0.0, 0.0, 0.0, 0.0, 0.0, 0.0, 0.0, 0.0, 0.0, 0.011764707043766975, 0.3686274588108063, 0.658823549747467, 0.8313726186752319, 0.9568628072738647, 0.9921569228172302, 0.9921569228172302, 0.803921639919281, 0.6274510025978088, 0.29411765933036804, 0.0, 0.0, 0.0, 0.0, 0.0, 0.0, 0.0, 0.0, 0.0, 0.0, 0.0, 0.0, 0.0, 0.0, 0.0, 0.0, 0.0, 0.0, 0.0, 0.0, 0.0, 0.0, 0.23137256503105164, 0.4745098352432251, 0.760784387588501, 0.7725490927696228, 0.9921569228172302, 0.9372549653053284, 0.3019607961177826, 0.0, 0.0, 0.0, 0.0, 0.0, 0.0, 0.0, 0.0, 0.0, 0.0, 0.0, 0.0, 0.0, 0.0, 0.0, 0.0, 0.0, 0.0, 0.0, 0.0, 0.0, 0.0, 0.0, 0.0, 0.011764707043766975, 0.6745098233222961, 0.9921569228172302, 0.8156863451004028, 0.062745101749897, 0.0, 0.0, 0.0, 0.0, 0.0, 0.0, 0.0, 0.0, 0.0, 0.0, 0.0, 0.0, 0.0, 0.0, 0.0, 0.0, 0.0, 0.0, 0.0, 0.0, 0.0, 0.0, 0.0, 0.0, 0.364705890417099, 0.9921569228172302, 0.9921569228172302, 0.20784315466880798, 0.0, 0.0, 0.0, 0.0, 0.0, 0.0, 0.0, 0.0, 0.0, 0.0, 0.0, 0.0, 0.0, 0.0, 0.0, 0.0, 0.0, 0.0, 0.0, 0.0, 0.0, 0.0, 0.0, 0.0, 0.5803921818733215, 0.9921569228172302, 0.9921569228172302, 0.20784315466880798, 0.0, 0.0, 0.0, 0.0, 0.0, 0.0, 0.0, 0.0, 0.0, 0.0, 0.0, 0.0, 0.0, 0.01568627543747425, 0.5882353186607361, 0.5607843399047852, 0.02352941408753395, 0.0, 0.0, 0.0, 0.0, 0.0, 0.0, 0.0, 0.5803921818733215, 0.9921569228172302, 0.9921569228172302, 0.20784315466880798, 0.0, 0.0, 0.0, 0.0, 0.0, 0.0, 0.0, 0.0, 0.0, 0.0, 0.0, 0.0, 0.0, 0.49803924560546875, 0.9921569228172302, 0.9921569228172302, 0.04313725605607033, 0.0, 0.0, 0.0, 0.0, 0.0, 0.0, 0.007843137718737125, 0.6274510025978088, 0.9921569228172302, 0.9921569228172302, 0.20784315466880798, 0.0, 0.0, 0.0, 0.0, 0.0, 0.0, 0.0, 0.0, 0.0, 0.0, 0.0, 0.0, 0.0, 0.2823529541492462, 0.9921569228172302, 0.9921569228172302, 0.3490196168422699, 0.0, 0.0, 0.0, 0.0, 0.0, 0.0, 0.13725490868091583, 0.9921569228172302, 0.9921569228172302, 0.9921569228172302, 0.20784315466880798, 0.0, 0.0, 0.0, 0.0, 0.0, 0.0, 0.0, 0.0, 0.0, 0.0, 0.0, 0.0, 0.0, 0.0784313753247261, 0.8627451658248901, 0.9921569228172302, 0.847058892250061, 0.11372549831867218, 0.0, 0.0, 0.0, 0.0, 0.0, 0.847058892250061, 0.9921569228172302, 0.9921569228172302, 0.9294118285179138, 0.15294118225574493, 0.0, 0.0, 0.0, 0.0, 0.0, 0.0, 0.0, 0.0, 0.0, 0.0, 0.0, 0.0, 0.0, 0.0, 0.44705885648727417, 0.9921569228172302, 0.9921569228172302, 0.6196078658103943, 0.27450981736183167, 0.0, 0.0, 0.0, 0.501960813999176, 0.988235354423523, 0.9921569228172302, 0.9921569228172302, 0.5843137502670288, 0.0, 0.0, 0.0, 0.0, 0.0, 0.0, 0.0, 0.0, 0.0, 0.0, 0.0, 0.0, 0.0, 0.0, 0.0, 0.05098039656877518, 0.3333333432674408, 0.9764706492424011, 0.9921569228172302, 0.9725490808486938, 0.7490196228027344, 0.7529412508010864, 0.8588235974311829, 0.9803922176361084, 0.9921569228172302, 0.9921569228172302, 0.6470588445663452, 0.03921568766236305, 0.0, 0.0, 0.0, 0.0, 0.0, 0.0, 0.0, 0.0, 0.0, 0.0, 0.0, 0.0, 0.0, 0.0, 0.0, 0.0, 0.0, 0.29411765933036804, 0.7882353663444519, 0.9921569228172302, 0.9921569228172302, 0.9921569228172302, 0.9921569228172302, 0.9921569228172302, 0.9921569228172302, 0.6666666865348816, 0.02352941408753395, 0.0, 0.0, 0.0, 0.0, 0.0, 0.0, 0.0, 0.0, 0.0, 0.0, 0.0, 0.0, 0.0, 0.0, 0.0, 0.0, 0.0, 0.0, 0.0, 0.0, 0.0, 0.0, 0.0, 0.0, 0.0, 0.0, 0.0, 0.0, 0.0, 0.0, 0.0, 0.0, 0.0, 0.0, 0.0, 0.0, 0.0, 0.0, 0.0, 0.0, 0.0, 0.0, 0.0, 0.0, 0.0, 0.0, 0.0, 0.0, 0.0, 0.0, 0.0, 0.0, 0.0, 0.0, 0.0, 0.0, 0.0, 0.0, 0.0, 0.0, 0.0, 0.0, 0.0, 0.0, 0.0, 0.0, 0.0, 0.0, 0.0, 0.0, 0.0, 0.0, 0.0, 0.0, 0.0, 0.0, 0.0, 0.0, 0.0, 0.0, 0.0, 0.0, 0.0, 0.0, 0.0, 0.0, 0.0, 0.0, 0.0, 0.0, 0.0, 0.0, 0.0, 0.0, 0.0, 0.0, 0.0, 0.0, 0.0, 0.0, 0.0, 0.0, 0.0, 0.0, 0.0, 0.0, 0.0, 0.0, 0.0, 0.0, 0.0, 0.0, 0.0, 0.0, 0.0, 0.0, 0.0, 0.0, 0.0, 0.0]\n"
     ]
    }
   ],
   "source": [
    "sess = tf.Session ()\n",
    "\n",
    "inputs = list()\n",
    "mnist = input_data.read_data_sets (\"MNIST_data/\", one_hot=True)\n",
    "batch_xs, batch_ys=mnist.train.next_batch (100)\n",
    "one_img = batch_xs[0].reshape ((-1)) # (,784)\n",
    "inputs.append(list(one_img))\n",
    "print(len(inputs))\n",
    "print([one_img.tolist()])\n"
   ]
  },
  {
   "cell_type": "code",
   "execution_count": 5,
   "metadata": {},
   "outputs": [
    {
     "name": "stderr",
     "output_type": "stream",
     "text": [
      "20-03-26:11:22:21 INFO     [docker_container_manager.py:184] [default-cluster] Starting managed Redis instance in Docker\n",
      "20-03-26:11:22:25 INFO     [docker_container_manager.py:276] [default-cluster] Metric Configuration Saved at /tmp/tmpqd3zhgc8.yml\n",
      "20-03-26:11:22:27 INFO     [clipper_admin.py:162] [default-cluster] Clipper is running\n",
      "20-03-26:11:22:27 INFO     [clipper_admin.py:172] [default-cluster] Successfully connected to Clipper cluster at localhost:1337\n"
     ]
    }
   ],
   "source": [
    "from clipper_admin import ClipperConnection, DockerContainerManager\n",
    "from clipper_admin.deployers.tensorflow import deploy_tensorflow_model\n",
    "clipper_conn = ClipperConnection(DockerContainerManager())\n",
    "clipper_conn.start_clipper()\n",
    "clipper_conn.connect()"
   ]
  },
  {
   "cell_type": "code",
   "execution_count": 6,
   "metadata": {},
   "outputs": [
    {
     "name": "stderr",
     "output_type": "stream",
     "text": [
      "20-03-26:11:22:34 INFO     [clipper_admin.py:236] [default-cluster] Application mnist-zyy was successfully registered\n"
     ]
    }
   ],
   "source": [
    "# Add an application with a name and an input type\n",
    "clipper_conn.register_application(\n",
    "    name=\"mnist-zyy\", input_type=\"floats\", \n",
    "    default_output=\"-1.0\", slo_micros=10000000)"
   ]
  },
  {
   "cell_type": "code",
   "execution_count": 7,
   "metadata": {},
   "outputs": [
    {
     "data": {
      "text/plain": [
       "['mnist-zyy']"
      ]
     },
     "execution_count": 7,
     "metadata": {},
     "output_type": "execute_result"
    }
   ],
   "source": [
    "clipper_conn.get_all_apps()"
   ]
  },
  {
   "cell_type": "code",
   "execution_count": 8,
   "metadata": {},
   "outputs": [
    {
     "data": {
      "text/plain": [
       "[]"
      ]
     },
     "execution_count": 8,
     "metadata": {},
     "output_type": "execute_result"
    }
   ],
   "source": [
    "clipper_conn.get_all_models()"
   ]
  },
  {
   "cell_type": "code",
   "execution_count": 16,
   "metadata": {},
   "outputs": [
    {
     "name": "stderr",
     "output_type": "stream",
     "text": [
      "20-03-26:11:26:53 INFO     [deployer_utils.py:41] Saving function to /tmp/tmpz2v2007tclipper\n",
      "20-03-26:11:26:53 INFO     [deployer_utils.py:51] Serialized and supplied predict function\n",
      "20-03-26:11:26:53 INFO     [tensorflow.py:264] TensorFlow model copied to: tfmodel \n",
      "20-03-26:11:26:53 INFO     [tensorflow.py:277] Using Python 3.6 base image\n",
      "20-03-26:11:26:53 INFO     [clipper_admin.py:534] [default-cluster] Building model Docker image with model data from /tmp/tmpz2v2007tclipper\n",
      "20-03-26:11:26:53 INFO     [clipper_admin.py:539] [default-cluster] Step 1/2 : FROM clipper/tf36-container:0.4.1\n",
      "20-03-26:11:26:53 INFO     [clipper_admin.py:539] [default-cluster]  ---> 3db42af800ff\n",
      "20-03-26:11:26:53 INFO     [clipper_admin.py:539] [default-cluster] Step 2/2 : COPY /tmp/tmpz2v2007tclipper /model/\n",
      "20-03-26:11:26:53 INFO     [clipper_admin.py:539] [default-cluster]  ---> 7a13d6437e37\n",
      "20-03-26:11:26:53 INFO     [clipper_admin.py:539] [default-cluster] Successfully built 7a13d6437e37\n",
      "20-03-26:11:26:53 INFO     [clipper_admin.py:539] [default-cluster] Successfully tagged default-cluster-mnist-zyy:2\n",
      "20-03-26:11:26:53 INFO     [clipper_admin.py:541] [default-cluster] Pushing model Docker image to default-cluster-mnist-zyy:2\n",
      "20-03-26:11:27:10 INFO     [docker_container_manager.py:409] [default-cluster] Found 0 replicas for mnist-zyy:2. Adding 1\n",
      "20-03-26:11:27:11 INFO     [clipper_admin.py:724] [default-cluster] Successfully registered model mnist-zyy:2\n",
      "20-03-26:11:27:11 INFO     [clipper_admin.py:642] [default-cluster] Done deploying model mnist-zyy:2.\n"
     ]
    }
   ],
   "source": [
    "deploy_tensorflow_model(\n",
    "    clipper_conn,\n",
    "    name=\"mnist-zyy\",\n",
    "    version=2,\n",
    "    input_type=\"floats\",\n",
    "    func=predict,\n",
    "    tf_sess_or_saved_model_path=\"/root/code/ZhouYY/mnist_model/\")"
   ]
  },
  {
   "cell_type": "code",
   "execution_count": 18,
   "metadata": {},
   "outputs": [
    {
     "name": "stderr",
     "output_type": "stream",
     "text": [
      "20-03-26:11:27:30 INFO     [clipper_admin.py:303] [default-cluster] Model mnist-zyy is now linked to application mnist-zyy\n"
     ]
    }
   ],
   "source": [
    "clipper_conn.link_model_to_app(\n",
    "    app_name=\"mnist-zyy\",\n",
    "    model_name=\"mnist-zyy\")"
   ]
  },
  {
   "cell_type": "code",
   "execution_count": 19,
   "metadata": {},
   "outputs": [
    {
     "name": "stdout",
     "output_type": "stream",
     "text": [
      "localhost:1337\n"
     ]
    }
   ],
   "source": [
    "query_address = clipper_conn.get_query_addr()\n",
    "print(query_address)"
   ]
  },
  {
   "cell_type": "code",
   "execution_count": 20,
   "metadata": {},
   "outputs": [
    {
     "data": {
      "text/plain": [
       "{'query_id': 1,\n",
       " 'output': -1.0,\n",
       " 'default': True,\n",
       " 'default_explanation': 'Failed to retrieve a prediction response within the specified latency SLO'}"
      ]
     },
     "execution_count": 20,
     "metadata": {},
     "output_type": "execute_result"
    }
   ],
   "source": [
    "import requests, json, numpy as np\n",
    "class NpEncoder(json.JSONEncoder):\n",
    "    def default(self, obj):\n",
    "        if isinstance(obj, np.integer):\n",
    "            return int(obj)\n",
    "        elif isinstance(obj, np.floating):\n",
    "            return float(obj)\n",
    "        elif isinstance(obj, np.ndarray):\n",
    "            return obj.tolist()\n",
    "        else:\n",
    "            return super(NpEncoder, self).default(obj)\n",
    "\n",
    "headers = {\"Content-type\": \"application/json\"}\n",
    "requests.post(\"http://\"+query_address+\"/mnist-zyy/predict\", \n",
    "              headers=headers, data=json.dumps({\"input\":one_img.tolist()})).json()"
   ]
  },
  {
   "cell_type": "code",
   "execution_count": 14,
   "metadata": {},
   "outputs": [
    {
     "name": "stderr",
     "output_type": "stream",
     "text": [
      "20-03-26:11:26:17 INFO     [clipper_admin.py:344] Model mnist-zyy is now removed to application mnist-zyy\n"
     ]
    }
   ],
   "source": [
    "clipper_conn.unlink_model_from_app('mnist-zyy','mnist-zyy')"
   ]
  },
  {
   "cell_type": "code",
   "execution_count": null,
   "metadata": {},
   "outputs": [],
   "source": [
    "clipper_conn.get_all_apps()"
   ]
  },
  {
   "cell_type": "code",
   "execution_count": null,
   "metadata": {},
   "outputs": [],
   "source": [
    "clipper_conn.stop_inactive_model_versions('mnist-zyy')"
   ]
  },
  {
   "cell_type": "code",
   "execution_count": null,
   "metadata": {},
   "outputs": [],
   "source": [
    "clipper_conn.get_all_models()"
   ]
  },
  {
   "cell_type": "code",
   "execution_count": null,
   "metadata": {},
   "outputs": [],
   "source": [
    "clipper_conn.delete_application('mnist-zyy')"
   ]
  },
  {
   "cell_type": "code",
   "execution_count": null,
   "metadata": {},
   "outputs": [],
   "source": [
    "clipper_conn.stop_all()"
   ]
  },
  {
   "cell_type": "code",
   "execution_count": null,
   "metadata": {},
   "outputs": [],
   "source": []
  }
 ],
 "metadata": {
  "kernelspec": {
   "display_name": "Python 3",
   "language": "python",
   "name": "python3"
  },
  "language_info": {
   "codemirror_mode": {
    "name": "ipython",
    "version": 3
   },
   "file_extension": ".py",
   "mimetype": "text/x-python",
   "name": "python",
   "nbconvert_exporter": "python",
   "pygments_lexer": "ipython3",
   "version": "3.6.1"
  }
 },
 "nbformat": 4,
 "nbformat_minor": 4
}
