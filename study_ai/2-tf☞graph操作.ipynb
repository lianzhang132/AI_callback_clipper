{
 "cells": [
  {
   "cell_type": "code",
   "execution_count": null,
   "metadata": {},
   "outputs": [],
   "source": [
    "import tensorflow as tf\n",
    "import matplotlib.pyplot as plt\n",
    "\n",
    "#图的保存\n",
    "v = tf.Variable(1.0,name='my_variable')\n",
    "with tf.Session() as sess:\n",
    "    tf.train.write_graph(sess.graph_def,'./tfmodel','test_pb.pb',as_text=False)\n",
    "    \n"
   ]
  },
  {
   "cell_type": "code",
   "execution_count": null,
   "metadata": {
    "scrolled": true
   },
   "outputs": [],
   "source": [
    "#图的加载\n",
    "with tf.Session() as sess:\n",
    "    with tf.gfile.FastGFile('./tfmodel/test_pb.pb','rb') as f:\n",
    "        graph_def = tf.GraphDef()\n",
    "        graph_def.ParseFromString(f.read())\n",
    "        sess.graph.as_default()\n",
    "        tf.import_graph_def(graph_def,name='tf.graph')\n",
    "        print(graph_def)\n",
    "    "
   ]
  },
  {
   "cell_type": "code",
   "execution_count": 1,
   "metadata": {},
   "outputs": [],
   "source": [
    "#导入inception模型\n",
    "from __future__ import print_function\n",
    "import os\n",
    "from io import BytesIO\n",
    "import numpy as np \n",
    "from functools import partial\n",
    "import PIL.Image\n",
    "import scipy.misc\n",
    "import tensorflow as tf\n",
    "\n"
   ]
  },
  {
   "cell_type": "code",
   "execution_count": 3,
   "metadata": {},
   "outputs": [
    {
     "name": "stderr",
     "output_type": "stream",
     "text": [
      "E:\\soft\\anaconda1\\envs\\tensor1\\lib\\site-packages\\tensorflow_core\\python\\client\\session.py:1750: UserWarning: An interactive session is already active. This can cause out-of-memory errors in some cases. You must explicitly call `InteractiveSession.close()` to release resources held by the other session(s).\n",
      "  warnings.warn('An interactive session is already active. This can '\n"
     ]
    }
   ],
   "source": [
    "\n",
    "graph = tf.Graph()\n",
    "sess = tf.InteractiveSession(graph=graph)\n",
    "model_fn = 'tensorflow_inception_graph.pb'#导入inception模型\n",
    "with tf.gfile.GFile(model_fn,'rb') as f:\n",
    "    graph_def = tf.GraphDef()\n",
    "    graph_def.ParseFromString(f.read())\n",
    "    \n",
    "#定义输入图像的占位符\n",
    "t_input = tf.placeholder(np.float32,name='input')\n",
    "#图像预处理 减均值 在训练inception模型时做了减均值处理 在此也需减同样的均值以保持一致\n",
    "\n",
    "imagenet_mean = 117.0\n",
    "\n",
    "#图像预处理 增加维度\n",
    "#图像数据格式就是 （hight width channels）为同时将多张图片输入网络而在掐面增加一维\n",
    "#变成（ batch hight width channels）\n",
    "\n",
    "t_preprocessed = tf.expand_dims(t_input - imagenet_mean,0)\n",
    "#导入模型并将预处理的图像送入网络中\n",
    "tf.import_graph_def(graph_def,{'input':t_preprocessed})"
   ]
  },
  {
   "cell_type": "code",
   "execution_count": 5,
   "metadata": {},
   "outputs": [
    {
     "name": "stdout",
     "output_type": "stream",
     "text": [
      "['import/conv2d0_pre_relu/conv', 'import/conv2d1_pre_relu/conv', 'import/conv2d2_pre_relu/conv', 'import/mixed3a_1x1_pre_relu/conv', 'import/mixed3a_3x3_bottleneck_pre_relu/conv', 'import/mixed3a_3x3_pre_relu/conv', 'import/mixed3a_5x5_bottleneck_pre_relu/conv', 'import/mixed3a_5x5_pre_relu/conv', 'import/mixed3a_pool_reduce_pre_relu/conv', 'import/mixed3b_1x1_pre_relu/conv', 'import/mixed3b_3x3_bottleneck_pre_relu/conv', 'import/mixed3b_3x3_pre_relu/conv', 'import/mixed3b_5x5_bottleneck_pre_relu/conv', 'import/mixed3b_5x5_pre_relu/conv', 'import/mixed3b_pool_reduce_pre_relu/conv', 'import/mixed4a_1x1_pre_relu/conv', 'import/mixed4a_3x3_bottleneck_pre_relu/conv', 'import/mixed4a_3x3_pre_relu/conv', 'import/mixed4a_5x5_bottleneck_pre_relu/conv', 'import/mixed4a_5x5_pre_relu/conv', 'import/mixed4a_pool_reduce_pre_relu/conv', 'import/mixed4b_1x1_pre_relu/conv', 'import/mixed4b_3x3_bottleneck_pre_relu/conv', 'import/mixed4b_3x3_pre_relu/conv', 'import/mixed4b_5x5_bottleneck_pre_relu/conv', 'import/mixed4b_5x5_pre_relu/conv', 'import/mixed4b_pool_reduce_pre_relu/conv', 'import/mixed4c_1x1_pre_relu/conv', 'import/mixed4c_3x3_bottleneck_pre_relu/conv', 'import/mixed4c_3x3_pre_relu/conv', 'import/mixed4c_5x5_bottleneck_pre_relu/conv', 'import/mixed4c_5x5_pre_relu/conv', 'import/mixed4c_pool_reduce_pre_relu/conv', 'import/mixed4d_1x1_pre_relu/conv', 'import/mixed4d_3x3_bottleneck_pre_relu/conv', 'import/mixed4d_3x3_pre_relu/conv', 'import/mixed4d_5x5_bottleneck_pre_relu/conv', 'import/mixed4d_5x5_pre_relu/conv', 'import/mixed4d_pool_reduce_pre_relu/conv', 'import/mixed4e_1x1_pre_relu/conv', 'import/mixed4e_3x3_bottleneck_pre_relu/conv', 'import/mixed4e_3x3_pre_relu/conv', 'import/mixed4e_5x5_bottleneck_pre_relu/conv', 'import/mixed4e_5x5_pre_relu/conv', 'import/mixed4e_pool_reduce_pre_relu/conv', 'import/mixed5a_1x1_pre_relu/conv', 'import/mixed5a_3x3_bottleneck_pre_relu/conv', 'import/mixed5a_3x3_pre_relu/conv', 'import/mixed5a_5x5_bottleneck_pre_relu/conv', 'import/mixed5a_5x5_pre_relu/conv', 'import/mixed5a_pool_reduce_pre_relu/conv', 'import/mixed5b_1x1_pre_relu/conv', 'import/mixed5b_3x3_bottleneck_pre_relu/conv', 'import/mixed5b_3x3_pre_relu/conv', 'import/mixed5b_5x5_bottleneck_pre_relu/conv', 'import/mixed5b_5x5_pre_relu/conv', 'import/mixed5b_pool_reduce_pre_relu/conv', 'import/head0_bottleneck_pre_relu/conv', 'import/head1_bottleneck_pre_relu/conv']\n",
      "NUMber of layers 59\n"
     ]
    }
   ],
   "source": [
    "layers = [op.name for op in graph.get_operations() if op.type =='Conv2D' and 'import/' in op.name]\n",
    "print(layers)\n",
    "print('NUMber of layers' , len(layers))"
   ]
  },
  {
   "cell_type": "code",
   "execution_count": 9,
   "metadata": {},
   "outputs": [
    {
     "name": "stdout",
     "output_type": "stream",
     "text": [
      "shape of mixed4d_3x3_bottleneck_pre_relu:(?, ?, ?, 144)\n",
      "shape of mixed4d_5x5_bottleneck_pre_relu:(?, ?, ?, 32)\n"
     ]
    }
   ],
   "source": [
    "#还可指出指定卷积层的参数\n",
    "name1 = 'mixed4d_3x3_bottleneck_pre_relu'\n",
    "print('shape of %s:%s'%(name1,str(graph.get_tensor_by_name('import/'+name1+':0').get_shape())))\n",
    "\n",
    "name2 = 'mixed4d_5x5_bottleneck_pre_relu'\n",
    "print('shape of %s:%s'%(name2,str(graph.get_tensor_by_name('import/'+name2+':0').get_shape())))"
   ]
  },
  {
   "cell_type": "code",
   "execution_count": 11,
   "metadata": {},
   "outputs": [
    {
     "name": "stdout",
     "output_type": "stream",
     "text": [
      "c1.graph: <tensorflow.python.framework.ops.Graph object at 0x00000214D34E5A48>\n"
     ]
    }
   ],
   "source": [
    "import numpy as np \n",
    "import tensorflow as tf \n",
    "\n",
    "g = tf.Graph()\n",
    "with g.as_default():\n",
    "    c1 = tf.constant(0.0)\n",
    "    print('c1.graph:',c1.graph)"
   ]
  },
  {
   "cell_type": "code",
   "execution_count": null,
   "metadata": {},
   "outputs": [],
   "source": [
    "#渲染函数\n",
    "def render_naive(t_obj,img0,iter_n=20,step=1.0):\n",
    "    #t_obj是layer_output[:,:,:,channel],即卷积层某个通道的值\n",
    "    #img0 初始图像（噪声图像）\n",
    "    #iter_n 迭代次数\n",
    "    # step:用于控制迭代步长 可以看做学习率\n",
    "    \n",
    "    t_score = tf.reduce_mean(t_obj)\n",
    "    #t_c=score是t_obj的平均值\n",
    "    #由于我们的目标是调整输入图像使卷积层激活值尽量大\n",
    "    #即最大化t_score\n",
    "    #为达到此目标 可使用梯度下降\n",
    "    #计算t_score对t_input的梯度\n",
    "    t_grad = tf.gradients(t_score,t_input)[0]\n",
    "    img = img0.copy()#复制图像可避免影响原图像的值\n",
    "    for i in range(iter_n):\n",
    "        #在sess中计算梯度以及当前的t_score\n",
    "        g,score = sess.run([t_grad,t_score],{t_input:img})\n",
    "        #对img应用梯度\n",
    "        #首先对梯度进行归一化处理\n",
    "        g /= g.std() + le-8\n",
    "        #将正规化处理后的梯度应用在图像上 step 用于控制每次迭代步长 此处为1.0\n",
    "        img += g*step\n",
    "        #print('score(mean)=%f'%(score))\n",
    "        print('iter:%d'%(i+1),'score(mean)=%f'%score)\n",
    "        \n",
    "        #保存图片\n",
    "    savearray(img,'naive_deepddream.jpg')\n",
    "\n",
    "\n",
    "\n",
    "\n",
    "\n",
    "\n",
    "\n",
    "\n",
    "#定义卷积层 通道数 并取出对应的tensor\n",
    "name = 'mixed4d_3x3_bottleneck_pre_relu'\n",
    "#(?,?,?,144)\n",
    "#name = 'mixed4d_5x5_bottleneck_pre_relu'\n",
    "#(?,?,?,32)\n",
    "channel = 139\n",
    "# mixed4d_3x3_bottleneck_pre_relu 共144个通道\n",
    "#此处可选任意通道（0-143）之间的任意整数 进行最大化\n",
    "layer_output = graph.get_tensor_by_name('import/%s:0'%name)\n",
    "# 定义噪声图像\n",
    "img_noise = np.random.uniform(size=(224,224,3))+100.0\n",
    "\n",
    "#调用render_naive函数渲染\n",
    "render_naive(layer_output[:,:,:,channel],img_noise,iter_n=20)\n",
    "# 保存并显示图片\n",
    "im = PIL.Image.open('mountain.jpg')\n",
    "im.show()\n",
    "im.save('naive_single_chn.jpg')"
   ]
  }
 ],
 "metadata": {
  "kernelspec": {
   "display_name": "Python 3",
   "language": "python",
   "name": "python3"
  },
  "language_info": {
   "codemirror_mode": {
    "name": "ipython",
    "version": 3
   },
   "file_extension": ".py",
   "mimetype": "text/x-python",
   "name": "python",
   "nbconvert_exporter": "python",
   "pygments_lexer": "ipython3",
   "version": "3.7.7"
  }
 },
 "nbformat": 4,
 "nbformat_minor": 4
}
