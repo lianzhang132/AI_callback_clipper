{
 "cells": [
  {
   "cell_type": "code",
   "execution_count": null,
   "metadata": {
    "scrolled": false
   },
   "outputs": [
    {
     "name": "stdout",
     "output_type": "stream",
     "text": [
      "WARNING:tensorflow:From F:\\中科院计算所\\code\\cifar10-CNN-master\\cifar10_input.py:64: The name tf.gfile.Exists is deprecated. Please use tf.io.gfile.exists instead.\n",
      "\n"
     ]
    },
    {
     "name": "stderr",
     "output_type": "stream",
     "text": [
      "W0528 10:12:53.979251 10104 module_wrapper.py:139] From F:\\中科院计算所\\code\\cifar10-CNN-master\\cifar10_input.py:64: The name tf.gfile.Exists is deprecated. Please use tf.io.gfile.exists instead.\n",
      "\n"
     ]
    },
    {
     "name": "stdout",
     "output_type": "stream",
     "text": [
      "WARNING:tensorflow:From F:\\中科院计算所\\code\\cifar10-CNN-master\\cifar10_input.py:67: string_input_producer (from tensorflow.python.training.input) is deprecated and will be removed in a future version.\n",
      "Instructions for updating:\n",
      "Queue-based input pipelines have been replaced by `tf.data`. Use `tf.data.Dataset.from_tensor_slices(string_tensor).shuffle(tf.shape(input_tensor, out_type=tf.int64)[0]).repeat(num_epochs)`. If `shuffle=False`, omit the `.shuffle(...)`.\n"
     ]
    },
    {
     "name": "stderr",
     "output_type": "stream",
     "text": [
      "W0528 10:12:53.985247 10104 deprecation.py:323] From F:\\中科院计算所\\code\\cifar10-CNN-master\\cifar10_input.py:67: string_input_producer (from tensorflow.python.training.input) is deprecated and will be removed in a future version.\n",
      "Instructions for updating:\n",
      "Queue-based input pipelines have been replaced by `tf.data`. Use `tf.data.Dataset.from_tensor_slices(string_tensor).shuffle(tf.shape(input_tensor, out_type=tf.int64)[0]).repeat(num_epochs)`. If `shuffle=False`, omit the `.shuffle(...)`.\n"
     ]
    },
    {
     "name": "stdout",
     "output_type": "stream",
     "text": [
      "WARNING:tensorflow:From E:\\soft\\anaconda\\lib\\site-packages\\tensorflow_core\\python\\training\\input.py:277: input_producer (from tensorflow.python.training.input) is deprecated and will be removed in a future version.\n",
      "Instructions for updating:\n",
      "Queue-based input pipelines have been replaced by `tf.data`. Use `tf.data.Dataset.from_tensor_slices(input_tensor).shuffle(tf.shape(input_tensor, out_type=tf.int64)[0]).repeat(num_epochs)`. If `shuffle=False`, omit the `.shuffle(...)`.\n"
     ]
    },
    {
     "name": "stderr",
     "output_type": "stream",
     "text": [
      "W0528 10:12:53.999240 10104 deprecation.py:323] From E:\\soft\\anaconda\\lib\\site-packages\\tensorflow_core\\python\\training\\input.py:277: input_producer (from tensorflow.python.training.input) is deprecated and will be removed in a future version.\n",
      "Instructions for updating:\n",
      "Queue-based input pipelines have been replaced by `tf.data`. Use `tf.data.Dataset.from_tensor_slices(input_tensor).shuffle(tf.shape(input_tensor, out_type=tf.int64)[0]).repeat(num_epochs)`. If `shuffle=False`, omit the `.shuffle(...)`.\n"
     ]
    },
    {
     "name": "stdout",
     "output_type": "stream",
     "text": [
      "WARNING:tensorflow:From E:\\soft\\anaconda\\lib\\site-packages\\tensorflow_core\\python\\training\\input.py:189: limit_epochs (from tensorflow.python.training.input) is deprecated and will be removed in a future version.\n",
      "Instructions for updating:\n",
      "Queue-based input pipelines have been replaced by `tf.data`. Use `tf.data.Dataset.from_tensors(tensor).repeat(num_epochs)`.\n"
     ]
    },
    {
     "name": "stderr",
     "output_type": "stream",
     "text": [
      "W0528 10:12:54.003236 10104 deprecation.py:323] From E:\\soft\\anaconda\\lib\\site-packages\\tensorflow_core\\python\\training\\input.py:189: limit_epochs (from tensorflow.python.training.input) is deprecated and will be removed in a future version.\n",
      "Instructions for updating:\n",
      "Queue-based input pipelines have been replaced by `tf.data`. Use `tf.data.Dataset.from_tensors(tensor).repeat(num_epochs)`.\n"
     ]
    },
    {
     "name": "stdout",
     "output_type": "stream",
     "text": [
      "WARNING:tensorflow:From E:\\soft\\anaconda\\lib\\site-packages\\tensorflow_core\\python\\training\\input.py:198: QueueRunner.__init__ (from tensorflow.python.training.queue_runner_impl) is deprecated and will be removed in a future version.\n",
      "Instructions for updating:\n",
      "To construct input pipelines, use the `tf.data` module.\n"
     ]
    },
    {
     "name": "stderr",
     "output_type": "stream",
     "text": [
      "W0528 10:12:54.009234 10104 deprecation.py:323] From E:\\soft\\anaconda\\lib\\site-packages\\tensorflow_core\\python\\training\\input.py:198: QueueRunner.__init__ (from tensorflow.python.training.queue_runner_impl) is deprecated and will be removed in a future version.\n",
      "Instructions for updating:\n",
      "To construct input pipelines, use the `tf.data` module.\n"
     ]
    },
    {
     "name": "stdout",
     "output_type": "stream",
     "text": [
      "WARNING:tensorflow:From E:\\soft\\anaconda\\lib\\site-packages\\tensorflow_core\\python\\training\\input.py:198: add_queue_runner (from tensorflow.python.training.queue_runner_impl) is deprecated and will be removed in a future version.\n",
      "Instructions for updating:\n",
      "To construct input pipelines, use the `tf.data` module.\n"
     ]
    },
    {
     "name": "stderr",
     "output_type": "stream",
     "text": [
      "W0528 10:12:54.018229 10104 deprecation.py:323] From E:\\soft\\anaconda\\lib\\site-packages\\tensorflow_core\\python\\training\\input.py:198: add_queue_runner (from tensorflow.python.training.queue_runner_impl) is deprecated and will be removed in a future version.\n",
      "Instructions for updating:\n",
      "To construct input pipelines, use the `tf.data` module.\n"
     ]
    },
    {
     "name": "stdout",
     "output_type": "stream",
     "text": [
      "WARNING:tensorflow:From F:\\中科院计算所\\code\\cifar10-CNN-master\\cifar10_input.py:40: FixedLengthRecordReader.__init__ (from tensorflow.python.ops.io_ops) is deprecated and will be removed in a future version.\n",
      "Instructions for updating:\n",
      "Queue-based input pipelines have been replaced by `tf.data`. Use `tf.data.FixedLengthRecordDataset`.\n"
     ]
    },
    {
     "name": "stderr",
     "output_type": "stream",
     "text": [
      "W0528 10:12:54.029220 10104 deprecation.py:323] From F:\\中科院计算所\\code\\cifar10-CNN-master\\cifar10_input.py:40: FixedLengthRecordReader.__init__ (from tensorflow.python.ops.io_ops) is deprecated and will be removed in a future version.\n",
      "Instructions for updating:\n",
      "Queue-based input pipelines have been replaced by `tf.data`. Use `tf.data.FixedLengthRecordDataset`.\n"
     ]
    },
    {
     "name": "stdout",
     "output_type": "stream",
     "text": [
      "WARNING:tensorflow:From F:\\中科院计算所\\code\\cifar10-CNN-master\\cifar10_input.py:78: The name tf.random_crop is deprecated. Please use tf.image.random_crop instead.\n",
      "\n"
     ]
    },
    {
     "name": "stderr",
     "output_type": "stream",
     "text": [
      "W0528 10:12:54.061200 10104 module_wrapper.py:139] From F:\\中科院计算所\\code\\cifar10-CNN-master\\cifar10_input.py:78: The name tf.random_crop is deprecated. Please use tf.image.random_crop instead.\n",
      "\n"
     ]
    },
    {
     "name": "stdout",
     "output_type": "stream",
     "text": [
      "WARNING:tensorflow:From E:\\soft\\anaconda\\lib\\site-packages\\tensorflow_core\\python\\ops\\image_ops_impl.py:1518: div (from tensorflow.python.ops.math_ops) is deprecated and will be removed in a future version.\n",
      "Instructions for updating:\n",
      "Deprecated in favor of operator or tf.math.divide.\n"
     ]
    },
    {
     "name": "stderr",
     "output_type": "stream",
     "text": [
      "W0528 10:12:54.153144 10104 deprecation.py:323] From E:\\soft\\anaconda\\lib\\site-packages\\tensorflow_core\\python\\ops\\image_ops_impl.py:1518: div (from tensorflow.python.ops.math_ops) is deprecated and will be removed in a future version.\n",
      "Instructions for updating:\n",
      "Deprecated in favor of operator or tf.math.divide.\n"
     ]
    },
    {
     "name": "stdout",
     "output_type": "stream",
     "text": [
      "WARNING:tensorflow:From F:\\中科院计算所\\code\\cifar10-CNN-master\\cifar10_input.py:95: shuffle_batch (from tensorflow.python.training.input) is deprecated and will be removed in a future version.\n",
      "Instructions for updating:\n",
      "Queue-based input pipelines have been replaced by `tf.data`. Use `tf.data.Dataset.shuffle(min_after_dequeue).batch(batch_size)`.\n"
     ]
    },
    {
     "name": "stderr",
     "output_type": "stream",
     "text": [
      "W0528 10:12:54.160143 10104 deprecation.py:323] From F:\\中科院计算所\\code\\cifar10-CNN-master\\cifar10_input.py:95: shuffle_batch (from tensorflow.python.training.input) is deprecated and will be removed in a future version.\n",
      "Instructions for updating:\n",
      "Queue-based input pipelines have been replaced by `tf.data`. Use `tf.data.Dataset.shuffle(min_after_dequeue).batch(batch_size)`.\n"
     ]
    },
    {
     "name": "stdout",
     "output_type": "stream",
     "text": [
      "WARNING:tensorflow:From F:\\中科院计算所\\code\\cifar10-CNN-master\\cifar10_input.py:96: The name tf.summary.image is deprecated. Please use tf.compat.v1.summary.image instead.\n",
      "\n"
     ]
    },
    {
     "name": "stderr",
     "output_type": "stream",
     "text": [
      "W0528 10:12:54.180129 10104 module_wrapper.py:139] From F:\\中科院计算所\\code\\cifar10-CNN-master\\cifar10_input.py:96: The name tf.summary.image is deprecated. Please use tf.compat.v1.summary.image instead.\n",
      "\n"
     ]
    },
    {
     "name": "stdout",
     "output_type": "stream",
     "text": [
      "WARNING:tensorflow:From F:\\中科院计算所\\code\\cifar10-CNN-master\\cifar10_model.py:31: The name tf.truncated_normal is deprecated. Please use tf.random.truncated_normal instead.\n",
      "\n"
     ]
    },
    {
     "name": "stderr",
     "output_type": "stream",
     "text": [
      "W0528 10:12:54.188123 10104 module_wrapper.py:139] From F:\\中科院计算所\\code\\cifar10-CNN-master\\cifar10_model.py:31: The name tf.truncated_normal is deprecated. Please use tf.random.truncated_normal instead.\n",
      "\n"
     ]
    },
    {
     "name": "stdout",
     "output_type": "stream",
     "text": [
      "WARNING:tensorflow:From F:\\中科院计算所\\code\\cifar10-CNN-master\\cifar10_model.py:34: The name tf.summary.histogram is deprecated. Please use tf.compat.v1.summary.histogram instead.\n",
      "\n"
     ]
    },
    {
     "name": "stderr",
     "output_type": "stream",
     "text": [
      "W0528 10:12:54.247085 10104 module_wrapper.py:139] From F:\\中科院计算所\\code\\cifar10-CNN-master\\cifar10_model.py:34: The name tf.summary.histogram is deprecated. Please use tf.compat.v1.summary.histogram instead.\n",
      "\n"
     ]
    },
    {
     "name": "stdout",
     "output_type": "stream",
     "text": [
      "WARNING:tensorflow:From F:\\中科院计算所\\code\\cifar10-CNN-master\\cifar10_model.py:38: The name tf.nn.max_pool is deprecated. Please use tf.nn.max_pool2d instead.\n",
      "\n"
     ]
    },
    {
     "name": "stderr",
     "output_type": "stream",
     "text": [
      "W0528 10:12:54.258080 10104 module_wrapper.py:139] From F:\\中科院计算所\\code\\cifar10-CNN-master\\cifar10_model.py:38: The name tf.nn.max_pool is deprecated. Please use tf.nn.max_pool2d instead.\n",
      "\n"
     ]
    },
    {
     "name": "stdout",
     "output_type": "stream",
     "text": [
      "WARNING:tensorflow:From F:\\中科院计算所\\code\\cifar10-CNN-master\\cifar10_model.py:113: The name tf.train.exponential_decay is deprecated. Please use tf.compat.v1.train.exponential_decay instead.\n",
      "\n"
     ]
    },
    {
     "name": "stderr",
     "output_type": "stream",
     "text": [
      "W0528 10:12:54.352020 10104 module_wrapper.py:139] From F:\\中科院计算所\\code\\cifar10-CNN-master\\cifar10_model.py:113: The name tf.train.exponential_decay is deprecated. Please use tf.compat.v1.train.exponential_decay instead.\n",
      "\n"
     ]
    },
    {
     "name": "stdout",
     "output_type": "stream",
     "text": [
      "WARNING:tensorflow:From F:\\中科院计算所\\code\\cifar10-CNN-master\\cifar10_model.py:117: The name tf.train.GradientDescentOptimizer is deprecated. Please use tf.compat.v1.train.GradientDescentOptimizer instead.\n",
      "\n"
     ]
    },
    {
     "name": "stderr",
     "output_type": "stream",
     "text": [
      "W0528 10:12:54.364014 10104 module_wrapper.py:139] From F:\\中科院计算所\\code\\cifar10-CNN-master\\cifar10_model.py:117: The name tf.train.GradientDescentOptimizer is deprecated. Please use tf.compat.v1.train.GradientDescentOptimizer instead.\n",
      "\n"
     ]
    },
    {
     "name": "stdout",
     "output_type": "stream",
     "text": [
      "WARNING:tensorflow:From <ipython-input-1-dc2c5eb4293f>:44: start_queue_runners (from tensorflow.python.training.queue_runner_impl) is deprecated and will be removed in a future version.\n",
      "Instructions for updating:\n",
      "To construct input pipelines, use the `tf.data` module.\n"
     ]
    },
    {
     "name": "stderr",
     "output_type": "stream",
     "text": [
      "W0528 10:12:55.228702 10104 deprecation.py:323] From <ipython-input-1-dc2c5eb4293f>:44: start_queue_runners (from tensorflow.python.training.queue_runner_impl) is deprecated and will be removed in a future version.\n",
      "Instructions for updating:\n",
      "To construct input pipelines, use the `tf.data` module.\n"
     ]
    },
    {
     "name": "stdout",
     "output_type": "stream",
     "text": [
      "index: 0  loss_value: 2.30445  accuracy_value: 0.09375\n"
     ]
    }
   ],
   "source": [
    "# coding:utf-8\n",
    "import tensorflow as tf\n",
    "import numpy as np\n",
    "import cifar10_input\n",
    "import cifar10_model\n",
    "import matplotlib.pyplot as plt\n",
    "import os\n",
    "from datetime import datetime\n",
    "\n",
    "\n",
    "# 使用GPU 0\n",
    "os.environ[\"CUDA_VISIBLE_DEVICES\"] = \"0\"\n",
    "\n",
    "EPOCHES = 1001\n",
    "DATA_DIR = cifar10_model.DATA_DIR\n",
    "BATCH_SIZE = cifar10_model.BATCH_SIZE\n",
    "\n",
    "\n",
    "# 训练\n",
    "def train():\n",
    "    # 读取图片并带入网络计算\n",
    "    images, labels = cifar10_input.distorted_inputs(DATA_DIR, BATCH_SIZE)\n",
    "    t_logits = cifar10_model.inference(images)\n",
    "    # 损失值\n",
    "    t_loss = cifar10_model.loss(t_logits, labels)\n",
    "    tf.summary.scalar('loss_value', t_loss)\n",
    "    # 优化器\n",
    "    global_step = tf.Variable(0, trainable=False)\n",
    "    t_optimizer = cifar10_model.train_step(t_loss, global_step)\n",
    "    # 准确值\n",
    "    t_accuracy = cifar10_model.accuracy(t_logits, labels) # 训练集正确率计算\n",
    "    tf.summary.scalar('accuracy_value', t_accuracy)\n",
    "\n",
    "    merged = tf.summary.merge_all()\n",
    "    saver = tf.train.Saver()\n",
    "    Accuracy_value = []\n",
    "    Loss_value = []\n",
    "    # 设定定量的GPU显存使用量\n",
    "    config = tf.ConfigProto()\n",
    "    config.gpu_options.per_process_gpu_memory_fraction = 0.5\n",
    "    with tf.Session(config=config) as session:\n",
    "        session.run(tf.global_variables_initializer())\n",
    "        coord = tf.train.Coordinator()\n",
    "        threads = tf.train.start_queue_runners(sess=session, coord=coord)\n",
    "        train_writer = tf.summary.FileWriter('signal_GPU/logs', session.graph)\n",
    "        for index in range(EPOCHES):\n",
    "            _, loss_value, accuracy_value, summary = session.run([t_optimizer, t_loss, t_accuracy, merged])\n",
    "            Accuracy_value.append(accuracy_value)\n",
    "            Loss_value.append(loss_value)\n",
    "            if index % 1000 == 0:\n",
    "                print('index:', index, ' loss_value:', loss_value, ' accuracy_value:', accuracy_value)\n",
    "            train_writer.add_summary(summary, index)\n",
    "        saver.save(session, os.path.join('signal_GPU/saver', 'model.ckpt'))\n",
    "        # accuracy value\n",
    "        plt.figure(figsize=(20, 10))\n",
    "        plt.plot(range(EPOCHES), Accuracy_value)\n",
    "        plt.xlabel('training step')\n",
    "        plt.ylabel('accuracy value')\n",
    "        plt.title('the accuracy value of training data')\n",
    "        plt.savefig('signal_GPU/results/accuracy.png')\n",
    "        # loss value\n",
    "        plt.figure()\n",
    "        plt.plot(range(EPOCHES), Loss_value)\n",
    "        plt.xlabel('training value')\n",
    "        plt.ylabel('loss value')\n",
    "        plt.title('the value of the loss function of the training data')\n",
    "        plt.savefig('signal_GPU/results/loss.png')\n",
    "        #\n",
    "        train_writer.close()\n",
    "        coord.request_stop()\n",
    "        coord.join(threads)\n",
    "\n",
    "\n",
    "# 验证\n",
    "def evaluation():\n",
    "    with tf.Graph().as_default():\n",
    "        n_test = cifar10_input.NUM_EXAMPLES_PER_EPOCH_FOR_EVAL\n",
    "        eval_images, eval_lables = cifar10_input.inputs(DATA_DIR, BATCH_SIZE)\n",
    "        eval_logits = cifar10_model.inference(eval_images)\n",
    "        # tf.nn.in_top_k(predictions, targets, k, name=None)\n",
    "        # 每个样本的预测结果的前k个最大的数里面是否包括包含targets预测中的标签，一般取1，\n",
    "        # 即取预测最大概率的索引与标签的对比\n",
    "        top_k_op = tf.nn.in_top_k(eval_logits, eval_lables, 1)\n",
    "        saver = tf.train.Saver()\n",
    "        with tf.Session() as session:\n",
    "            ckpt = tf.train.get_checkpoint_state('signal_GPU/saver')\n",
    "            if ckpt and ckpt.model_checkpoint_path:\n",
    "                saver.restore(session, ckpt.model_checkpoint_path)\n",
    "            coord = tf.train.Coordinator()\n",
    "            threads = tf.train.start_queue_runners(sess=session, coord=coord)\n",
    "            num_iter = int(n_test / BATCH_SIZE)\n",
    "            true_count = 0\n",
    "            for step in range(num_iter):\n",
    "                predictions = session.run(top_k_op)\n",
    "                true_count = true_count + np.sum(predictions)\n",
    "            precision = true_count / (num_iter * BATCH_SIZE)\n",
    "            print('precision=', precision)\n",
    "            coord.request_stop()\n",
    "            coord.join(threads)\n",
    "\n",
    "\n",
    "def main(argv=None):\n",
    "    start = datetime.now()\n",
    "    train()\n",
    "    end = datetime.now()\n",
    "    latency = (end - start).total_seconds()\n",
    "    print(\"The latency is   \"+str(latency)+\"秒\")\n",
    "    evaluation()\n",
    "\n",
    "\n",
    "if __name__ == '__main__':\n",
    "    tf.app.run()\n"
   ]
  },
  {
   "cell_type": "code",
   "execution_count": null,
   "metadata": {},
   "outputs": [],
   "source": []
  }
 ],
 "metadata": {
  "kernelspec": {
   "display_name": "Python 3",
   "language": "python",
   "name": "python3"
  },
  "language_info": {
   "codemirror_mode": {
    "name": "ipython",
    "version": 3
   },
   "file_extension": ".py",
   "mimetype": "text/x-python",
   "name": "python",
   "nbconvert_exporter": "python",
   "pygments_lexer": "ipython3",
   "version": "3.7.3"
  }
 },
 "nbformat": 4,
 "nbformat_minor": 2
}
