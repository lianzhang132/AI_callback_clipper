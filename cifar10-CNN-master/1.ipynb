{
 "cells": [
  {
   "cell_type": "code",
   "execution_count": 1,
   "metadata": {},
   "outputs": [
    {
     "name": "stdout",
     "output_type": "stream",
     "text": [
      "[[0.8 0.4 0.5 0.6]\n",
      " [0.1 0.9 0.2 0.4]\n",
      " [0.1 0.9 0.4 0.2]]\n",
      "[1 1 2]\n",
      "[False  True  True]\n"
     ]
    },
    {
     "data": {
      "text/plain": [
       "'\\n    解释：\\n    k取1的时候：\\n         因为A中第一个元素的最大值为0.8,索引（序号）是0,而B是1,不包含B,所以返回False.\\n             A中第二个元素的最大值为0.9,索引（序号）是1,而B是1,包含B,所以返回True.\\n             A中第三个元素的最大值为0.9,索引（序号）是1,而B是2,不包含B,所以返回False.\\n    k取2的时候：\\n         因为A中前两个元素的最大值为0.8,0.6,索引（序号）是0,3,而B是1,不包含B，所以返回False.\\n             A中前两个元素的最大值为0.9,0.4,索引（序号）是1,3,而B是1,包含B,所以返回True.\\n             A中前两个元素的最大值为0.9,0.4,索引（序号）是1,2,而B是2,包含B,所以返回True.\\n'"
      ]
     },
     "execution_count": 1,
     "metadata": {},
     "output_type": "execute_result"
    }
   ],
   "source": [
    "'''\n",
    "    tf.nn.in_top_k(predictions, targets, k, name=None)\n",
    "    predictions: 你的预测结果（一般也就是你的网络输出值）大小是预测样本的数量乘以输出的维度\n",
    "    target:      实际样本类别的标签，大小是样本数量的个数\n",
    "    k:           每个样本中前K个最大的数里面（序号）是否包含对应target中的值\n",
    "    \n",
    "'''\n",
    "import tensorflow as tf\n",
    "A = tf.Variable([[0.8, 0.4, 0.5, 0.6],[0.1, 0.9, 0.2, 0.4],[0.1, 0.9, 0.4, 0.2]])\n",
    "B = tf.Variable([1, 1, 2])\n",
    "result = tf.nn.in_top_k(A, B, 2)\n",
    "with tf.Session() as sess:\n",
    "    sess.run(tf.global_variables_initializer())\n",
    "    print(sess.run(A))\n",
    "    print(sess.run(B))\n",
    "    print(sess.run(result))\n",
    "#   k=1 [False True False]#   k=2 [False True True]\n",
    "'''\n",
    "    解释：\n",
    "    k取1的时候：\n",
    "         因为A中第一个元素的最大值为0.8,索引（序号）是0,而B是1,不包含B,所以返回False.\n",
    "             A中第二个元素的最大值为0.9,索引（序号）是1,而B是1,包含B,所以返回True.\n",
    "             A中第三个元素的最大值为0.9,索引（序号）是1,而B是2,不包含B,所以返回False.\n",
    "    k取2的时候：\n",
    "         因为A中前两个元素的最大值为0.8,0.6,索引（序号）是0,3,而B是1,不包含B，所以返回False.\n",
    "             A中前两个元素的最大值为0.9,0.4,索引（序号）是1,3,而B是1,包含B,所以返回True.\n",
    "             A中前两个元素的最大值为0.9,0.4,索引（序号）是1,2,而B是2,包含B,所以返回True.\n",
    "'''"
   ]
  },
  {
   "cell_type": "code",
   "execution_count": null,
   "metadata": {},
   "outputs": [],
   "source": []
  }
 ],
 "metadata": {
  "kernelspec": {
   "display_name": "Python 3",
   "language": "python",
   "name": "python3"
  },
  "language_info": {
   "codemirror_mode": {
    "name": "ipython",
    "version": 3
   },
   "file_extension": ".py",
   "mimetype": "text/x-python",
   "name": "python",
   "nbconvert_exporter": "python",
   "pygments_lexer": "ipython3",
   "version": "3.7.3"
  }
 },
 "nbformat": 4,
 "nbformat_minor": 2
}
