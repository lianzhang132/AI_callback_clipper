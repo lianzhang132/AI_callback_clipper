{
 "cells": [
  {
   "cell_type": "code",
   "execution_count": null,
   "metadata": {},
   "outputs": [],
   "source": [
    "# 导入当前目录的cifar10_input，这个模块负责读入cifar10数据\n",
    "import cifar10_input\n",
    "# 导入TensorFlow和其他一些可能用到的模块。\n",
    "import tensorflow as tf\n",
    "import os\n",
    "import scipy.misc\n",
    " \n",
    " \n",
    "def inputs_origin():\n",
    "  # filenames一共5个，从data_batch_1.bin到data_batch_5.bin\n",
    "  # 读入的都是训练图像\n",
    "  # 改为自己数据集文件的地址\n",
    "  filenames = [r'E:\\Program\\Python\\Deep-Learning-21-Examples-master\\chapter_2\\cifar10_data\\cifar-10-batches-bin\\data_batch_%d.bin'\n",
    "               % i for i in range(1, 6)]\n",
    "  # 判断文件是否存在\n",
    "  for f in filenames:\n",
    "    if not tf.gfile.Exists(f):\n",
    "      raise ValueError('Failed to find file: ' + f)\n",
    "  # 将文件名的list包装成TensorFlow中queue的形式\n",
    "  filename_queue = tf.train.string_input_producer(filenames)\n",
    "  # cifar10_input.read_cifar10是事先写好的从queue中读取文件的函数\n",
    "  # 返回的结果read_input的属性uint8image就是图像的Tensor\n",
    "  read_input = cifar10_input.read_cifar10(filename_queue)\n",
    "  # 将图片转换为实数形式\n",
    "  reshaped_image = tf.cast(read_input.uint8image, tf.float32)\n",
    "  # 返回的reshaped_image是一张图片的tensor\n",
    "  # 我们应当这样理解reshaped_image：每次使用sess.run(reshaped_image)，就会取出一张图片\n",
    "  return reshaped_image\n",
    " \n",
    " \n",
    "if __name__ == '__main__':\n",
    "  # 创建一个会话sess\n",
    "  with tf.Session() as sess:\n",
    "    # 调用inputs_origin。cifar10_data/cifar-10-batches-bin是我们下载的数据的文件夹位置\n",
    "    reshaped_image = inputs_origin()\n",
    "    # 这一步start_queue_runner很重要。\n",
    "    # 我们之前有filename_queue = tf.train.string_input_producer(filenames)\n",
    "    # 这个queue必须通过start_queue_runners才能启动\n",
    "    # 缺少start_queue_runners程序将不能执行\n",
    "    threads = tf.train.start_queue_runners(sess=sess)\n",
    "    # 变量初始化\n",
    "    sess.run(tf.global_variables_initializer())\n",
    "    # 创建文件夹cifar10_data/raw/\n",
    "    if not os.path.exists('cifar10_data/raw/'):\n",
    "      os.makedirs('cifar10_data/raw/')\n",
    "    # 保存30张图片\n",
    "    for i in range(30):\n",
    "      # 每次sess.run(reshaped_image)，都会取出一张图片\n",
    "      image_array = sess.run(reshaped_image)\n",
    "      # 将图片保存\n",
    "      scipy.misc.toimage(image_array).save('cifar10_data/raw/%d.jpg' % i)\n"
   ]
  }
 ],
 "metadata": {
  "kernelspec": {
   "display_name": "Python 3",
   "language": "python",
   "name": "python3"
  },
  "language_info": {
   "codemirror_mode": {
    "name": "ipython",
    "version": 3
   },
   "file_extension": ".py",
   "mimetype": "text/x-python",
   "name": "python",
   "nbconvert_exporter": "python",
   "pygments_lexer": "ipython3",
   "version": "3.6.1"
  }
 },
 "nbformat": 4,
 "nbformat_minor": 4
}
