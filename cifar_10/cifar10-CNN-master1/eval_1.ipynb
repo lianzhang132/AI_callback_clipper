{
 "cells": [
  {
   "cell_type": "code",
   "execution_count": null,
   "metadata": {
    "scrolled": false
   },
   "outputs": [
    {
     "name": "stderr",
     "output_type": "stream",
     "text": [
      "/usr/local/lib/python3.6/site-packages/pandas/compat/__init__.py:117: UserWarning: Could not import the lzma module. Your installed Python is incomplete. Attempting to use lzma compression will result in a RuntimeError.\n",
      "  warnings.warn(msg)\n"
     ]
    },
    {
     "name": "stdout",
     "output_type": "stream",
     "text": [
      "WARNING:tensorflow:From /root/code/cifar_10/cifar10-CNN-master/input.py:95: string_input_producer (from tensorflow.python.training.input) is deprecated and will be removed in a future version.\n",
      "Instructions for updating:\n",
      "Queue-based input pipelines have been replaced by `tf.data`. Use `tf.data.Dataset.from_tensor_slices(string_tensor).shuffle(tf.shape(input_tensor, out_type=tf.int64)[0]).repeat(num_epochs)`. If `shuffle=False`, omit the `.shuffle(...)`.\n"
     ]
    },
    {
     "name": "stderr",
     "output_type": "stream",
     "text": [
      "W0526 05:34:09.147472 140197823768384 deprecation.py:323] From /root/code/cifar_10/cifar10-CNN-master/input.py:95: string_input_producer (from tensorflow.python.training.input) is deprecated and will be removed in a future version.\n",
      "Instructions for updating:\n",
      "Queue-based input pipelines have been replaced by `tf.data`. Use `tf.data.Dataset.from_tensor_slices(string_tensor).shuffle(tf.shape(input_tensor, out_type=tf.int64)[0]).repeat(num_epochs)`. If `shuffle=False`, omit the `.shuffle(...)`.\n"
     ]
    },
    {
     "name": "stdout",
     "output_type": "stream",
     "text": [
      "WARNING:tensorflow:From /usr/local/lib/python3.6/site-packages/tensorflow_core/python/training/input.py:277: input_producer (from tensorflow.python.training.input) is deprecated and will be removed in a future version.\n",
      "Instructions for updating:\n",
      "Queue-based input pipelines have been replaced by `tf.data`. Use `tf.data.Dataset.from_tensor_slices(input_tensor).shuffle(tf.shape(input_tensor, out_type=tf.int64)[0]).repeat(num_epochs)`. If `shuffle=False`, omit the `.shuffle(...)`.\n"
     ]
    },
    {
     "name": "stderr",
     "output_type": "stream",
     "text": [
      "W0526 05:34:09.167038 140197823768384 deprecation.py:323] From /usr/local/lib/python3.6/site-packages/tensorflow_core/python/training/input.py:277: input_producer (from tensorflow.python.training.input) is deprecated and will be removed in a future version.\n",
      "Instructions for updating:\n",
      "Queue-based input pipelines have been replaced by `tf.data`. Use `tf.data.Dataset.from_tensor_slices(input_tensor).shuffle(tf.shape(input_tensor, out_type=tf.int64)[0]).repeat(num_epochs)`. If `shuffle=False`, omit the `.shuffle(...)`.\n"
     ]
    },
    {
     "name": "stdout",
     "output_type": "stream",
     "text": [
      "WARNING:tensorflow:From /usr/local/lib/python3.6/site-packages/tensorflow_core/python/training/input.py:189: limit_epochs (from tensorflow.python.training.input) is deprecated and will be removed in a future version.\n",
      "Instructions for updating:\n",
      "Queue-based input pipelines have been replaced by `tf.data`. Use `tf.data.Dataset.from_tensors(tensor).repeat(num_epochs)`.\n"
     ]
    },
    {
     "name": "stderr",
     "output_type": "stream",
     "text": [
      "W0526 05:34:09.172162 140197823768384 deprecation.py:323] From /usr/local/lib/python3.6/site-packages/tensorflow_core/python/training/input.py:189: limit_epochs (from tensorflow.python.training.input) is deprecated and will be removed in a future version.\n",
      "Instructions for updating:\n",
      "Queue-based input pipelines have been replaced by `tf.data`. Use `tf.data.Dataset.from_tensors(tensor).repeat(num_epochs)`.\n"
     ]
    },
    {
     "name": "stdout",
     "output_type": "stream",
     "text": [
      "WARNING:tensorflow:From /usr/local/lib/python3.6/site-packages/tensorflow_core/python/training/input.py:198: QueueRunner.__init__ (from tensorflow.python.training.queue_runner_impl) is deprecated and will be removed in a future version.\n",
      "Instructions for updating:\n",
      "To construct input pipelines, use the `tf.data` module.\n"
     ]
    },
    {
     "name": "stderr",
     "output_type": "stream",
     "text": [
      "W0526 05:34:09.178889 140197823768384 deprecation.py:323] From /usr/local/lib/python3.6/site-packages/tensorflow_core/python/training/input.py:198: QueueRunner.__init__ (from tensorflow.python.training.queue_runner_impl) is deprecated and will be removed in a future version.\n",
      "Instructions for updating:\n",
      "To construct input pipelines, use the `tf.data` module.\n"
     ]
    },
    {
     "name": "stdout",
     "output_type": "stream",
     "text": [
      "WARNING:tensorflow:From /usr/local/lib/python3.6/site-packages/tensorflow_core/python/training/input.py:198: add_queue_runner (from tensorflow.python.training.queue_runner_impl) is deprecated and will be removed in a future version.\n",
      "Instructions for updating:\n",
      "To construct input pipelines, use the `tf.data` module.\n"
     ]
    },
    {
     "name": "stderr",
     "output_type": "stream",
     "text": [
      "W0526 05:34:09.184175 140197823768384 deprecation.py:323] From /usr/local/lib/python3.6/site-packages/tensorflow_core/python/training/input.py:198: add_queue_runner (from tensorflow.python.training.queue_runner_impl) is deprecated and will be removed in a future version.\n",
      "Instructions for updating:\n",
      "To construct input pipelines, use the `tf.data` module.\n"
     ]
    },
    {
     "name": "stdout",
     "output_type": "stream",
     "text": [
      "WARNING:tensorflow:From /root/code/cifar_10/cifar10-CNN-master/input.py:22: FixedLengthRecordReader.__init__ (from tensorflow.python.ops.io_ops) is deprecated and will be removed in a future version.\n",
      "Instructions for updating:\n",
      "Queue-based input pipelines have been replaced by `tf.data`. Use `tf.data.FixedLengthRecordDataset`.\n"
     ]
    },
    {
     "name": "stderr",
     "output_type": "stream",
     "text": [
      "W0526 05:34:09.196737 140197823768384 deprecation.py:323] From /root/code/cifar_10/cifar10-CNN-master/input.py:22: FixedLengthRecordReader.__init__ (from tensorflow.python.ops.io_ops) is deprecated and will be removed in a future version.\n",
      "Instructions for updating:\n",
      "Queue-based input pipelines have been replaced by `tf.data`. Use `tf.data.FixedLengthRecordDataset`.\n"
     ]
    },
    {
     "name": "stdout",
     "output_type": "stream",
     "text": [
      "WARNING:tensorflow:From /root/code/cifar_10/cifar10-CNN-master/input.py:103: The name tf.image.resize_image_with_crop_or_pad is deprecated. Please use tf.image.resize_with_crop_or_pad instead.\n",
      "\n"
     ]
    },
    {
     "name": "stderr",
     "output_type": "stream",
     "text": [
      "W0526 05:34:09.228703 140197823768384 module_wrapper.py:139] From /root/code/cifar_10/cifar10-CNN-master/input.py:103: The name tf.image.resize_image_with_crop_or_pad is deprecated. Please use tf.image.resize_with_crop_or_pad instead.\n",
      "\n"
     ]
    },
    {
     "name": "stdout",
     "output_type": "stream",
     "text": [
      "WARNING:tensorflow:From /usr/local/lib/python3.6/site-packages/tensorflow_core/python/ops/image_ops_impl.py:1518: div (from tensorflow.python.ops.math_ops) is deprecated and will be removed in a future version.\n",
      "Instructions for updating:\n",
      "Deprecated in favor of operator or tf.math.divide.\n"
     ]
    },
    {
     "name": "stderr",
     "output_type": "stream",
     "text": [
      "W0526 05:34:09.262964 140197823768384 deprecation.py:323] From /usr/local/lib/python3.6/site-packages/tensorflow_core/python/ops/image_ops_impl.py:1518: div (from tensorflow.python.ops.math_ops) is deprecated and will be removed in a future version.\n",
      "Instructions for updating:\n",
      "Deprecated in favor of operator or tf.math.divide.\n"
     ]
    },
    {
     "name": "stdout",
     "output_type": "stream",
     "text": [
      "WARNING:tensorflow:From /root/code/cifar_10/cifar10-CNN-master/input.py:46: batch (from tensorflow.python.training.input) is deprecated and will be removed in a future version.\n",
      "Instructions for updating:\n",
      "Queue-based input pipelines have been replaced by `tf.data`. Use `tf.data.Dataset.batch(batch_size)` (or `padded_batch(...)` if `dynamic_pad=True`).\n"
     ]
    },
    {
     "name": "stderr",
     "output_type": "stream",
     "text": [
      "W0526 05:34:09.270564 140197823768384 deprecation.py:323] From /root/code/cifar_10/cifar10-CNN-master/input.py:46: batch (from tensorflow.python.training.input) is deprecated and will be removed in a future version.\n",
      "Instructions for updating:\n",
      "Queue-based input pipelines have been replaced by `tf.data`. Use `tf.data.Dataset.batch(batch_size)` (or `padded_batch(...)` if `dynamic_pad=True`).\n"
     ]
    },
    {
     "name": "stdout",
     "output_type": "stream",
     "text": [
      "WARNING:tensorflow:From /root/code/cifar_10/cifar10-CNN-master/input.py:47: The name tf.summary.image is deprecated. Please use tf.compat.v1.summary.image instead.\n",
      "\n"
     ]
    },
    {
     "name": "stderr",
     "output_type": "stream",
     "text": [
      "W0526 05:34:09.300533 140197823768384 module_wrapper.py:139] From /root/code/cifar_10/cifar10-CNN-master/input.py:47: The name tf.summary.image is deprecated. Please use tf.compat.v1.summary.image instead.\n",
      "\n"
     ]
    },
    {
     "name": "stdout",
     "output_type": "stream",
     "text": [
      "WARNING:tensorflow:From /root/code/cifar_10/cifar10-CNN-master/cifar10.py:98: The name tf.variable_scope is deprecated. Please use tf.compat.v1.variable_scope instead.\n",
      "\n"
     ]
    },
    {
     "name": "stderr",
     "output_type": "stream",
     "text": [
      "W0526 05:34:09.310437 140197823768384 module_wrapper.py:139] From /root/code/cifar_10/cifar10-CNN-master/cifar10.py:98: The name tf.variable_scope is deprecated. Please use tf.compat.v1.variable_scope instead.\n",
      "\n"
     ]
    },
    {
     "name": "stdout",
     "output_type": "stream",
     "text": [
      "WARNING:tensorflow:From /root/code/cifar_10/cifar10-CNN-master/cifar10.py:62: calling TruncatedNormal.__init__ (from tensorflow.python.ops.init_ops) with dtype is deprecated and will be removed in a future version.\n",
      "Instructions for updating:\n",
      "Call initializer instance with the dtype argument instead of passing it to the constructor\n"
     ]
    },
    {
     "name": "stderr",
     "output_type": "stream",
     "text": [
      "W0526 05:34:09.313786 140197823768384 deprecation.py:506] From /root/code/cifar_10/cifar10-CNN-master/cifar10.py:62: calling TruncatedNormal.__init__ (from tensorflow.python.ops.init_ops) with dtype is deprecated and will be removed in a future version.\n",
      "Instructions for updating:\n",
      "Call initializer instance with the dtype argument instead of passing it to the constructor\n"
     ]
    },
    {
     "name": "stdout",
     "output_type": "stream",
     "text": [
      "WARNING:tensorflow:From /root/code/cifar_10/cifar10-CNN-master/cifar10.py:46: The name tf.get_variable is deprecated. Please use tf.compat.v1.get_variable instead.\n",
      "\n"
     ]
    },
    {
     "name": "stderr",
     "output_type": "stream",
     "text": [
      "W0526 05:34:09.316943 140197823768384 module_wrapper.py:139] From /root/code/cifar_10/cifar10-CNN-master/cifar10.py:46: The name tf.get_variable is deprecated. Please use tf.compat.v1.get_variable instead.\n",
      "\n"
     ]
    },
    {
     "name": "stdout",
     "output_type": "stream",
     "text": [
      "WARNING:tensorflow:From /root/code/cifar_10/cifar10-CNN-master/cifar10.py:38: The name tf.summary.histogram is deprecated. Please use tf.compat.v1.summary.histogram instead.\n",
      "\n"
     ]
    },
    {
     "name": "stderr",
     "output_type": "stream",
     "text": [
      "W0526 05:34:09.355087 140197823768384 module_wrapper.py:139] From /root/code/cifar_10/cifar10-CNN-master/cifar10.py:38: The name tf.summary.histogram is deprecated. Please use tf.compat.v1.summary.histogram instead.\n",
      "\n"
     ]
    },
    {
     "name": "stdout",
     "output_type": "stream",
     "text": [
      "WARNING:tensorflow:From /root/code/cifar_10/cifar10-CNN-master/cifar10.py:39: The name tf.summary.scalar is deprecated. Please use tf.compat.v1.summary.scalar instead.\n",
      "\n"
     ]
    },
    {
     "name": "stderr",
     "output_type": "stream",
     "text": [
      "W0526 05:34:09.361779 140197823768384 module_wrapper.py:139] From /root/code/cifar_10/cifar10-CNN-master/cifar10.py:39: The name tf.summary.scalar is deprecated. Please use tf.compat.v1.summary.scalar instead.\n",
      "\n"
     ]
    },
    {
     "name": "stdout",
     "output_type": "stream",
     "text": [
      "WARNING:tensorflow:From /root/code/cifar_10/cifar10-CNN-master/cifar10.py:107: The name tf.nn.max_pool is deprecated. Please use tf.nn.max_pool2d instead.\n",
      "\n"
     ]
    },
    {
     "name": "stderr",
     "output_type": "stream",
     "text": [
      "W0526 05:34:09.416115 140197823768384 module_wrapper.py:139] From /root/code/cifar_10/cifar10-CNN-master/cifar10.py:107: The name tf.nn.max_pool is deprecated. Please use tf.nn.max_pool2d instead.\n",
      "\n"
     ]
    },
    {
     "name": "stdout",
     "output_type": "stream",
     "text": [
      "WARNING:tensorflow:From /root/code/cifar_10/cifar10-CNN-master/cifar10.py:66: The name tf.add_to_collection is deprecated. Please use tf.compat.v1.add_to_collection instead.\n",
      "\n"
     ]
    },
    {
     "name": "stderr",
     "output_type": "stream",
     "text": [
      "W0526 05:34:09.536557 140197823768384 module_wrapper.py:139] From /root/code/cifar_10/cifar10-CNN-master/cifar10.py:66: The name tf.add_to_collection is deprecated. Please use tf.compat.v1.add_to_collection instead.\n",
      "\n"
     ]
    },
    {
     "name": "stdout",
     "output_type": "stream",
     "text": [
      "INFO:tensorflow:Restoring parameters from cifar10_train/model.ckpt-100000\n"
     ]
    },
    {
     "name": "stderr",
     "output_type": "stream",
     "text": [
      "I0526 05:34:09.881962 140197823768384 saver.py:1284] Restoring parameters from cifar10_train/model.ckpt-100000\n"
     ]
    },
    {
     "name": "stdout",
     "output_type": "stream",
     "text": [
      "2020-05-26 05:34:13.334349: precision @ 1 = 0.861\n",
      "INFO:tensorflow:Restoring parameters from cifar10_train/model.ckpt-100000\n"
     ]
    },
    {
     "name": "stderr",
     "output_type": "stream",
     "text": [
      "I0526 05:39:13.846796 140197823768384 saver.py:1284] Restoring parameters from cifar10_train/model.ckpt-100000\n"
     ]
    },
    {
     "name": "stdout",
     "output_type": "stream",
     "text": [
      "2020-05-26 05:39:17.455965: precision @ 1 = 0.861\n",
      "INFO:tensorflow:Restoring parameters from cifar10_train/model.ckpt-100000\n"
     ]
    },
    {
     "name": "stderr",
     "output_type": "stream",
     "text": [
      "I0526 05:44:18.007845 140197823768384 saver.py:1284] Restoring parameters from cifar10_train/model.ckpt-100000\n"
     ]
    },
    {
     "name": "stdout",
     "output_type": "stream",
     "text": [
      "2020-05-26 05:44:21.579653: precision @ 1 = 0.861\n",
      "INFO:tensorflow:Restoring parameters from cifar10_train/model.ckpt-100000\n"
     ]
    },
    {
     "name": "stderr",
     "output_type": "stream",
     "text": [
      "I0526 05:49:22.159134 140197823768384 saver.py:1284] Restoring parameters from cifar10_train/model.ckpt-100000\n"
     ]
    },
    {
     "name": "stdout",
     "output_type": "stream",
     "text": [
      "2020-05-26 05:49:25.629125: precision @ 1 = 0.861\n",
      "INFO:tensorflow:Restoring parameters from cifar10_train/model.ckpt-100000\n"
     ]
    },
    {
     "name": "stderr",
     "output_type": "stream",
     "text": [
      "I0526 05:54:26.107129 140197823768384 saver.py:1284] Restoring parameters from cifar10_train/model.ckpt-100000\n"
     ]
    },
    {
     "name": "stdout",
     "output_type": "stream",
     "text": [
      "2020-05-26 05:54:29.542571: precision @ 1 = 0.861\n",
      "INFO:tensorflow:Restoring parameters from cifar10_train/model.ckpt-100000\n"
     ]
    },
    {
     "name": "stderr",
     "output_type": "stream",
     "text": [
      "I0526 05:59:30.061781 140197823768384 saver.py:1284] Restoring parameters from cifar10_train/model.ckpt-100000\n"
     ]
    },
    {
     "name": "stdout",
     "output_type": "stream",
     "text": [
      "2020-05-26 05:59:33.531416: precision @ 1 = 0.861\n",
      "INFO:tensorflow:Restoring parameters from cifar10_train/model.ckpt-100000\n"
     ]
    },
    {
     "name": "stderr",
     "output_type": "stream",
     "text": [
      "I0526 06:04:34.040983 140197823768384 saver.py:1284] Restoring parameters from cifar10_train/model.ckpt-100000\n"
     ]
    },
    {
     "name": "stdout",
     "output_type": "stream",
     "text": [
      "2020-05-26 06:04:37.461789: precision @ 1 = 0.861\n",
      "INFO:tensorflow:Restoring parameters from cifar10_train/model.ckpt-100000\n"
     ]
    },
    {
     "name": "stderr",
     "output_type": "stream",
     "text": [
      "I0526 06:09:38.035700 140197823768384 saver.py:1284] Restoring parameters from cifar10_train/model.ckpt-100000\n"
     ]
    },
    {
     "name": "stdout",
     "output_type": "stream",
     "text": [
      "2020-05-26 06:09:41.443978: precision @ 1 = 0.861\n",
      "INFO:tensorflow:Restoring parameters from cifar10_train/model.ckpt-100000\n"
     ]
    },
    {
     "name": "stderr",
     "output_type": "stream",
     "text": [
      "I0526 06:14:42.005974 140197823768384 saver.py:1284] Restoring parameters from cifar10_train/model.ckpt-100000\n"
     ]
    },
    {
     "name": "stdout",
     "output_type": "stream",
     "text": [
      "2020-05-26 06:14:45.364382: precision @ 1 = 0.861\n",
      "INFO:tensorflow:Restoring parameters from cifar10_train/model.ckpt-100000\n"
     ]
    },
    {
     "name": "stderr",
     "output_type": "stream",
     "text": [
      "I0526 06:19:45.811877 140197823768384 saver.py:1284] Restoring parameters from cifar10_train/model.ckpt-100000\n"
     ]
    },
    {
     "name": "stdout",
     "output_type": "stream",
     "text": [
      "2020-05-26 06:19:49.218911: precision @ 1 = 0.861\n",
      "INFO:tensorflow:Restoring parameters from cifar10_train/model.ckpt-100000\n"
     ]
    },
    {
     "name": "stderr",
     "output_type": "stream",
     "text": [
      "I0526 06:24:49.711279 140197823768384 saver.py:1284] Restoring parameters from cifar10_train/model.ckpt-100000\n"
     ]
    },
    {
     "name": "stdout",
     "output_type": "stream",
     "text": [
      "2020-05-26 06:24:53.038370: precision @ 1 = 0.861\n",
      "INFO:tensorflow:Restoring parameters from cifar10_train/model.ckpt-100000\n"
     ]
    },
    {
     "name": "stderr",
     "output_type": "stream",
     "text": [
      "I0526 06:29:53.548633 140197823768384 saver.py:1284] Restoring parameters from cifar10_train/model.ckpt-100000\n"
     ]
    },
    {
     "name": "stdout",
     "output_type": "stream",
     "text": [
      "2020-05-26 06:29:56.927986: precision @ 1 = 0.861\n",
      "INFO:tensorflow:Restoring parameters from cifar10_train/model.ckpt-100000\n"
     ]
    },
    {
     "name": "stderr",
     "output_type": "stream",
     "text": [
      "I0526 06:34:57.445891 140197823768384 saver.py:1284] Restoring parameters from cifar10_train/model.ckpt-100000\n"
     ]
    },
    {
     "name": "stdout",
     "output_type": "stream",
     "text": [
      "2020-05-26 06:35:00.666929: precision @ 1 = 0.861\n",
      "INFO:tensorflow:Restoring parameters from cifar10_train/model.ckpt-100000\n"
     ]
    },
    {
     "name": "stderr",
     "output_type": "stream",
     "text": [
      "I0526 06:40:01.142719 140197823768384 saver.py:1284] Restoring parameters from cifar10_train/model.ckpt-100000\n"
     ]
    },
    {
     "name": "stdout",
     "output_type": "stream",
     "text": [
      "2020-05-26 06:40:04.425068: precision @ 1 = 0.861\n"
     ]
    }
   ],
   "source": [
    "import tensorflow as tf\n",
    "from datetime import datetime\n",
    "import numpy as np\n",
    "import cifar10\n",
    "import time\n",
    "import math\n",
    "\n",
    "FLAGS = tf.app.flags.FLAGS\n",
    "tf.app.flags.DEFINE_string('eval_dir', 'cifar10_eval_logs',\n",
    "                           '''Directory where to write event logs''')\n",
    "tf.app.flags.DEFINE_string('eval_data', 'test',\n",
    "                           '''Either 'test' or 'train_eval'.''')\n",
    "\n",
    "tf.app.flags.DEFINE_string('checkpoint_dir', 'cifar10_train',\n",
    "                           '''Directory where to read model checkpoint''')\n",
    "\n",
    "tf.app.flags.DEFINE_integer('eval_interval_secs', 60 * 5,\n",
    "                            '''How often to run the eval.''')\n",
    "\n",
    "tf.app.flags.DEFINE_integer('num_examples', 10000, '''NUmber of examples to run''')\n",
    "tf.app.flags.DEFINE_boolean('run_once', False,\n",
    "                            '''Whether to run eval only once''')\n",
    "\n",
    "\n",
    "def eval_once(saver, summary_writer, top_k_op, summary_op):\n",
    "    with tf.Session() as sess:\n",
    "        ckpt = tf.train.get_checkpoint_state(FLAGS.checkpoint_dir)\n",
    "        if ckpt and ckpt.model_checkpoint_path:\n",
    "            saver.restore(sess, ckpt.model_checkpoint_path)\n",
    "            global_step = ckpt.model_checkpoint_path.split('/')[-1].split('-')[-1]\n",
    "        else:\n",
    "            print('No checkpoint file found')\n",
    "            return\n",
    "\n",
    "        coord = tf.train.Coordinator()\n",
    "        try:\n",
    "            threads = []\n",
    "            for qr in tf.get_collection(tf.GraphKeys.QUEUE_RUNNERS):\n",
    "                threads.extend(qr.create_threads(sess, coord=coord,\n",
    "                                                 daemon=True, start=True))\n",
    "\n",
    "            num_iter = int(math.ceil(FLAGS.num_examples / FLAGS.batch_size))\n",
    "            true_count = 0\n",
    "            total_sample_count = num_iter * FLAGS.batch_size\n",
    "            step = 0\n",
    "            while step < num_iter and not coord.should_stop():\n",
    "                predictions = sess.run([top_k_op])\n",
    "                true_count += np.sum(predictions)\n",
    "                step += 1\n",
    "\n",
    "            precision = true_count / total_sample_count\n",
    "            print('%s: precision @ 1 = %.3f' % (datetime.now(), precision))\n",
    "\n",
    "            summary = tf.Summary()\n",
    "            summary.ParseFromString(sess.run(summary_op))\n",
    "            summary.value.add(tag='Precision @ 1', simple_value=precision)\n",
    "            summary_writer.add_summary(summary, global_step)\n",
    "        except Exception as e:\n",
    "            coord.request_stop(e)\n",
    "\n",
    "        coord.request_stop()\n",
    "        coord.join(threads, stop_grace_period_secs=10)\n",
    "\n",
    "\n",
    "def evaluate():\n",
    "    with tf.Graph().as_default() as g:\n",
    "        eval_data = FLAGS.eval_data == 'test'\n",
    "        images, labels = cifar10.inputs(eval_data=eval_data)\n",
    "\n",
    "        logits = cifar10.inference(images)\n",
    "\n",
    "        top_k_op = tf.nn.in_top_k(logits, labels, 1)\n",
    "\n",
    "        variable_average = tf.train.ExponentialMovingAverage(\n",
    "            cifar10.MOVING_AVERAGE_DECAY\n",
    "        )\n",
    "        variable_to_restore = variable_average.variables_to_restore()\n",
    "        saver = tf.train.Saver(variable_to_restore)\n",
    "\n",
    "        summary_op = tf.summary.merge_all()\n",
    "        summary_writer = tf.summary.FileWriter(FLAGS.eval_dir, g)\n",
    "\n",
    "        while True:\n",
    "            eval_once(saver, summary_writer, top_k_op, summary_op)\n",
    "            if FLAGS.run_once:\n",
    "                break\n",
    "            time.sleep(FLAGS.eval_interval_secs)\n",
    "\n",
    "\n",
    "def main(argv=None):\n",
    "    cifar10.maybe_download_and_extract()\n",
    "    if tf.gfile.Exists(FLAGS.eval_dir):\n",
    "        tf.gfile.DeleteRecursively(FLAGS.eval_dir)\n",
    "    tf.gfile.MakeDirs(FLAGS.eval_dir)\n",
    "    evaluate()\n",
    "\n",
    "\n",
    "if __name__ == '__main__':\n",
    "    tf.app.run()\n"
   ]
  },
  {
   "cell_type": "code",
   "execution_count": null,
   "metadata": {},
   "outputs": [],
   "source": []
  }
 ],
 "metadata": {
  "kernelspec": {
   "display_name": "Python 3",
   "language": "python",
   "name": "python3"
  },
  "language_info": {
   "codemirror_mode": {
    "name": "ipython",
    "version": 3
   },
   "file_extension": ".py",
   "mimetype": "text/x-python",
   "name": "python",
   "nbconvert_exporter": "python",
   "pygments_lexer": "ipython3",
   "version": "3.6.1"
  }
 },
 "nbformat": 4,
 "nbformat_minor": 4
}
