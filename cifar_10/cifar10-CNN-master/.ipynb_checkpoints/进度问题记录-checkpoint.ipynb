{
 "cells": [
  {
   "cell_type": "markdown",
   "metadata": {},
   "source": [
    "该模型没有softmax模型 输出层的取名 想不懂如何直接调用模型进行预测 \n",
    "目前感觉需要建立标签和名字的对用字典方便预测 \n",
    "该程序模型偏向于 训练意义 目的偏向于训练得到权重"
   ]
  }
 ],
 "metadata": {
  "kernelspec": {
   "display_name": "Python 3",
   "language": "python",
   "name": "python3"
  },
  "language_info": {
   "codemirror_mode": {
    "name": "ipython",
    "version": 3
   },
   "file_extension": ".py",
   "mimetype": "text/x-python",
   "name": "python",
   "nbconvert_exporter": "python",
   "pygments_lexer": "ipython3",
   "version": "3.6.1"
  }
 },
 "nbformat": 4,
 "nbformat_minor": 4
}
