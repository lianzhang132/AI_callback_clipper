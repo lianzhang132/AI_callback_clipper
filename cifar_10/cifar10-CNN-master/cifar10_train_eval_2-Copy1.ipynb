{
 "cells": [
  {
   "cell_type": "code",
   "execution_count": 1,
   "metadata": {
    "scrolled": false
   },
   "outputs": [
    {
     "name": "stderr",
     "output_type": "stream",
     "text": [
      "/usr/local/lib/python3.6/site-packages/pandas/compat/__init__.py:117: UserWarning: Could not import the lzma module. Your installed Python is incomplete. Attempting to use lzma compression will result in a RuntimeError.\n",
      "  warnings.warn(msg)\n"
     ]
    },
    {
     "name": "stdout",
     "output_type": "stream",
     "text": [
      "WARNING:tensorflow:From /root/code/cifar_10/cifar10-CNN-master/cifar10_input.py:64: The name tf.gfile.Exists is deprecated. Please use tf.io.gfile.exists instead.\n",
      "\n"
     ]
    },
    {
     "name": "stderr",
     "output_type": "stream",
     "text": [
      "W0527 23:42:02.505545 139770851796800 module_wrapper.py:139] From /root/code/cifar_10/cifar10-CNN-master/cifar10_input.py:64: The name tf.gfile.Exists is deprecated. Please use tf.io.gfile.exists instead.\n",
      "\n"
     ]
    },
    {
     "name": "stdout",
     "output_type": "stream",
     "text": [
      "WARNING:tensorflow:From /root/code/cifar_10/cifar10-CNN-master/cifar10_input.py:67: string_input_producer (from tensorflow.python.training.input) is deprecated and will be removed in a future version.\n",
      "Instructions for updating:\n",
      "Queue-based input pipelines have been replaced by `tf.data`. Use `tf.data.Dataset.from_tensor_slices(string_tensor).shuffle(tf.shape(input_tensor, out_type=tf.int64)[0]).repeat(num_epochs)`. If `shuffle=False`, omit the `.shuffle(...)`.\n"
     ]
    },
    {
     "name": "stderr",
     "output_type": "stream",
     "text": [
      "W0527 23:42:02.509016 139770851796800 deprecation.py:323] From /root/code/cifar_10/cifar10-CNN-master/cifar10_input.py:67: string_input_producer (from tensorflow.python.training.input) is deprecated and will be removed in a future version.\n",
      "Instructions for updating:\n",
      "Queue-based input pipelines have been replaced by `tf.data`. Use `tf.data.Dataset.from_tensor_slices(string_tensor).shuffle(tf.shape(input_tensor, out_type=tf.int64)[0]).repeat(num_epochs)`. If `shuffle=False`, omit the `.shuffle(...)`.\n"
     ]
    },
    {
     "name": "stdout",
     "output_type": "stream",
     "text": [
      "WARNING:tensorflow:From /usr/local/lib/python3.6/site-packages/tensorflow_core/python/training/input.py:277: input_producer (from tensorflow.python.training.input) is deprecated and will be removed in a future version.\n",
      "Instructions for updating:\n",
      "Queue-based input pipelines have been replaced by `tf.data`. Use `tf.data.Dataset.from_tensor_slices(input_tensor).shuffle(tf.shape(input_tensor, out_type=tf.int64)[0]).repeat(num_epochs)`. If `shuffle=False`, omit the `.shuffle(...)`.\n"
     ]
    },
    {
     "name": "stderr",
     "output_type": "stream",
     "text": [
      "W0527 23:42:02.524582 139770851796800 deprecation.py:323] From /usr/local/lib/python3.6/site-packages/tensorflow_core/python/training/input.py:277: input_producer (from tensorflow.python.training.input) is deprecated and will be removed in a future version.\n",
      "Instructions for updating:\n",
      "Queue-based input pipelines have been replaced by `tf.data`. Use `tf.data.Dataset.from_tensor_slices(input_tensor).shuffle(tf.shape(input_tensor, out_type=tf.int64)[0]).repeat(num_epochs)`. If `shuffle=False`, omit the `.shuffle(...)`.\n"
     ]
    },
    {
     "name": "stdout",
     "output_type": "stream",
     "text": [
      "WARNING:tensorflow:From /usr/local/lib/python3.6/site-packages/tensorflow_core/python/training/input.py:189: limit_epochs (from tensorflow.python.training.input) is deprecated and will be removed in a future version.\n",
      "Instructions for updating:\n",
      "Queue-based input pipelines have been replaced by `tf.data`. Use `tf.data.Dataset.from_tensors(tensor).repeat(num_epochs)`.\n"
     ]
    },
    {
     "name": "stderr",
     "output_type": "stream",
     "text": [
      "W0527 23:42:02.528678 139770851796800 deprecation.py:323] From /usr/local/lib/python3.6/site-packages/tensorflow_core/python/training/input.py:189: limit_epochs (from tensorflow.python.training.input) is deprecated and will be removed in a future version.\n",
      "Instructions for updating:\n",
      "Queue-based input pipelines have been replaced by `tf.data`. Use `tf.data.Dataset.from_tensors(tensor).repeat(num_epochs)`.\n"
     ]
    },
    {
     "name": "stdout",
     "output_type": "stream",
     "text": [
      "WARNING:tensorflow:From /usr/local/lib/python3.6/site-packages/tensorflow_core/python/training/input.py:198: QueueRunner.__init__ (from tensorflow.python.training.queue_runner_impl) is deprecated and will be removed in a future version.\n",
      "Instructions for updating:\n",
      "To construct input pipelines, use the `tf.data` module.\n"
     ]
    },
    {
     "name": "stderr",
     "output_type": "stream",
     "text": [
      "W0527 23:42:02.535671 139770851796800 deprecation.py:323] From /usr/local/lib/python3.6/site-packages/tensorflow_core/python/training/input.py:198: QueueRunner.__init__ (from tensorflow.python.training.queue_runner_impl) is deprecated and will be removed in a future version.\n",
      "Instructions for updating:\n",
      "To construct input pipelines, use the `tf.data` module.\n"
     ]
    },
    {
     "name": "stdout",
     "output_type": "stream",
     "text": [
      "WARNING:tensorflow:From /usr/local/lib/python3.6/site-packages/tensorflow_core/python/training/input.py:198: add_queue_runner (from tensorflow.python.training.queue_runner_impl) is deprecated and will be removed in a future version.\n",
      "Instructions for updating:\n",
      "To construct input pipelines, use the `tf.data` module.\n"
     ]
    },
    {
     "name": "stderr",
     "output_type": "stream",
     "text": [
      "W0527 23:42:02.540748 139770851796800 deprecation.py:323] From /usr/local/lib/python3.6/site-packages/tensorflow_core/python/training/input.py:198: add_queue_runner (from tensorflow.python.training.queue_runner_impl) is deprecated and will be removed in a future version.\n",
      "Instructions for updating:\n",
      "To construct input pipelines, use the `tf.data` module.\n"
     ]
    },
    {
     "name": "stdout",
     "output_type": "stream",
     "text": [
      "WARNING:tensorflow:From /root/code/cifar_10/cifar10-CNN-master/cifar10_input.py:40: FixedLengthRecordReader.__init__ (from tensorflow.python.ops.io_ops) is deprecated and will be removed in a future version.\n",
      "Instructions for updating:\n",
      "Queue-based input pipelines have been replaced by `tf.data`. Use `tf.data.FixedLengthRecordDataset`.\n"
     ]
    },
    {
     "name": "stderr",
     "output_type": "stream",
     "text": [
      "W0527 23:42:02.551306 139770851796800 deprecation.py:323] From /root/code/cifar_10/cifar10-CNN-master/cifar10_input.py:40: FixedLengthRecordReader.__init__ (from tensorflow.python.ops.io_ops) is deprecated and will be removed in a future version.\n",
      "Instructions for updating:\n",
      "Queue-based input pipelines have been replaced by `tf.data`. Use `tf.data.FixedLengthRecordDataset`.\n"
     ]
    },
    {
     "name": "stdout",
     "output_type": "stream",
     "text": [
      "WARNING:tensorflow:From /root/code/cifar_10/cifar10-CNN-master/cifar10_input.py:78: The name tf.random_crop is deprecated. Please use tf.image.random_crop instead.\n",
      "\n"
     ]
    },
    {
     "name": "stderr",
     "output_type": "stream",
     "text": [
      "W0527 23:42:02.575350 139770851796800 module_wrapper.py:139] From /root/code/cifar_10/cifar10-CNN-master/cifar10_input.py:78: The name tf.random_crop is deprecated. Please use tf.image.random_crop instead.\n",
      "\n"
     ]
    },
    {
     "name": "stdout",
     "output_type": "stream",
     "text": [
      "WARNING:tensorflow:From /usr/local/lib/python3.6/site-packages/tensorflow_core/python/ops/image_ops_impl.py:1518: div (from tensorflow.python.ops.math_ops) is deprecated and will be removed in a future version.\n",
      "Instructions for updating:\n",
      "Deprecated in favor of operator or tf.math.divide.\n"
     ]
    },
    {
     "name": "stderr",
     "output_type": "stream",
     "text": [
      "W0527 23:42:02.672664 139770851796800 deprecation.py:323] From /usr/local/lib/python3.6/site-packages/tensorflow_core/python/ops/image_ops_impl.py:1518: div (from tensorflow.python.ops.math_ops) is deprecated and will be removed in a future version.\n",
      "Instructions for updating:\n",
      "Deprecated in favor of operator or tf.math.divide.\n"
     ]
    },
    {
     "name": "stdout",
     "output_type": "stream",
     "text": [
      "WARNING:tensorflow:From /root/code/cifar_10/cifar10-CNN-master/cifar10_input.py:95: shuffle_batch (from tensorflow.python.training.input) is deprecated and will be removed in a future version.\n",
      "Instructions for updating:\n",
      "Queue-based input pipelines have been replaced by `tf.data`. Use `tf.data.Dataset.shuffle(min_after_dequeue).batch(batch_size)`.\n"
     ]
    },
    {
     "name": "stderr",
     "output_type": "stream",
     "text": [
      "W0527 23:42:02.680355 139770851796800 deprecation.py:323] From /root/code/cifar_10/cifar10-CNN-master/cifar10_input.py:95: shuffle_batch (from tensorflow.python.training.input) is deprecated and will be removed in a future version.\n",
      "Instructions for updating:\n",
      "Queue-based input pipelines have been replaced by `tf.data`. Use `tf.data.Dataset.shuffle(min_after_dequeue).batch(batch_size)`.\n"
     ]
    },
    {
     "name": "stdout",
     "output_type": "stream",
     "text": [
      "WARNING:tensorflow:From /root/code/cifar_10/cifar10-CNN-master/cifar10_input.py:96: The name tf.summary.image is deprecated. Please use tf.compat.v1.summary.image instead.\n",
      "\n"
     ]
    },
    {
     "name": "stderr",
     "output_type": "stream",
     "text": [
      "W0527 23:42:02.712965 139770851796800 module_wrapper.py:139] From /root/code/cifar_10/cifar10-CNN-master/cifar10_input.py:96: The name tf.summary.image is deprecated. Please use tf.compat.v1.summary.image instead.\n",
      "\n"
     ]
    },
    {
     "name": "stdout",
     "output_type": "stream",
     "text": [
      "WARNING:tensorflow:From /root/code/cifar_10/cifar10-CNN-master/cifar10_model.py:31: The name tf.truncated_normal is deprecated. Please use tf.random.truncated_normal instead.\n",
      "\n"
     ]
    },
    {
     "name": "stderr",
     "output_type": "stream",
     "text": [
      "W0527 23:42:02.722246 139770851796800 module_wrapper.py:139] From /root/code/cifar_10/cifar10-CNN-master/cifar10_model.py:31: The name tf.truncated_normal is deprecated. Please use tf.random.truncated_normal instead.\n",
      "\n"
     ]
    },
    {
     "name": "stdout",
     "output_type": "stream",
     "text": [
      "WARNING:tensorflow:From /root/code/cifar_10/cifar10-CNN-master/cifar10_model.py:34: The name tf.summary.histogram is deprecated. Please use tf.compat.v1.summary.histogram instead.\n",
      "\n"
     ]
    },
    {
     "name": "stderr",
     "output_type": "stream",
     "text": [
      "W0527 23:42:02.752978 139770851796800 module_wrapper.py:139] From /root/code/cifar_10/cifar10-CNN-master/cifar10_model.py:34: The name tf.summary.histogram is deprecated. Please use tf.compat.v1.summary.histogram instead.\n",
      "\n"
     ]
    },
    {
     "name": "stdout",
     "output_type": "stream",
     "text": [
      "WARNING:tensorflow:From /root/code/cifar_10/cifar10-CNN-master/cifar10_model.py:38: The name tf.nn.max_pool is deprecated. Please use tf.nn.max_pool2d instead.\n",
      "\n"
     ]
    },
    {
     "name": "stderr",
     "output_type": "stream",
     "text": [
      "W0527 23:42:02.761587 139770851796800 module_wrapper.py:139] From /root/code/cifar_10/cifar10-CNN-master/cifar10_model.py:38: The name tf.nn.max_pool is deprecated. Please use tf.nn.max_pool2d instead.\n",
      "\n"
     ]
    },
    {
     "name": "stdout",
     "output_type": "stream",
     "text": [
      "WARNING:tensorflow:From /root/code/cifar_10/cifar10-CNN-master/cifar10_model.py:113: The name tf.train.exponential_decay is deprecated. Please use tf.compat.v1.train.exponential_decay instead.\n",
      "\n"
     ]
    },
    {
     "name": "stderr",
     "output_type": "stream",
     "text": [
      "W0527 23:42:02.872882 139770851796800 module_wrapper.py:139] From /root/code/cifar_10/cifar10-CNN-master/cifar10_model.py:113: The name tf.train.exponential_decay is deprecated. Please use tf.compat.v1.train.exponential_decay instead.\n",
      "\n"
     ]
    },
    {
     "name": "stdout",
     "output_type": "stream",
     "text": [
      "WARNING:tensorflow:From /root/code/cifar_10/cifar10-CNN-master/cifar10_model.py:117: The name tf.train.GradientDescentOptimizer is deprecated. Please use tf.compat.v1.train.GradientDescentOptimizer instead.\n",
      "\n"
     ]
    },
    {
     "name": "stderr",
     "output_type": "stream",
     "text": [
      "W0527 23:42:02.885623 139770851796800 module_wrapper.py:139] From /root/code/cifar_10/cifar10-CNN-master/cifar10_model.py:117: The name tf.train.GradientDescentOptimizer is deprecated. Please use tf.compat.v1.train.GradientDescentOptimizer instead.\n",
      "\n"
     ]
    },
    {
     "name": "stdout",
     "output_type": "stream",
     "text": [
      "WARNING:tensorflow:From <ipython-input-1-bb01442a5b9d>:42: start_queue_runners (from tensorflow.python.training.queue_runner_impl) is deprecated and will be removed in a future version.\n",
      "Instructions for updating:\n",
      "To construct input pipelines, use the `tf.data` module.\n"
     ]
    },
    {
     "name": "stderr",
     "output_type": "stream",
     "text": [
      "W0527 23:42:03.206072 139770851796800 deprecation.py:323] From <ipython-input-1-bb01442a5b9d>:42: start_queue_runners (from tensorflow.python.training.queue_runner_impl) is deprecated and will be removed in a future version.\n",
      "Instructions for updating:\n",
      "To construct input pipelines, use the `tf.data` module.\n"
     ]
    },
    {
     "name": "stdout",
     "output_type": "stream",
     "text": [
      "index: 0  loss_value: 2.3005853  accuracy_value: 0.1640625\n",
      "index: 1000  loss_value: 1.5513673  accuracy_value: 0.4921875\n",
      "index: 2000  loss_value: 1.2664709  accuracy_value: 0.5859375\n",
      "index: 3000  loss_value: 1.0671635  accuracy_value: 0.609375\n",
      "index: 4000  loss_value: 0.8124424  accuracy_value: 0.71875\n",
      "index: 5000  loss_value: 0.8909428  accuracy_value: 0.65625\n",
      "index: 6000  loss_value: 0.72484946  accuracy_value: 0.7265625\n",
      "index: 7000  loss_value: 0.7682812  accuracy_value: 0.734375\n",
      "index: 8000  loss_value: 0.7315033  accuracy_value: 0.7734375\n",
      "index: 9000  loss_value: 0.75681144  accuracy_value: 0.7265625\n",
      "index: 10000  loss_value: 0.61363333  accuracy_value: 0.7890625\n",
      "index: 11000  loss_value: 0.7419093  accuracy_value: 0.7890625\n",
      "index: 12000  loss_value: 0.41576117  accuracy_value: 0.859375\n",
      "index: 13000  loss_value: 0.634439  accuracy_value: 0.78125\n",
      "index: 14000  loss_value: 0.8282595  accuracy_value: 0.7421875\n",
      "index: 15000  loss_value: 0.66876316  accuracy_value: 0.7890625\n",
      "index: 16000  loss_value: 0.56913936  accuracy_value: 0.8125\n",
      "index: 17000  loss_value: 0.43892193  accuracy_value: 0.84375\n",
      "index: 18000  loss_value: 0.5638392  accuracy_value: 0.7890625\n",
      "index: 19000  loss_value: 0.49799547  accuracy_value: 0.828125\n",
      "index: 20000  loss_value: 0.5024693  accuracy_value: 0.828125\n",
      "index: 21000  loss_value: 0.41619498  accuracy_value: 0.8515625\n",
      "index: 22000  loss_value: 0.4957687  accuracy_value: 0.7890625\n",
      "index: 23000  loss_value: 0.27795336  accuracy_value: 0.921875\n",
      "index: 24000  loss_value: 0.40298054  accuracy_value: 0.8359375\n",
      "index: 25000  loss_value: 0.43598613  accuracy_value: 0.84375\n",
      "index: 26000  loss_value: 0.5090601  accuracy_value: 0.8046875\n",
      "index: 27000  loss_value: 0.54061973  accuracy_value: 0.78125\n",
      "index: 28000  loss_value: 0.42164713  accuracy_value: 0.8671875\n",
      "index: 29000  loss_value: 0.46751708  accuracy_value: 0.828125\n",
      "index: 30000  loss_value: 0.44989032  accuracy_value: 0.8515625\n",
      "index: 31000  loss_value: 0.3903997  accuracy_value: 0.859375\n",
      "index: 32000  loss_value: 0.3167927  accuracy_value: 0.90625\n",
      "index: 33000  loss_value: 0.3148609  accuracy_value: 0.8828125\n",
      "index: 34000  loss_value: 0.3379429  accuracy_value: 0.8828125\n",
      "index: 35000  loss_value: 0.30544767  accuracy_value: 0.890625\n",
      "index: 36000  loss_value: 0.40090546  accuracy_value: 0.859375\n",
      "index: 37000  loss_value: 0.56297594  accuracy_value: 0.78125\n",
      "index: 38000  loss_value: 0.26989472  accuracy_value: 0.8828125\n",
      "index: 39000  loss_value: 0.4115079  accuracy_value: 0.8984375\n",
      "index: 40000  loss_value: 0.25638652  accuracy_value: 0.921875\n",
      "index: 41000  loss_value: 0.2883407  accuracy_value: 0.90625\n",
      "index: 42000  loss_value: 0.44303036  accuracy_value: 0.859375\n",
      "index: 43000  loss_value: 0.3804998  accuracy_value: 0.8515625\n",
      "index: 44000  loss_value: 0.34065646  accuracy_value: 0.90625\n",
      "index: 45000  loss_value: 0.4094869  accuracy_value: 0.84375\n",
      "index: 46000  loss_value: 0.33011103  accuracy_value: 0.859375\n",
      "index: 47000  loss_value: 0.32659656  accuracy_value: 0.8984375\n",
      "index: 48000  loss_value: 0.3830733  accuracy_value: 0.859375\n",
      "index: 49000  loss_value: 0.37267798  accuracy_value: 0.8671875\n",
      "index: 50000  loss_value: 0.3121796  accuracy_value: 0.8828125\n"
     ]
    },
    {
     "data": {
      "image/png": "[encoded data removed]",
      "text/plain": [
       "<Figure size 1440x720 with 1 Axes>"
      ]
     },
     "metadata": {
      "needs_background": "light"
     },
     "output_type": "display_data"
    },
    {
     "data": {
      "text/plain": [
       "<Figure size 432x288 with 0 Axes>"
      ]
     },
     "metadata": {},
     "output_type": "display_data"
    },
    {
     "data": {
      "image/png": "[encoded data removed]",
      "text/plain": [
       "<Figure size 432x288 with 1 Axes>"
      ]
     },
     "metadata": {
      "needs_background": "light"
     },
     "output_type": "display_data"
    },
    {
     "name": "stdout",
     "output_type": "stream",
     "text": [
      "The latency is   7328.735014秒\n",
      "WARNING:tensorflow:From /root/code/cifar_10/cifar10-CNN-master/cifar10_input.py:126: The name tf.image.resize_image_with_crop_or_pad is deprecated. Please use tf.image.resize_with_crop_or_pad instead.\n",
      "\n"
     ]
    },
    {
     "name": "stderr",
     "output_type": "stream",
     "text": [
      "W0528 01:44:11.273551 139770851796800 module_wrapper.py:139] From /root/code/cifar_10/cifar10-CNN-master/cifar10_input.py:126: The name tf.image.resize_image_with_crop_or_pad is deprecated. Please use tf.image.resize_with_crop_or_pad instead.\n",
      "\n"
     ]
    },
    {
     "name": "stdout",
     "output_type": "stream",
     "text": [
      "WARNING:tensorflow:From /root/code/cifar_10/cifar10-CNN-master/cifar10_input.py:136: batch (from tensorflow.python.training.input) is deprecated and will be removed in a future version.\n",
      "Instructions for updating:\n",
      "Queue-based input pipelines have been replaced by `tf.data`. Use `tf.data.Dataset.batch(batch_size)` (or `padded_batch(...)` if `dynamic_pad=True`).\n"
     ]
    },
    {
     "name": "stderr",
     "output_type": "stream",
     "text": [
      "W0528 01:44:11.305596 139770851796800 deprecation.py:323] From /root/code/cifar_10/cifar10-CNN-master/cifar10_input.py:136: batch (from tensorflow.python.training.input) is deprecated and will be removed in a future version.\n",
      "Instructions for updating:\n",
      "Queue-based input pipelines have been replaced by `tf.data`. Use `tf.data.Dataset.batch(batch_size)` (or `padded_batch(...)` if `dynamic_pad=True`).\n"
     ]
    },
    {
     "name": "stdout",
     "output_type": "stream",
     "text": [
      "INFO:tensorflow:Restoring parameters from signal_GPU/saver/model.ckpt\n"
     ]
    },
    {
     "name": "stderr",
     "output_type": "stream",
     "text": [
      "I0528 01:44:11.434020 139770851796800 saver.py:1284] Restoring parameters from signal_GPU/saver/model.ckpt\n"
     ]
    },
    {
     "name": "stdout",
     "output_type": "stream",
     "text": [
      "precision= 0.8183092948717948\n"
     ]
    },
    {
     "ename": "SystemExit",
     "evalue": "",
     "output_type": "error",
     "traceback": [
      "An exception has occurred, use %tb to see the full traceback.\n",
      "\u001b[0;31mSystemExit\u001b[0m\n"
     ]
    },
    {
     "name": "stderr",
     "output_type": "stream",
     "text": [
      "/usr/local/lib/python3.6/site-packages/IPython/core/interactiveshell.py:3327: UserWarning: To exit: use 'exit', 'quit', or Ctrl-D.\n",
      "  warn(\"To exit: use 'exit', 'quit', or Ctrl-D.\", stacklevel=1)\n"
     ]
    },
    {
     "data": {
      "text/plain": [
       "<Figure size 432x288 with 0 Axes>"
      ]
     },
     "metadata": {},
     "output_type": "display_data"
    }
   ],
   "source": [
    "# coding:utf-8\n",
    "import tensorflow as tf\n",
    "import numpy as np\n",
    "import cifar10_input\n",
    "import cifar10_model\n",
    "import matplotlib.pyplot as plt\n",
    "import os\n",
    "from datetime import datetime\n",
    "# 使用GPU 0\n",
    "os.environ[\"CUDA_VISIBLE_DEVICES\"] = \"0\"\n",
    "\n",
    "EPOCHES = 50001\n",
    "DATA_DIR = cifar10_model.DATA_DIR\n",
    "BATCH_SIZE = cifar10_model.BATCH_SIZE\n",
    "\n",
    "\n",
    "# 训练\n",
    "def train():\n",
    "    # 读取图片并带入网络计算\n",
    "    images, labels = cifar10_input.distorted_inputs(DATA_DIR, BATCH_SIZE)\n",
    "    t_logits = cifar10_model.inference(images)\n",
    "    # 损失值\n",
    "    t_loss = cifar10_model.loss(t_logits, labels)\n",
    "    tf.summary.scalar('loss_value', t_loss)\n",
    "    # 优化器\n",
    "    global_step = tf.Variable(0, trainable=False)\n",
    "    t_optimizer = cifar10_model.train_step(t_loss, global_step)\n",
    "    # 准确值\n",
    "    t_accuracy = cifar10_model.accuracy(t_logits, labels) # 训练集正确率计算\n",
    "    tf.summary.scalar('accuracy_value', t_accuracy)\n",
    "\n",
    "    merged = tf.summary.merge_all()\n",
    "    saver = tf.train.Saver()\n",
    "    Accuracy_value = []\n",
    "    Loss_value = []\n",
    "    # 设定定量的GPU显存使用量\n",
    "    config = tf.ConfigProto()\n",
    "    config.gpu_options.per_process_gpu_memory_fraction = 0.5\n",
    "    with tf.Session(config=config) as session:\n",
    "        session.run(tf.global_variables_initializer())\n",
    "        coord = tf.train.Coordinator()\n",
    "        threads = tf.train.start_queue_runners(sess=session, coord=coord)\n",
    "        train_writer = tf.summary.FileWriter('signal_GPU/logs', session.graph)\n",
    "        for index in range(EPOCHES):\n",
    "            _, loss_value, accuracy_value, summary = session.run([t_optimizer, t_loss, t_accuracy, merged])\n",
    "            Accuracy_value.append(accuracy_value)\n",
    "            Loss_value.append(loss_value)\n",
    "            if index % 1000 == 0:\n",
    "                print('index:', index, ' loss_value:', loss_value, ' accuracy_value:', accuracy_value)\n",
    "            train_writer.add_summary(summary, index)\n",
    "        saver.save(session, os.path.join('signal_GPU/saver', 'model.ckpt'))\n",
    "        # accuracy value\n",
    "        plt.figure(figsize=(20, 10))\n",
    "        plt.plot(range(EPOCHES), Accuracy_value)\n",
    "        plt.xlabel('training step')\n",
    "        plt.ylabel('accuracy value')\n",
    "        plt.title('the accuracy value of training data')\n",
    "        plt.show()\n",
    "        plt.savefig('signal_GPU/results/accuracy.png')\n",
    "        # loss value\n",
    "        plt.figure()\n",
    "        plt.plot(range(EPOCHES), Loss_value)\n",
    "        plt.xlabel('training value')\n",
    "        plt.ylabel('loss value')\n",
    "        plt.title('the value of the loss function of the training data')\n",
    "        plt.show()\n",
    "        plt.savefig('signal_GPU/results/loss.png')\n",
    "        #\n",
    "        train_writer.close()\n",
    "        coord.request_stop()\n",
    "        coord.join(threads)\n",
    "#         if index % 1000 == 0:\n",
    "#             coord.request_stop()\n",
    "\n",
    "\n",
    "# 验证\n",
    "def evaluation():\n",
    "    with tf.Graph().as_default():\n",
    "        n_test = cifar10_input.NUM_EXAMPLES_PER_EPOCH_FOR_EVAL\n",
    "        eval_images, eval_lables = cifar10_input.inputs(DATA_DIR, BATCH_SIZE)\n",
    "        eval_logits = cifar10_model.inference(eval_images)\n",
    "        # tf.nn.in_top_k(predictions, targets, k, name=None)\n",
    "        # 每个样本的预测结果的前k个最大的数里面是否包括包含targets预测中的标签，一般取1，\n",
    "        # 即取预测最大概率的索引与标签的对比\n",
    "        top_k_op = tf.nn.in_top_k(eval_logits, eval_lables, 1)\n",
    "        saver = tf.train.Saver()\n",
    "        with tf.Session() as session:\n",
    "            ckpt = tf.train.get_checkpoint_state('signal_GPU/saver')\n",
    "            if ckpt and ckpt.model_checkpoint_path:\n",
    "                saver.restore(session, ckpt.model_checkpoint_path)\n",
    "            coord = tf.train.Coordinator()\n",
    "            threads = tf.train.start_queue_runners(sess=session, coord=coord)\n",
    "            num_iter = int(n_test / BATCH_SIZE)\n",
    "            true_count = 0\n",
    "            for step in range(num_iter):\n",
    "                predictions = session.run(top_k_op)\n",
    "                true_count = true_count + np.sum(predictions)\n",
    "            precision = true_count / (num_iter * BATCH_SIZE)\n",
    "            print('precision=', precision)\n",
    "            coord.request_stop()\n",
    "            coord.join(threads)\n",
    "\n",
    "\n",
    "def main(argv=None):\n",
    "    start = datetime.now()\n",
    "    train()\n",
    "    end = datetime.now()\n",
    "    latency = (end - start).total_seconds()\n",
    "    print(\"The latency is   \"+str(latency)+\"秒\")\n",
    "    evaluation()\n",
    "\n",
    "\n",
    "if __name__ == '__main__':\n",
    "    tf.app.run()\n"
   ]
  },
  {
   "cell_type": "code",
   "execution_count": null,
   "metadata": {},
   "outputs": [],
   "source": []
  }
 ],
 "metadata": {
  "kernelspec": {
   "display_name": "Python 3",
   "language": "python",
   "name": "python3"
  },
  "language_info": {
   "codemirror_mode": {
    "name": "ipython",
    "version": 3
   },
   "file_extension": ".py",
   "mimetype": "text/x-python",
   "name": "python",
   "nbconvert_exporter": "python",
   "pygments_lexer": "ipython3",
   "version": "3.6.1"
  }
 },
 "nbformat": 4,
 "nbformat_minor": 4
}
