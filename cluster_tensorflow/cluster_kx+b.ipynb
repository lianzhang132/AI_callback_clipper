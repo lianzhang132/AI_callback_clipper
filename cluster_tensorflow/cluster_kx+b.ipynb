{
 "cells": [
  {
   "cell_type": "code",
   "execution_count": null,
   "metadata": {},
   "outputs": [],
   "source": [
    "import tensorflow as tf\n",
    "with tf.device(\"/job:worker/task:1\"):\n",
    "        x = tf.Variable(tf.ones([2, 2]))\n",
    "        y = tf.Variable(tf.ones([2, 2]))\n",
    "\n",
    "with tf.device(\"/job:worker/task:0\"):\n",
    "    z = tf.matmul(x, y) + x\n",
    "\n",
    "with tf.device(\"/job:worker/task:1\"):\n",
    "    z = tf.matmul(z, x) + x\n",
    "\n",
    "with tf.Session(\"grpc://localhost:2223\") as sess:\n",
    "    sess.run(tf.global_variables_initializer())\n",
    "    val = sess.run(z)\n",
    "    print(val)\n"
   ]
  },
  {
   "cell_type": "code",
   "execution_count": 1,
   "metadata": {},
   "outputs": [
    {
     "data": {
      "text/plain": [
       "18742"
      ]
     },
     "execution_count": 1,
     "metadata": {},
     "output_type": "execute_result"
    }
   ],
   "source": [
    "import os\n",
    "os.getpid()"
   ]
  },
  {
   "cell_type": "code",
   "execution_count": null,
   "metadata": {},
   "outputs": [],
   "source": [
    "import tensorflow as tf\n",
    "with tf.Session(\"grpc://localhost:2223\") as sess:\n",
    "    sess.run(tf.global_variables_initializer())\n",
    "    val = sess.run(z)\n",
    "    print(val)"
   ]
  },
  {
   "cell_type": "code",
   "execution_count": null,
   "metadata": {},
   "outputs": [],
   "source": [
    "import tensorflow as tf\n",
    "import numpy as np \n",
    "\n",
    "np.random.seed(5)  \n",
    "sx = np.linspace(-1, 1, 100)  \n",
    "sy = 2 * sx + 1.0 + np.random.randn(100) * 0.4\n",
    "k = tf.Variable(1.0, name='k')\n",
    "b = tf.Variable(0, name='b',dtype=tf.float32)\n",
    "\n",
    "x = tf.placeholder(dtype=tf.float32,name='x')\n",
    "y = tf.placeholder(dtype=tf.float32,name='y')\n",
    "\n",
    "yp = tf.add(tf.multiply(x, k), b, name='yp')\n",
    "# 训练模型，设置训练参数(迭代次数、学习率)\n",
    "train_epoch = 10\n",
    "rate = 0.05\n",
    "# 定义均方差为损失函数\n",
    "loss = tf.reduce_mean(tf.square(y - yp))\n",
    "# 定义梯度下降优化器，并传入参数学习率和损失函数\n",
    "optimizer = tf.train.GradientDescentOptimizer(rate).minimize(loss)\n",
    "init = tf.global_variables_initializer()\n",
    "\n",
    "with tf.Session(\"grpc://localhost:2222\") as sess:\n",
    "    with tf.device(\"/job:worker/task:0\"):\n",
    "        sess.run(init)\n",
    "        for _ in range(10):\n",
    "            for x1, y1 in zip(sx, sy):\n",
    "                sess.run(optimizer, feed_dict={x: x1, y: y1})\n",
    "            \n",
    "        print(\"k : %s\" % k.eval(session=sess))\n",
    "        print(\"b : %s\" % b.eval(session=sess))"
   ]
  },
  {
   "cell_type": "markdown",
   "metadata": {},
   "source": [
    "关闭脚命令\n",
    "ps -ef | grep python| grep 脚本名称 | awk {'print $2'} | xargs kill"
   ]
  }
 ],
 "metadata": {
  "kernelspec": {
   "display_name": "Python 3",
   "language": "python",
   "name": "python3"
  },
  "language_info": {
   "codemirror_mode": {
    "name": "ipython",
    "version": 3
   },
   "file_extension": ".py",
   "mimetype": "text/x-python",
   "name": "python",
   "nbconvert_exporter": "python",
   "pygments_lexer": "ipython3",
   "version": "3.6.1"
  }
 },
 "nbformat": 4,
 "nbformat_minor": 4
}
